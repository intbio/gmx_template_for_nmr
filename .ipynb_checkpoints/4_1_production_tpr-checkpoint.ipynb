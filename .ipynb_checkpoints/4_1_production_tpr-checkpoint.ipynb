{
 "cells": [
  {
   "cell_type": "markdown",
   "metadata": {},
   "source": [
    "## Production tpr files generate\n",
    "- some benchmarking needed first\n",
    " \n",
    " Protocol files are copied from https://github.com/intbio/gmx_protocols/tree/master/amber into\n",
    "Protocols folder.\n",
    "If others are needed modify then in the folder."
   ]
  },
  {
   "cell_type": "code",
   "execution_count": 1,
   "metadata": {},
   "outputs": [],
   "source": [
    "%load_ext autoreload\n",
    "%autoreload 2\n",
    "%matplotlib inline"
   ]
  },
  {
   "cell_type": "code",
   "execution_count": 2,
   "metadata": {},
   "outputs": [
    {
     "data": {
      "application/vnd.jupyter.widget-view+json": {
       "model_id": "0787fe0b66ad4d8da0712f5e694c2ab4",
       "version_major": 2,
       "version_minor": 0
      },
      "text/plain": [
       "_ColormakerRegistry()"
      ]
     },
     "metadata": {},
     "output_type": "display_data"
    },
    {
     "name": "stdout",
     "output_type": "stream",
     "text": [
      "Folder set to   :  h2a-h2b_tm_30DNA\n",
      "Project name    :  h2a-h2b_tm_30DNA\n",
      "SSH host set to : lomo2\n",
      "GMX cmd set with: module load gromacs/2020.1_nompi\n",
      "Force field     : amber14sb_parmbsc1_cufix\n",
      "Force field URL : https://api.github.com/repos/intbio/gromacs_ff/contents/amber14sb_parmbsc1_cufix.ff\n",
      "Run profile     : lomo2-gromacs2020.3-mpi-gpu_volta2\n"
     ]
    },
    {
     "data": {
      "text/markdown": [
       "\n",
       "# MD simulations of H2A-H2B with 30 bp of DNA, tails truncated\n",
       "- AMBER14SB force field\n",
       "- 150 mM NaCl\n",
       "- box 2nm\n"
      ],
      "text/plain": [
       "<IPython.core.display.Markdown object>"
      ]
     },
     "metadata": {},
     "output_type": "display_data"
    }
   ],
   "source": [
    "from myimports import *\n",
    "display(Markdown(descr))\n",
    "\n"
   ]
  },
  {
   "cell_type": "code",
   "execution_count": 3,
   "metadata": {},
   "outputs": [],
   "source": [
    "# %%bash\n",
    "#rm -rf MDProtocols"
   ]
  },
  {
   "cell_type": "code",
   "execution_count": 4,
   "metadata": {},
   "outputs": [],
   "source": [
    "#Set protocols URL\n",
    "# prot_url=\"https://api.github.com/repos/intbio/gmx_protocols/contents/amber_gmx2020\""
   ]
  },
  {
   "cell_type": "code",
   "execution_count": 5,
   "metadata": {},
   "outputs": [],
   "source": [
    "# get_files_from_git(prot_url,'MDProtocols/')"
   ]
  },
  {
   "cell_type": "markdown",
   "metadata": {},
   "source": [
    "## 7_Production run 10 000 ns - prepare files"
   ]
  },
  {
   "cell_type": "code",
   "execution_count": 6,
   "metadata": {},
   "outputs": [
    {
     "name": "stdout",
     "output_type": "stream",
     "text": [
      "processing topology...\n",
      "turning H bonds into constraints...\n",
      "turning H bonds into constraints...\n",
      "turning H bonds into constraints...\n",
      "turning H bonds into constraints...\n",
      "turning H bonds into constraints...\n",
      "turning H bonds into constraints...\n",
      "turning H bonds into constraints...\n",
      "Determining Verlet buffer for a tolerance of 0.005 kJ/mol/ps at 300 K\n",
      "Calculated rlist for 1x1 atom pair-list as 0.837 nm, buffer size 0.037 nm\n",
      "Set rlist, assuming 4x4 atom pair-list, to 0.801 nm, buffer size 0.001 nm\n",
      "Note that mdrun will redetermine rlist based on the actual pair-list setup\n",
      "Calculating fourier grid dimensions for X Y Z\n",
      "Using a fourier grid of 96x96x96, spacing 0.110 0.110 0.110\n"
     ]
    },
    {
     "name": "stderr",
     "output_type": "stream",
     "text": [
      "(Un)Loading module for modern CPU\n",
      "                      :-) GROMACS - gmx grompp, 2020.1 (-:\n",
      "\n",
      "                            GROMACS is written by:\n",
      "     Emile Apol      Rossen Apostolov      Paul Bauer     Herman J.C. Berendsen\n",
      "    Par Bjelkmar      Christian Blau   Viacheslav Bolnykh     Kevin Boyd    \n",
      " Aldert van Buuren   Rudi van Drunen     Anton Feenstra       Alan Gray     \n",
      "  Gerrit Groenhof     Anca Hamuraru    Vincent Hindriksen  M. Eric Irrgang  \n",
      "  Aleksei Iupinov   Christoph Junghans     Joe Jordan     Dimitrios Karkoulis\n",
      "    Peter Kasson        Jiri Kraus      Carsten Kutzner      Per Larsson    \n",
      "  Justin A. Lemkul    Viveca Lindahl    Magnus Lundborg     Erik Marklund   \n",
      "    Pascal Merz     Pieter Meulenhoff    Teemu Murtola       Szilard Pall   \n",
      "    Sander Pronk      Roland Schulz      Michael Shirts    Alexey Shvetsov  \n",
      "   Alfons Sijbers     Peter Tieleman      Jon Vincent      Teemu Virolainen \n",
      " Christian Wennberg    Maarten Wolf      Artem Zhmurov   \n",
      "                           and the project leaders:\n",
      "        Mark Abraham, Berk Hess, Erik Lindahl, and David van der Spoel\n",
      "\n",
      "Copyright (c) 1991-2000, University of Groningen, The Netherlands.\n",
      "Copyright (c) 2001-2019, The GROMACS development team at\n",
      "Uppsala University, Stockholm University and\n",
      "the Royal Institute of Technology, Sweden.\n",
      "check out http://www.gromacs.org for more information.\n",
      "\n",
      "GROMACS is free software; you can redistribute it and/or modify it\n",
      "under the terms of the GNU Lesser General Public License\n",
      "as published by the Free Software Foundation; either version 2.1\n",
      "of the License, or (at your option) any later version.\n",
      "\n",
      "GROMACS:      gmx grompp, version 2020.1\n",
      "Executable:   /opt/gromacs/2020.1_nompi/bin/gmx\n",
      "Data prefix:  /opt/gromacs/2020.1_nompi\n",
      "Working dir:  /home/_shared/_projects/gmx_template\n",
      "Command line:\n",
      "  gmx grompp -maxwarn 2 -f MDProtocols/7_prod.mdp -c GMX_run/6_equil.gro -p GMX_system/topol.top -o GMX_run/7_prod.tpr -v -r GMX_run/6_equil.gro -n GMX_system/index.ndx -po GMX_run/mdout_7_prod.mdp -t GMX_run/6_equil.cpt\n",
      "\n",
      "Ignoring obsolete mdp entry 'ns-type'\n",
      "checking input for internal consistency...\n",
      "\n",
      "NOTE 1 [file MDProtocols/7_prod.mdp]:\n",
      "  You have set rlist larger than the interaction cut-off, but you also have\n",
      "  verlet-buffer-tolerance > 0. Will set rlist using verlet-buffer-tolerance.\n",
      "\n",
      "\n",
      "WARNING 1 [file MDProtocols/7_prod.mdp]:\n",
      "  You are generating velocities so I am assuming you are equilibrating a\n",
      "  system. You are using Parrinello-Rahman pressure coupling, but this can\n",
      "  be unstable for equilibration. If your system crashes, try equilibrating\n",
      "  first with Berendsen pressure coupling. If you are not equilibrating the\n",
      "  system, you can probably ignore this warning.\n",
      "\n",
      "Setting the LD random seed to -1683506424\n",
      "Generated 100032 of the 100128 non-bonded parameter combinations\n",
      "Generating 1-4 interactions: fudge = 1\n",
      "Generated 65937 of the 100128 1-4 parameter combinations\n",
      "Excluding 3 bonded neighbours molecule type 'DNA_chain_I'\n",
      "Excluding 3 bonded neighbours molecule type 'DNA_chain_J'\n",
      "Excluding 3 bonded neighbours molecule type 'Protein_chain_C'\n",
      "Excluding 3 bonded neighbours molecule type 'Protein_chain_D'\n",
      "Excluding 2 bonded neighbours molecule type 'SOL'\n",
      "Excluding 2 bonded neighbours molecule type 'SOL'\n",
      "Excluding 2 bonded neighbours molecule type 'SOL'\n",
      "Excluding 2 bonded neighbours molecule type 'SOL'\n",
      "Excluding 2 bonded neighbours molecule type 'SOL'\n",
      "Excluding 2 bonded neighbours molecule type 'SOL'\n",
      "Excluding 2 bonded neighbours molecule type 'SOL'\n",
      "Excluding 1 bonded neighbours molecule type 'NA'\n",
      "Excluding 1 bonded neighbours molecule type 'CL'\n",
      "processing coordinates...\n",
      "double-checking input for internal consistency...\n",
      "Setting gen_seed to 112474721\n",
      "Velocities were taken from a Maxwell distribution at 300 K\n",
      "\n",
      "NOTE 2 [file topol.top, line 60]:\n",
      "  You are combining position restraints with Parrinello-Rahman pressure\n",
      "  coupling, which can lead to instabilities. If you really want to combine\n",
      "  position restraints with pressure coupling, we suggest to use Berendsen\n",
      "  pressure coupling instead.\n",
      "\n",
      "Reading position restraint coords from GMX_run/6_equil.gro\n",
      "renumbering atomtypes...\n",
      "converting bonded parameters...\n",
      "\n",
      "NOTE 3 [file topol.top, line 60]:\n",
      "  The bond in molecule-type DNA_chain_I between atoms 14 C2 and 15 O2 has\n",
      "  an estimated oscillational period of 1.9e-02 ps, which is less than 10\n",
      "  times the time step of 2.0e-03 ps.\n",
      "  Maybe you forgot to change the constraints mdp option.\n",
      "\n",
      "initialising group options...\n",
      "processing index file...\n",
      "Pull group 1 'a_11' has 1 atoms\n",
      "Pull group 2 'a_1888' has 1 atoms\n",
      "Pull group 3 'a_937' has 1 atoms\n",
      "Pull group 4 'a_968' has 1 atoms\n",
      "Making dummy/rest group for Acceleration containing 86212 elements\n",
      "Making dummy/rest group for Freeze containing 86212 elements\n",
      "Making dummy/rest group for Energy Mon. containing 86212 elements\n",
      "Number of degrees of freedom in T-Coupling group System is 175297.00\n",
      "Making dummy/rest group for User1 containing 86212 elements\n",
      "Making dummy/rest group for User2 containing 86212 elements\n",
      "Making dummy/rest group for Compressed X containing 86212 elements\n",
      "Making dummy/rest group for Or. Res. Fit containing 86212 elements\n",
      "Making dummy/rest group for QMMM containing 86212 elements\n",
      "T-Coupling       has 1 element(s): System\n",
      "Energy Mon.      has 1 element(s): rest\n",
      "Acceleration     has 1 element(s): rest\n",
      "Freeze           has 1 element(s): rest\n",
      "User1            has 1 element(s): rest\n",
      "User2            has 1 element(s): rest\n",
      "VCM              has 1 element(s): System\n",
      "Compressed X     has 1 element(s): rest\n",
      "Or. Res. Fit     has 1 element(s): rest\n",
      "QMMM             has 1 element(s): rest\n",
      "\n",
      "NOTE 4 [file MDProtocols/7_prod.mdp]:\n",
      "  Removing center of mass motion in the presence of position restraints\n",
      "  might cause artifacts. When you are using position restraints to\n",
      "  equilibrate a macro-molecule, the artifacts are usually negligible.\n",
      "\n",
      "getting data from old trajectory ...\n",
      "Reading Coordinates and Box size from old trajectory\n",
      "Will read whole trajectory\n",
      "Velocities generated: ignoring velocities in input trajectory\n",
      "\r",
      "Last frame         -1 time  200.000   \n",
      "Using frame at t = 200 ps\n",
      "Starting time for run is 0 ps\n",
      "Pull group  natoms  pbc atom  distance at start  reference at t=0\n",
      "       1         1         0\n",
      "       2         1         0       0.912 nm          0.877 nm\n",
      "       3         1         0\n",
      "       4         1         0       0.971 nm          0.930 nm\n",
      "Estimate for the relative computational load of the PME mesh part: 0.39\n",
      "\n",
      "NOTE 5 [file MDProtocols/7_prod.mdp]:\n",
      "  This run will generate roughly 3876 Mb of data\n",
      "\n",
      "writing run input file...\n",
      "\n",
      "There were 5 notes\n",
      "\n",
      "There was 1 warning\n",
      "\n",
      "Back Off! I just backed up GMX_run/7_prod.tpr to GMX_run/#7_prod.tpr.1#\n",
      "\n",
      "GROMACS reminds you: \"There's No Room For the Weak\" (Joy Division)\n",
      "\n"
     ]
    }
   ],
   "source": [
    "%%bash -s \"$set_gmx_cmd\" \"$gen_parallel_tpr\"\n",
    "$1\n",
    "#--out out --err err\n",
    "mkdir -p GMX_run\n",
    "gmx grompp -maxwarn 2 -f MDProtocols/7_prod.mdp -c GMX_run/6_equil.gro -p GMX_system/topol.top \\\n",
    "-o GMX_run/7_prod.tpr -v  -r GMX_run/6_equil.gro -n GMX_system/index.ndx -po GMX_run/mdout_7_prod.mdp -t GMX_run/6_equil.cpt\n",
    "\n",
    "#It is useful to generate some files with different velocities for parallel runs\n",
    "if [ \"$2\" = True ]\n",
    "then\n",
    "for i in `seq 0 15`; do\n",
    "gmx grompp -maxwarn 2 -f MDProtocols/7_prod.mdp -c GMX_run/6_equil.gro -p GMX_system/topol.top \\\n",
    "-o GMX_run/7_prod_$i.tpr -v  -r GMX_run/6_equil.gro -n GMX_system/index.ndx -po GMX_run/mdout_7_prod.mdp -t GMX_run/6_equil.cpt\n",
    "done\n",
    "for i in `seq 0 15`; do\n",
    "mkdir -p GMX_run/$i\n",
    "cp GMX_run/7_prod_$i.tpr GMX_run/$i/7_prod.tpr\n",
    "done\n",
    "fi"
   ]
  },
  {
   "cell_type": "raw",
   "metadata": {},
   "source": [
    "%%bash -s \"$set_gmx_cmd\" \n",
    "#Enble this section if you want small diagnostic run files generated\n",
    "$1\n",
    "#For smaller diagnostic runs we also prepare file that will output trj every 10ps\n",
    "gmx grompp -f MDProtocols/7_prod_10ps_out.mdp -c GMX_run/6_equil.gro -p GMX_system/topol.top \\\n",
    "-o GMX_run/7_prod_10ps_out.tpr -v  -r GMX_run/6_equil.gro -n GMX_system/index.ndx -po GMX_run/mdout_7_prod_10ps_out.mdp -t GMX_run/6_equil.cpt\n",
    "\n",
    "\n",
    "#It is useful to generate some files with different velovities for parallel runs\n",
    "for i in `seq 0 15`; do\n",
    "gmx grompp -f MDProtocols/7_prod_10ps_out.mdp -c GMX_run/6_equil.gro -p GMX_system/topol.top \\\n",
    "-o GMX_run/7_prod_10ps_out_$i.tpr -v  -r GMX_run/6_equil.gro -n GMX_system/index.ndx -po GMX_run/mdout_7_prod_10ps_out.mdp -t GMX_run/6_equil.cpt\n",
    "\n",
    "done"
   ]
  },
  {
   "cell_type": "markdown",
   "metadata": {},
   "source": [
    "## Transfer files to supercomputer"
   ]
  },
  {
   "cell_type": "raw",
   "metadata": {},
   "source": [
    "!cp Run_scripts/* GMX_run/"
   ]
  },
  {
   "cell_type": "raw",
   "metadata": {},
   "source": [
    "!ssh $ssh_host \"mkdir -p ~/_scratch/$folder\""
   ]
  },
  {
   "cell_type": "raw",
   "metadata": {},
   "source": [
    "%%bash -s \"$folder\" \"$ssh_host\" --err err --out out\n",
    "#Copy to SC\n",
    "\n",
    "cp Run_scripts/* GMX_run/\n",
    "\n",
    "rsync --exclude '*.xtc' --exclude '*.trr' -r GMX_run $2:~/_scratch/$1/;"
   ]
  },
  {
   "cell_type": "markdown",
   "metadata": {},
   "source": [
    "## Launch,relaunch make a chain of tasks\n",
    "### NOTE: for relaunch, monitor and data pullback - better to use status.ipynb"
   ]
  },
  {
   "cell_type": "markdown",
   "metadata": {},
   "source": [
    "Lomonosov-2 queues https://users.parallel.ru/wiki/pages/22-config\n",
    "compute partition allows max 7 days!.\n",
    "Then we will resume.\n",
    "https://hpc.nih.gov/docs/job_dependencies.html"
   ]
  },
  {
   "cell_type": "raw",
   "metadata": {},
   "source": [
    "#%%bash -s \"$folder\" --out out --err err\n",
    "#ssh lomo2 \"module load slurm gromacs/2018-gcc; cd ~/_scratch/$1/GMX_run; \\\n",
    "#sbatch -p test -t 00:15:00 -N 2 -J $1 lomo2_run.sh 7_prod\""
   ]
  },
  {
   "cell_type": "raw",
   "metadata": {},
   "source": [
    "%%bash -s \"$folder\" \"$ssh_host\"\n",
    "#--out out --err err\n",
    "ssh $2 \"module load slurm gromacs/2018-gcc; cd ~/_scratch/$1/GMX_run; \\\n",
    "sbatch -p compute -t 7-00:00:00 -N 4 -J $1 lomo2_run.sh 7_prod\""
   ]
  },
  {
   "cell_type": "raw",
   "metadata": {},
   "source": [
    "%%bash -s \"$folder\" \"$ssh_host\"\n",
    "#This is for newton\n",
    "cd GMX_run; sbatch -p gpu -c 20 -J $1 newton_run.sh 7_prod"
   ]
  },
  {
   "cell_type": "raw",
   "metadata": {},
   "source": [
    "#get job id\n",
    "print(out)\n",
    "job_idp=re.findall(r'\\d+', out)[0]\n",
    "print(job_idp)"
   ]
  },
  {
   "cell_type": "raw",
   "metadata": {},
   "source": [
    "job_idp=906295"
   ]
  },
  {
   "cell_type": "code",
   "execution_count": 7,
   "metadata": {},
   "outputs": [],
   "source": [
    "#Relaunch\n",
    "#!ssh $ssh_host \"module load slurm gromacs/2018-gcc; cd ~/_scratch/$folder/GMX_run; sbatch -p compute -t 7-00:00:00 -N 4 -J $folder lomo2_run_cont.sh 7_prod\""
   ]
  },
  {
   "cell_type": "raw",
   "metadata": {},
   "source": [
    "%%bash -s \"$folder\" \"$job_idp\" \"$ssh_host\" --out out --err err \n",
    "#OR Make a relaunch chain\n",
    "\n",
    "#ssh $3 \"module load slurm gromacs/2018-gcc; cd ~/_scratch/$1/GMX_run; \\\n",
    "sbatch -p compute -t 7-00:00:00 -N 4 -J $1 --dependency=afterany:$2 lomo2_run_cont.sh 7_prod\""
   ]
  },
  {
   "cell_type": "raw",
   "metadata": {},
   "source": [
    "print(err)"
   ]
  },
  {
   "cell_type": "raw",
   "metadata": {},
   "source": [
    "!ssh $ssh_host \"module load slurm gromacs/2018-gcc; squeue -u \\`whoami\\`\" || echo \"No job in queue\""
   ]
  },
  {
   "cell_type": "markdown",
   "metadata": {},
   "source": [
    "## Monitor\n",
    "\n",
    "Note: It is suggested that for monitoring and relaunch the user makes use of status.ipynb\n",
    "Parts of conde below are deprecated."
   ]
  },
  {
   "cell_type": "raw",
   "metadata": {},
   "source": [
    "job_idp=906295"
   ]
  },
  {
   "cell_type": "raw",
   "metadata": {},
   "source": [
    "%%bash -s \"$folder\"  \"$job_idp\" \"$ssh_host\"  --err err\n",
    "# check job status\n",
    "ssh $3 \"tail -n 10 ~/_scratch/$1/GMX_run/egmx.$2\""
   ]
  },
  {
   "cell_type": "raw",
   "metadata": {},
   "source": [
    "%%bash -s \"$folder\"  \"$job_idp\"  \"$ssh_host\" --err err\n",
    "# check job status\n",
    "ssh $3 \"tail -n 20 ~/_scratch/$1/GMX_run/7_prod.log\""
   ]
  },
  {
   "cell_type": "markdown",
   "metadata": {},
   "source": [
    "### Pull back data for analysis"
   ]
  },
  {
   "cell_type": "raw",
   "metadata": {},
   "source": [
    "%%bash -s \"$folder\" \"$ssh_host\" --err err \n",
    "#Purge # files\n",
    "\n",
    "ssh $2 \"rm -f ~/_scratch/$1/GMX_run/\\#*; ls ~/_scratch/$1/GMX_run/\""
   ]
  },
  {
   "cell_type": "raw",
   "metadata": {},
   "source": [
    "%%bash -s \"$folder\" \"$ssh_host\" --err err --out out\n",
    "#Get back data\n",
    "\n",
    "rsync --partial $2:~/_scratch/$1/GMX_run/7_prod* GMX_run/ ;\n",
    "rsync --partial $2:~/_scratch/$1/GMX_run/egmx* GMX_run/ ;    \n",
    "rsync --partial $2:~/_scratch/$1/GMX_run/ogmx* GMX_run/ ;        "
   ]
  },
  {
   "cell_type": "markdown",
   "metadata": {},
   "source": [
    "### Quick analysis "
   ]
  },
  {
   "cell_type": "markdown",
   "metadata": {},
   "source": [
    "Quick view"
   ]
  },
  {
   "cell_type": "raw",
   "metadata": {},
   "source": [
    "view_nucl('GMX_system/init_solv_ions.pdb','GMX_run/7_prod.xtc')"
   ]
  },
  {
   "cell_type": "markdown",
   "metadata": {},
   "source": [
    "## QC analysis\n",
    "### Let's look at energy, temperature pressure"
   ]
  },
  {
   "cell_type": "raw",
   "metadata": {},
   "source": [
    "\n",
    "df = panedr.edr_to_df('GMX_run/7_prod.edr', verbose=True)\n",
    "num_of_keys=len(df.keys())\n",
    "grid=[1+num_of_keys//3,3]\n",
    "\n",
    "plt.figure(figsize=(grid[1]*6,grid[0]*3))\n",
    "plt.title('Mod')\n",
    "for i,key in enumerate(df.keys(),1):\n",
    "    ax=plt.subplot(*grid, i)\n",
    "    ax.plot(df[key],label=key)\n",
    "    ax.set_xlabel('Time, ps')\n",
    "    ax.legend()    \n",
    "plt.show()"
   ]
  },
  {
   "cell_type": "code",
   "execution_count": null,
   "metadata": {},
   "outputs": [],
   "source": []
  }
 ],
 "metadata": {
  "kernelspec": {
   "display_name": "Python [conda env:moldyn]",
   "language": "python",
   "name": "conda-env-moldyn-py"
  },
  "language_info": {
   "codemirror_mode": {
    "name": "ipython",
    "version": 3
   },
   "file_extension": ".py",
   "mimetype": "text/x-python",
   "name": "python",
   "nbconvert_exporter": "python",
   "pygments_lexer": "ipython3",
   "version": "3.7.3"
  },
  "widgets": {
   "application/vnd.jupyter.widget-state+json": {
    "state": {
     "2822b4114ca34a8aab26754e54187752": {
      "model_module": "@jupyter-widgets/base",
      "model_module_version": "1.2.0",
      "model_name": "LayoutModel",
      "state": {
       "_model_module": "@jupyter-widgets/base",
       "_model_module_version": "1.2.0",
       "_model_name": "LayoutModel",
       "_view_count": null,
       "_view_module": "@jupyter-widgets/base",
       "_view_module_version": "1.2.0",
       "_view_name": "LayoutView",
       "align_content": null,
       "align_items": null,
       "align_self": null,
       "border": null,
       "bottom": null,
       "display": null,
       "flex": null,
       "flex_flow": null,
       "grid_area": null,
       "grid_auto_columns": null,
       "grid_auto_flow": null,
       "grid_auto_rows": null,
       "grid_column": null,
       "grid_gap": null,
       "grid_row": null,
       "grid_template_areas": null,
       "grid_template_columns": null,
       "grid_template_rows": null,
       "height": null,
       "justify_content": null,
       "justify_items": null,
       "left": null,
       "margin": null,
       "max_height": null,
       "max_width": null,
       "min_height": null,
       "min_width": null,
       "object_fit": null,
       "object_position": null,
       "order": null,
       "overflow": null,
       "overflow_x": null,
       "overflow_y": null,
       "padding": null,
       "right": null,
       "top": null,
       "visibility": null,
       "width": null
      }
     },
     "76646d17ffca402ca8458ec93ecc412b": {
      "model_module": "nglview-js-widgets",
      "model_module_version": "2.7.1",
      "model_name": "ColormakerRegistryModel",
      "state": {
       "_dom_classes": [],
       "_model_module": "nglview-js-widgets",
       "_model_module_version": "2.7.1",
       "_model_name": "ColormakerRegistryModel",
       "_msg_ar": [],
       "_msg_q": [],
       "_ready": false,
       "_view_count": null,
       "_view_module": "nglview-js-widgets",
       "_view_module_version": "2.7.1",
       "_view_name": "ColormakerRegistryView",
       "layout": "IPY_MODEL_2822b4114ca34a8aab26754e54187752"
      }
     }
    },
    "version_major": 2,
    "version_minor": 0
   }
  }
 },
 "nbformat": 4,
 "nbformat_minor": 2
}
