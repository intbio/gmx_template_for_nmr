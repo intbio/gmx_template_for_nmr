{
 "cells": [
  {
   "cell_type": "markdown",
   "metadata": {},
   "source": [
    "## Minimize and equilibrate\n",
    " - Minimize\n",
    " - Equilibrate\n",
    " \n",
    " Sanity checks along the way.\n",
    " \n",
    " Protocol files are copied from https://github.com/intbio/gmx_protocols/tree/master/amber into\n",
    "Protocols folder.\n",
    "If others are needed modify then in the folder.\n",
    "\n",
    "Theoretically this notebook could be exectuted in a single step, but it is unclear currently how stable the execution of the notebook is if you close browser window or connection in interrupted.\n",
    "\n",
    "An alternative is to run from a persistent (opened via X2Go or using Tmux) terminal as\n",
    "\n",
    "```\n",
    "jupyter nbconvert --ExecutePreprocessor.timeout=72000 --ExecutePreprocessor.kernel_name=python3 --to notebook --execute 2_min_equil.ipynb --output 2_min_equil.ipynb\n",
    "```\n",
    "\n",
    "\n",
    "\n",
    "\n",
    "For TMUX on newton cheatsheet\n",
    "```\n",
    "tmux\n",
    "module load conda3\n",
    "source activate moldyn\n",
    "Ctr+b d - detach\n",
    "tmux ls\n",
    "tmux attach -t 0\n",
    "```\n",
    "\n",
    "\n",
    "All cells that deal with transfering simulations to Supercomputer are currently inactive - set to test mode!!!\n",
    "\n",
    "\n"
   ]
  },
  {
   "cell_type": "code",
   "execution_count": 1,
   "metadata": {},
   "outputs": [],
   "source": [
    "%load_ext autoreload\n",
    "%autoreload 2"
   ]
  },
  {
   "cell_type": "code",
   "execution_count": 2,
   "metadata": {},
   "outputs": [
    {
     "data": {
      "application/vnd.jupyter.widget-view+json": {
       "model_id": "96e395e4bee844719bc6712c7dc65d3a",
       "version_major": 2,
       "version_minor": 0
      },
      "text/plain": [
       "_ColormakerRegistry()"
      ]
     },
     "metadata": {},
     "output_type": "display_data"
    },
    {
     "name": "stdout",
     "output_type": "stream",
     "text": [
      "Folder set to   :  gmx_template_for_nmr\n",
      "Project name    :  gmx_template_for_nmr\n",
      "SSH host set to : lomo2\n",
      "GMX cmd set with: module load gromacs/2020.1_nompi\n",
      "Force field     : amber14sb_parmbsc1_cufix\n",
      "Force field URL : https://api.github.com/repos/intbio/gromacs_ff/contents/amber14sb_parmbsc1_cufix.ff\n",
      "Run profile     : lomo2_volta2.sh\n"
     ]
    },
    {
     "data": {
      "text/markdown": [
       "\n",
       "# MD simulations of NCP with histone tails for NMR parameters calculation \n",
       "- AMBER14SB force field\n",
       "- 150 mM NaCl\n",
       "- box 2nm\n"
      ],
      "text/plain": [
       "<IPython.core.display.Markdown object>"
      ]
     },
     "metadata": {},
     "output_type": "display_data"
    }
   ],
   "source": [
    "from myimports import *\n",
    "display(Markdown(descr))"
   ]
  },
  {
   "cell_type": "code",
   "execution_count": null,
   "metadata": {},
   "outputs": [],
   "source": [
    "\n"
   ]
  },
  {
   "cell_type": "markdown",
   "metadata": {},
   "source": [
    "### 1_Minimization - steepest descent gradient method 10000 steps with POSRED constraints"
   ]
  },
  {
   "cell_type": "markdown",
   "metadata": {},
   "source": [
    "#### Prepare tpr files using GROMPP\n",
    "- http://manual.gromacs.org/documentation/current/onlinehelp/gmx-grompp.html"
   ]
  },
  {
   "cell_type": "code",
   "execution_count": 3,
   "metadata": {
    "scrolled": true
   },
   "outputs": [
    {
     "name": "stdout",
     "output_type": "stream",
     "text": [
      "Calculating fourier grid dimensions for X Y Z\n",
      "Using a fourier grid of 256x256x256, spacing 0.115 0.115 0.115\n",
      "This run will generate roughly 710 Mb of data\n"
     ]
    },
    {
     "name": "stderr",
     "output_type": "stream",
     "text": [
      "(Un)Loading module for modern CPU\n",
      "                      :-) GROMACS - gmx grompp, 2020.1 (-:\n",
      "\n",
      "                            GROMACS is written by:\n",
      "     Emile Apol      Rossen Apostolov      Paul Bauer     Herman J.C. Berendsen\n",
      "    Par Bjelkmar      Christian Blau   Viacheslav Bolnykh     Kevin Boyd    \n",
      " Aldert van Buuren   Rudi van Drunen     Anton Feenstra       Alan Gray     \n",
      "  Gerrit Groenhof     Anca Hamuraru    Vincent Hindriksen  M. Eric Irrgang  \n",
      "  Aleksei Iupinov   Christoph Junghans     Joe Jordan     Dimitrios Karkoulis\n",
      "    Peter Kasson        Jiri Kraus      Carsten Kutzner      Per Larsson    \n",
      "  Justin A. Lemkul    Viveca Lindahl    Magnus Lundborg     Erik Marklund   \n",
      "    Pascal Merz     Pieter Meulenhoff    Teemu Murtola       Szilard Pall   \n",
      "    Sander Pronk      Roland Schulz      Michael Shirts    Alexey Shvetsov  \n",
      "   Alfons Sijbers     Peter Tieleman      Jon Vincent      Teemu Virolainen \n",
      " Christian Wennberg    Maarten Wolf      Artem Zhmurov   \n",
      "                           and the project leaders:\n",
      "        Mark Abraham, Berk Hess, Erik Lindahl, and David van der Spoel\n",
      "\n",
      "Copyright (c) 1991-2000, University of Groningen, The Netherlands.\n",
      "Copyright (c) 2001-2019, The GROMACS development team at\n",
      "Uppsala University, Stockholm University and\n",
      "the Royal Institute of Technology, Sweden.\n",
      "check out http://www.gromacs.org for more information.\n",
      "\n",
      "GROMACS is free software; you can redistribute it and/or modify it\n",
      "under the terms of the GNU Lesser General Public License\n",
      "as published by the Free Software Foundation; either version 2.1\n",
      "of the License, or (at your option) any later version.\n",
      "\n",
      "GROMACS:      gmx grompp, version 2020.1\n",
      "Executable:   /opt/gromacs/2020.1_nompi/bin/gmx\n",
      "Data prefix:  /opt/gromacs/2020.1_nompi\n",
      "Working dir:  /home/_shared/_projects/gmx_template_for_nmr\n",
      "Command line:\n",
      "  gmx grompp -maxwarn 1 -f MDProtocols/1_minim.mdp -c GMX_system/init_solv_ions.pdb -p GMX_system/topol.top -o GMX_run/1_minim.tpr -r GMX_system/init_solv_ions.pdb -n GMX_system/index.ndx -po GMX_run/mdout_1_minim.mdp\n",
      "\n",
      "Ignoring obsolete mdp entry 'ns-type'\n",
      "\n",
      "NOTE 1 [file MDProtocols/1_minim.mdp]:\n",
      "  You have set rlist larger than the interaction cut-off, but you also have\n",
      "  verlet-buffer-tolerance > 0. Will set rlist using verlet-buffer-tolerance.\n",
      "\n",
      "\n",
      "NOTE 2 [file MDProtocols/1_minim.mdp]:\n",
      "  Setting tcoupl from 'V-rescale' to 'no'. Temperature coupling does not\n",
      "  apply to steep.\n",
      "\n",
      "\n",
      "NOTE 3 [file MDProtocols/1_minim.mdp]:\n",
      "  Setting pcoupl from 'Parrinello-Rahman' to 'no'. Pressure coupling does\n",
      "  not apply to steep.\n",
      "\n",
      "Setting the LD random seed to 2037338170\n",
      "Generated 4345 of the 4371 non-bonded parameter combinations\n",
      "Generating 1-4 interactions: fudge = 0.5\n",
      "Generated 4371 of the 4371 1-4 parameter combinations\n",
      "Excluding 3 bonded neighbours molecule type 'Protein_chain_A'\n",
      "Excluding 3 bonded neighbours molecule type 'Protein_chain_B'\n",
      "Excluding 3 bonded neighbours molecule type 'Protein_chain_C'\n",
      "Excluding 3 bonded neighbours molecule type 'Protein_chain_D'\n",
      "Excluding 3 bonded neighbours molecule type 'Protein_chain_E'\n",
      "Excluding 3 bonded neighbours molecule type 'Protein_chain_F'\n",
      "Excluding 3 bonded neighbours molecule type 'Protein_chain_G'\n",
      "Excluding 3 bonded neighbours molecule type 'Protein_chain_H'\n",
      "Excluding 3 bonded neighbours molecule type 'DNA_chain_I'\n",
      "Excluding 3 bonded neighbours molecule type 'DNA_chain_J'\n",
      "Excluding 2 bonded neighbours molecule type 'SOL'\n",
      "Excluding 1 bonded neighbours molecule type 'NA'\n",
      "Excluding 1 bonded neighbours molecule type 'CL'\n",
      "Number of degrees of freedom in T-Coupling group System is 2103189.00\n",
      "\n",
      "NOTE 4 [file MDProtocols/1_minim.mdp]:\n",
      "  Removing center of mass motion in the presence of position restraints\n",
      "  might cause artifacts. When you are using position restraints to\n",
      "  equilibrate a macro-molecule, the artifacts are usually negligible.\n",
      "\n",
      "Estimate for the relative computational load of the PME mesh part: 0.44\n",
      "\n",
      "There were 4 notes\n",
      "\n",
      "GROMACS reminds you: \"I try to identify myself with the atoms... I ask what I would do If I were a carbon atom or a sodium atom.\" (Linus Pauling)\n",
      "\n"
     ]
    }
   ],
   "source": [
    "%%bash -s \"$set_gmx_cmd\"\n",
    "$1\n",
    "#Prepare system\n",
    "rm -rf GMX_run_prep\n",
    "mkdir -p GMX_run_prep\n",
    "gmx grompp -maxwarn 1 -f MDProtocols/1_minim.mdp -c GMX_system_prep/init_solv_ions.pdb -p GMX_system_prep/topol.top \\\n",
    "-o GMX_run_prep/1_minim.tpr -r GMX_system_prep/init_solv_ions.pdb -n GMX_system_prep/index.ndx -po GMX_run_prep/mdout_1_minim.mdp\n"
   ]
  },
  {
   "cell_type": "markdown",
   "metadata": {},
   "source": [
    "#### Run: Option 1 - locally\n",
    "Note: try to run on a small number of CPUs with no GPUs, because system in non-equilibrated."
   ]
  },
  {
   "cell_type": "code",
   "execution_count": 4,
   "metadata": {},
   "outputs": [
    {
     "name": "stdout",
     "output_type": "stream",
     "text": [
      "Outputting gromacs error log\n",
      "                      :-) GROMACS - gmx mdrun, 2020.1 (-:\n",
      "\n",
      "                            GROMACS is written by:\n",
      "     Emile Apol      Rossen Apostolov      Paul Bauer     Herman J.C. Berendsen\n",
      "    Par Bjelkmar      Christian Blau   Viacheslav Bolnykh     Kevin Boyd    \n",
      " Aldert van Buuren   Rudi van Drunen     Anton Feenstra       Alan Gray     \n",
      "  Gerrit Groenhof     Anca Hamuraru    Vincent Hindriksen  M. Eric Irrgang  \n",
      "  Aleksei Iupinov   Christoph Junghans     Joe Jordan     Dimitrios Karkoulis\n",
      "    Peter Kasson        Jiri Kraus      Carsten Kutzner      Per Larsson    \n",
      "  Justin A. Lemkul    Viveca Lindahl    Magnus Lundborg     Erik Marklund   \n",
      "    Pascal Merz     Pieter Meulenhoff    Teemu Murtola       Szilard Pall   \n",
      "    Sander Pronk      Roland Schulz      Michael Shirts    Alexey Shvetsov  \n",
      "   Alfons Sijbers     Peter Tieleman      Jon Vincent      Teemu Virolainen \n",
      " Christian Wennberg    Maarten Wolf      Artem Zhmurov   \n",
      "                           and the project leaders:\n",
      "        Mark Abraham, Berk Hess, Erik Lindahl, and David van der Spoel\n",
      "\n",
      "Copyright (c) 1991-2000, University of Groningen, The Netherlands.\n",
      "Copyright (c) 2001-2019, The GROMACS development team at\n",
      "Uppsala University, Stockholm University and\n",
      "the Royal Institute of Technology, Sweden.\n",
      "check out http://www.gromacs.org for more information.\n",
      "\n",
      "GROMACS is free software; you can redistribute it and/or modify it\n",
      "under the terms of the GNU Lesser General Public License\n",
      "as published by the Free Software Foundation; either version 2.1\n",
      "of the License, or (at your option) any later version.\n",
      "\n",
      "GROMACS:      gmx mdrun, version 2020.1\n",
      "Executable:   /opt/gromacs/2020.1_nompi/bin/gmx\n",
      "Data prefix:  /opt/gromacs/2020.1_nompi\n",
      "Working dir:  /home/_shared/_projects/gmx_template_for_nmr/GMX_run\n",
      "Command line:\n",
      "  gmx mdrun -ntomp 20 -ntmpi 1 -deffnm 1_minim\n",
      "\n",
      "Reading file 1_minim.tpr, VERSION 2020.1 (single precision)\n",
      "1 GPU selected for this run.\n",
      "Mapping of GPU IDs to the 1 GPU task in the 1 rank on this node:\n",
      "  PP:0\n",
      "PP tasks will do (non-perturbed) short-ranged interactions on the GPU\n",
      "PP task will update and constrain coordinates on the CPU\n",
      "Using 1 MPI thread\n",
      "\n",
      "Non-default thread affinity set, disabling internal thread affinity\n",
      "\n",
      "Using 20 OpenMP threads \n",
      "\n",
      "\n",
      "Steepest Descents:\n",
      "   Tolerance (Fmax)   =  1.00000e+02\n",
      "   Number of steps    =        10000\n",
      "\n",
      "Energy minimization reached the maximum number of steps before the forces\n",
      "reached the requested precision Fmax < 100.\n",
      "\n",
      "writing lowest energy coordinates.\n",
      "\n",
      "Steepest Descents did not converge to Fmax < 100 in 10001 steps.\n",
      "Potential Energy  = -1.5286166e+07\n",
      "Maximum force     =  8.6367256e+03 on atom 3870\n",
      "Norm of force     =  1.5529956e+01\n",
      "\n",
      "GROMACS reminds you: \"Sitting on a rooftop watching molecules collide\" (A Camp)\n",
      "\n"
     ]
    },
    {
     "name": "stderr",
     "output_type": "stream",
     "text": [
      "(Un)Loading module for modern CPU\n"
     ]
    }
   ],
   "source": [
    "%%bash -s \"$set_gmx_cmd\" \"$gmx_eq_cmd\"\n",
    "$1\n",
    "cd GMX_run_prep\n",
    "gmx mdrun -ntomp 20 -ntmpi 1 -deffnm 1_minim 2> 1_minim.sterr  # if you want to run locally, nt is the number of threads\n",
    "echo \"Outputting gromacs error log\"\n",
    "cat 1_minim.sterr"
   ]
  },
  {
   "cell_type": "markdown",
   "metadata": {},
   "source": [
    "### Troubleshooting exploding trajectories !!! (if needed)\n",
    "------"
   ]
  },
  {
   "cell_type": "code",
   "execution_count": 5,
   "metadata": {},
   "outputs": [
    {
     "name": "stdout",
     "output_type": "stream",
     "text": [
      "rm -r GMX_run\n",
      "rsync -avz --exclude='step*' --exclude='\\#*' alexsha@newton.bioeng.ru:/home/_shared/_projects/gmx_template/GMX_run .\n",
      "vmd -e GMX_run/min_troubleshoot.tcl\n",
      "\n"
     ]
    }
   ],
   "source": [
    "#First steps often require troubleshooting and looking in vmd at the structure.\n",
    "#To do it you'll need to change MD_Protocols/1_minim.mdp to decrease number of steps to 20 or 100, and set output for every step.\n",
    "#Let's generate useful commands that can be used on your local machine.\n",
    "# See if there are any real, problems or clashed, LINCS warnings are usually sensitive to that.\n",
    "#If there are still unexplainable problems with LINCS, try to change constrains = None in 1_minim.mdp file, usually this helps.\n",
    "dir=!pwd\n",
    "newton_user=!whoami\n",
    "!cp VMD_scripts/min_troubleshoot.tcl GMX_run_prep/\n",
    "!cp GMX_system_prep/init_solv_ions.pdb GMX_run_prep\n",
    "with open('GMX_run_prep/1_minim.sterr', \"r\") as file:\n",
    "    counter=0\n",
    "    line='1'\n",
    "    atoms=[]\n",
    "    while ((counter<1000) and line):\n",
    "        line=file.readline()\n",
    "        m=re.match(\"\\s+(\\d+)\\s+\\d+\\s+\\d+\\.\\d+\\s+\\d+\\.\\d+\\s+\\d+\\.\\d+\\s+\\d+\\.\\d+\",line)\n",
    "        if(m):\n",
    "            atoms.append(m.groups()[0])\n",
    "            counter+=1\n",
    "        else:\n",
    "            next\n",
    "    atomstr=' '.join(atoms)\n",
    "if(len(atoms)>0):\n",
    "    !echo 'mol representation VDW' >> GMX_run_prep/min_troubleshoot.tcl\n",
    "    !echo \"mol selection index $atomstr\" >> GMX_run_prep/min_troubleshoot.tcl\n",
    "    !echo \"mol addrep top\" >> GMX_run_prep/min_troubleshoot.tcl\n",
    "#!echo \"$atomstr\"\n",
    "print(\"rm -r GMX_run_prep\")\n",
    "print(\"rsync -avz --exclude='step*' --exclude='\\#*' %s@newton.bioeng.ru:%s/GMX_run_prep .\"%(newton_user[0],dir[0]))\n",
    "print(\"vmd -e GMX_run_prep/min_troubleshoot.tcl\\n\")"
   ]
  },
  {
   "cell_type": "markdown",
   "metadata": {},
   "source": [
    "------------\n"
   ]
  },
  {
   "cell_type": "markdown",
   "metadata": {},
   "source": [
    "#### Run: Option 2 - sending and simulating on Lomonosov-2\n",
    "Note: Usually it is easier just to run all the cells for local simulations below and wait some time, than to send to supercomputer since it requires manual work and monitoring. But examples of doing it on supercomputer are provided for the next two step for reference.\n",
    "They are commented out (set to RAW content), so that this note book could be run entirely as a single piece of code locally."
   ]
  },
  {
   "cell_type": "code",
   "execution_count": 6,
   "metadata": {},
   "outputs": [],
   "source": [
    "deffnm='1_minim'"
   ]
  },
  {
   "cell_type": "raw",
   "metadata": {},
   "source": [
    "!cp Run_scripts/lomo2_run.sh GMX_run_prep/\n",
    "!cp Run_scripts/lomo2_run_cont.sh GMX_run_prep/\n",
    "!ssh $ssh_host \"mkdir -p ~/_scratch/$folder\"\n",
    "!scp GMX_run_prep/$deffnm.tpr $ssh_host:~/_scratch/$folder/GMX_run_prep/\n",
    "!scp GMX_run_prep/lomo2* $ssh_host:~/_scratch/$folder/GMX_run_prep/"
   ]
  },
  {
   "cell_type": "raw",
   "metadata": {},
   "source": [
    "%%bash -s  $ssh_host $folder $deffnm  --out out\n",
    "ssh $1 \"module load slurm gromacs/2018-gcc; cd ~/_scratch/$2/GMX_run_prep; sbatch -p test -t 00:15:00 -N 1 -J $2 lomo2_run.sh $3\""
   ]
  },
  {
   "cell_type": "raw",
   "metadata": {},
   "source": [
    "#get job id\n",
    "job_idm=re.findall(r'\\d+', out)[0]\n",
    "print(job_idm)"
   ]
  },
  {
   "cell_type": "raw",
   "metadata": {},
   "source": [
    "%%bash -s \"$scuser\" \"$ssh_host\"   --err err\n",
    "# check job status\n",
    "ssh $2 \"module load slurm gromacs/2018-gcc; squeue -u \\$USER \" || echo \"No job in queue\""
   ]
  },
  {
   "cell_type": "raw",
   "metadata": {},
   "source": [
    "#job_idm=926148\n",
    "!ssh $ssh_host \"tail -n 25 ~/_scratch/$folder/GMX_run_prep/egmx.$job_idm\""
   ]
  },
  {
   "cell_type": "raw",
   "metadata": {},
   "source": [
    "!ssh $ssh_host \"tail -n 25 ~/_scratch/$folder/GMX_run_prep/$deffnm.log\""
   ]
  },
  {
   "cell_type": "raw",
   "metadata": {},
   "source": [
    "!ssh $ssh_host \"rm -f ~/_scratch/$folder/GMX_run_prep/\\#*; \"\n",
    "!scp $ssh_host:~/_scratch/$folder/GMX_run_prep/* GMX_run_prep/ ;"
   ]
  },
  {
   "cell_type": "markdown",
   "metadata": {},
   "source": [
    "#### Analyze what we get"
   ]
  },
  {
   "cell_type": "raw",
   "metadata": {},
   "source": [
    "view_nucl('GMX_system_prep/init_solv_ions.pdb','GMX_run_prep/%s.trr'%deffnm)"
   ]
  },
  {
   "cell_type": "markdown",
   "metadata": {},
   "source": [
    "### 2_Equilibration 100 ps with postional restraints of 500 kJ/mol/A2 , and with 0.5 fs time step"
   ]
  },
  {
   "cell_type": "code",
   "execution_count": 5,
   "metadata": {},
   "outputs": [
    {
     "name": "stdout",
     "output_type": "stream",
     "text": [
      "processing topology...\n",
      "turning all bonds into constraints...\n",
      "turning all bonds into constraints...\n",
      "turning all bonds into constraints...\n",
      "turning all bonds into constraints...\n",
      "turning all bonds into constraints...\n",
      "turning all bonds into constraints...\n",
      "turning all bonds into constraints...\n",
      "turning all bonds into constraints...\n",
      "turning all bonds into constraints...\n",
      "turning all bonds into constraints...\n",
      "turning all bonds into constraints...\n",
      "turning all bonds into constraints...\n",
      "turning all bonds into constraints...\n",
      "Determining Verlet buffer for a tolerance of 0.005 kJ/mol/ps at 298 K\n",
      "Calculated rlist for 1x1 atom pair-list as 1.050 nm, buffer size 0.000 nm\n",
      "Set rlist, assuming 4x4 atom pair-list, to 1.050 nm, buffer size 0.000 nm\n",
      "Note that mdrun will redetermine rlist based on the actual pair-list setup\n",
      "Calculating fourier grid dimensions for X Y Z\n",
      "Using a fourier grid of 256x256x256, spacing 0.115 0.115 0.115\n",
      "This run will generate roughly 283 Mb of data\n"
     ]
    },
    {
     "name": "stderr",
     "output_type": "stream",
     "text": [
      "(Un)Loading module for modern CPU\n",
      "                      :-) GROMACS - gmx grompp, 2020.1 (-:\n",
      "\n",
      "                            GROMACS is written by:\n",
      "     Emile Apol      Rossen Apostolov      Paul Bauer     Herman J.C. Berendsen\n",
      "    Par Bjelkmar      Christian Blau   Viacheslav Bolnykh     Kevin Boyd    \n",
      " Aldert van Buuren   Rudi van Drunen     Anton Feenstra       Alan Gray     \n",
      "  Gerrit Groenhof     Anca Hamuraru    Vincent Hindriksen  M. Eric Irrgang  \n",
      "  Aleksei Iupinov   Christoph Junghans     Joe Jordan     Dimitrios Karkoulis\n",
      "    Peter Kasson        Jiri Kraus      Carsten Kutzner      Per Larsson    \n",
      "  Justin A. Lemkul    Viveca Lindahl    Magnus Lundborg     Erik Marklund   \n",
      "    Pascal Merz     Pieter Meulenhoff    Teemu Murtola       Szilard Pall   \n",
      "    Sander Pronk      Roland Schulz      Michael Shirts    Alexey Shvetsov  \n",
      "   Alfons Sijbers     Peter Tieleman      Jon Vincent      Teemu Virolainen \n",
      " Christian Wennberg    Maarten Wolf      Artem Zhmurov   \n",
      "                           and the project leaders:\n",
      "        Mark Abraham, Berk Hess, Erik Lindahl, and David van der Spoel\n",
      "\n",
      "Copyright (c) 1991-2000, University of Groningen, The Netherlands.\n",
      "Copyright (c) 2001-2019, The GROMACS development team at\n",
      "Uppsala University, Stockholm University and\n",
      "the Royal Institute of Technology, Sweden.\n",
      "check out http://www.gromacs.org for more information.\n",
      "\n",
      "GROMACS is free software; you can redistribute it and/or modify it\n",
      "under the terms of the GNU Lesser General Public License\n",
      "as published by the Free Software Foundation; either version 2.1\n",
      "of the License, or (at your option) any later version.\n",
      "\n",
      "GROMACS:      gmx grompp, version 2020.1\n",
      "Executable:   /opt/gromacs/2020.1_nompi/bin/gmx\n",
      "Data prefix:  /opt/gromacs/2020.1_nompi\n",
      "Working dir:  /home/_shared/_projects/gmx_template_for_nmr\n",
      "Command line:\n",
      "  gmx grompp -maxwarn 1 -f MDProtocols/2_equil.mdp -c GMX_run/1_minim.gro -p GMX_system/topol.top -o GMX_run/2_equil.tpr -v -r GMX_system/init_solv_ions.pdb -n GMX_system/index.ndx -po GMX_run/mdout_2_equil.mdp\n",
      "\n",
      "Ignoring obsolete mdp entry 'ns-type'\n",
      "checking input for internal consistency...\n",
      "\n",
      "NOTE 1 [file MDProtocols/2_equil.mdp]:\n",
      "  You have set rlist larger than the interaction cut-off, but you also have\n",
      "  verlet-buffer-tolerance > 0. Will set rlist using verlet-buffer-tolerance.\n",
      "\n",
      "Setting the LD random seed to -1875190818\n",
      "Generated 4345 of the 4371 non-bonded parameter combinations\n",
      "Generating 1-4 interactions: fudge = 0.5\n",
      "Generated 4371 of the 4371 1-4 parameter combinations\n",
      "Excluding 3 bonded neighbours molecule type 'Protein_chain_A'\n",
      "Excluding 3 bonded neighbours molecule type 'Protein_chain_B'\n",
      "Excluding 3 bonded neighbours molecule type 'Protein_chain_C'\n",
      "Excluding 3 bonded neighbours molecule type 'Protein_chain_D'\n",
      "Excluding 3 bonded neighbours molecule type 'Protein_chain_E'\n",
      "Excluding 3 bonded neighbours molecule type 'Protein_chain_F'\n",
      "Excluding 3 bonded neighbours molecule type 'Protein_chain_G'\n",
      "Excluding 3 bonded neighbours molecule type 'Protein_chain_H'\n",
      "Excluding 3 bonded neighbours molecule type 'DNA_chain_I'\n",
      "Excluding 3 bonded neighbours molecule type 'DNA_chain_J'\n",
      "Excluding 2 bonded neighbours molecule type 'SOL'\n",
      "Excluding 1 bonded neighbours molecule type 'NA'\n",
      "Excluding 1 bonded neighbours molecule type 'CL'\n",
      "\n",
      "NOTE 2 [file unknown]:\n",
      "  You are using constraints on all bonds, whereas the forcefield has been\n",
      "  parametrized only with constraints involving hydrogen atoms. We suggest\n",
      "  using constraints = h-bonds instead, this will also improve performance.\n",
      "\n",
      "processing coordinates...\n",
      "double-checking input for internal consistency...\n",
      "Setting gen_seed to 114205405\n",
      "Velocities were taken from a Maxwell distribution at 298 K\n",
      "Reading position restraint coords from GMX_system/init_solv_ions.pdb\n",
      "renumbering atomtypes...\n",
      "converting bonded parameters...\n",
      "initialising group options...\n",
      "processing index file...\n",
      "Making dummy/rest group for Acceleration containing 1038142 elements\n",
      "Making dummy/rest group for Freeze containing 1038142 elements\n",
      "Making dummy/rest group for Energy Mon. containing 1038142 elements\n",
      "Number of degrees of freedom in T-Coupling group System is 2077438.00\n",
      "Making dummy/rest group for User1 containing 1038142 elements\n",
      "Making dummy/rest group for User2 containing 1038142 elements\n",
      "Making dummy/rest group for Compressed X containing 1038142 elements\n",
      "Making dummy/rest group for Or. Res. Fit containing 1038142 elements\n",
      "Making dummy/rest group for QMMM containing 1038142 elements\n",
      "T-Coupling       has 1 element(s): System\n",
      "Energy Mon.      has 1 element(s): rest\n",
      "Acceleration     has 1 element(s): rest\n",
      "Freeze           has 1 element(s): rest\n",
      "User1            has 1 element(s): rest\n",
      "User2            has 1 element(s): rest\n",
      "VCM              has 1 element(s): System\n",
      "Compressed X     has 1 element(s): rest\n",
      "Or. Res. Fit     has 1 element(s): rest\n",
      "QMMM             has 1 element(s): rest\n",
      "\n",
      "NOTE 3 [file MDProtocols/2_equil.mdp]:\n",
      "  Removing center of mass motion in the presence of position restraints\n",
      "  might cause artifacts. When you are using position restraints to\n",
      "  equilibrate a macro-molecule, the artifacts are usually negligible.\n",
      "\n",
      "Estimate for the relative computational load of the PME mesh part: 0.47\n",
      "writing run input file...\n",
      "\n",
      "There were 3 notes\n",
      "\n",
      "GROMACS reminds you: \"Sitting on a rooftop watching molecules collide\" (A Camp)\n",
      "\n"
     ]
    }
   ],
   "source": [
    "%%bash -s \"$set_gmx_cmd\"\n",
    "$1 \n",
    "#--out out --err err\n",
    "gmx grompp -maxwarn 1 -f MDProtocols/2_equil.mdp -c GMX_run_prep/1_minim.gro -p GMX_system_prep/topol.top \\\n",
    "-o GMX_run_prep/2_equil.tpr -v  -r GMX_system_prep/init_solv_ions.pdb -n GMX_system_prep/index.ndx -po GMX_run_prep/mdout_2_equil.mdp\n"
   ]
  },
  {
   "cell_type": "markdown",
   "metadata": {},
   "source": [
    "#### Run: Option 1 - locally"
   ]
  },
  {
   "cell_type": "code",
   "execution_count": 6,
   "metadata": {},
   "outputs": [
    {
     "name": "stderr",
     "output_type": "stream",
     "text": [
      "(Un)Loading module for modern CPU\n",
      "                      :-) GROMACS - gmx mdrun, 2020.1 (-:\n",
      "\n",
      "                            GROMACS is written by:\n",
      "     Emile Apol      Rossen Apostolov      Paul Bauer     Herman J.C. Berendsen\n",
      "    Par Bjelkmar      Christian Blau   Viacheslav Bolnykh     Kevin Boyd    \n",
      " Aldert van Buuren   Rudi van Drunen     Anton Feenstra       Alan Gray     \n",
      "  Gerrit Groenhof     Anca Hamuraru    Vincent Hindriksen  M. Eric Irrgang  \n",
      "  Aleksei Iupinov   Christoph Junghans     Joe Jordan     Dimitrios Karkoulis\n",
      "    Peter Kasson        Jiri Kraus      Carsten Kutzner      Per Larsson    \n",
      "  Justin A. Lemkul    Viveca Lindahl    Magnus Lundborg     Erik Marklund   \n",
      "    Pascal Merz     Pieter Meulenhoff    Teemu Murtola       Szilard Pall   \n",
      "    Sander Pronk      Roland Schulz      Michael Shirts    Alexey Shvetsov  \n",
      "   Alfons Sijbers     Peter Tieleman      Jon Vincent      Teemu Virolainen \n",
      " Christian Wennberg    Maarten Wolf      Artem Zhmurov   \n",
      "                           and the project leaders:\n",
      "        Mark Abraham, Berk Hess, Erik Lindahl, and David van der Spoel\n",
      "\n",
      "Copyright (c) 1991-2000, University of Groningen, The Netherlands.\n",
      "Copyright (c) 2001-2019, The GROMACS development team at\n",
      "Uppsala University, Stockholm University and\n",
      "the Royal Institute of Technology, Sweden.\n",
      "check out http://www.gromacs.org for more information.\n",
      "\n",
      "GROMACS is free software; you can redistribute it and/or modify it\n",
      "under the terms of the GNU Lesser General Public License\n",
      "as published by the Free Software Foundation; either version 2.1\n",
      "of the License, or (at your option) any later version.\n",
      "\n",
      "GROMACS:      gmx mdrun, version 2020.1\n",
      "Executable:   /opt/gromacs/2020.1_nompi/bin/gmx\n",
      "Data prefix:  /opt/gromacs/2020.1_nompi\n",
      "Working dir:  /home/_shared/_projects/gmx_template_for_nmr/GMX_run\n",
      "Command line:\n",
      "  gmx mdrun -npme 0 -nb gpu -pme gpu -pmefft gpu -notunepme -ntomp 20 -deffnm 2_equil\n",
      "\n",
      "Reading file 2_equil.tpr, VERSION 2020.1 (single precision)\n",
      "Changing nstlist from 10 to 100, rlist from 1.05 to 1.075\n",
      "\n",
      "1 GPU selected for this run.\n",
      "Mapping of GPU IDs to the 2 GPU tasks in the 1 rank on this node:\n",
      "  PP:0,PME:0\n",
      "PP tasks will do (non-perturbed) short-ranged interactions on the GPU\n",
      "PP task will update and constrain coordinates on the CPUPME tasks will do all aspects on the GPU\n",
      "Using 1 MPI thread\n",
      "\n",
      "Non-default thread affinity set, disabling internal thread affinity\n",
      "\n",
      "Using 20 OpenMP threads \n",
      "\n",
      "starting mdrun 'Protein in water'\n",
      "200000 steps,    100.0 ps.\n",
      "\n",
      "Writing final coordinates.\n",
      "\n",
      "               Core t (s)   Wall t (s)        (%)\n",
      "       Time:    85134.000     4256.709     2000.0\n",
      "                         1h10:56\n",
      "                 (ns/day)    (hour/ns)\n",
      "Performance:        2.030       11.824\n",
      "\n",
      "GROMACS reminds you: \"All Beauty Must Die\" (Nick Cave)\n",
      "\n"
     ]
    }
   ],
   "source": [
    "%%bash -s \"$set_gmx_cmd\" \"$gmx_eq_cmd\"\n",
    "$1\n",
    "cd GMX_run_prep\n",
    "# first run shoulr be without notunepme to allow gromacs to tune it :)\n",
    "$2 -deffnm 2_equil # if you want to run locally"
   ]
  },
  {
   "cell_type": "markdown",
   "metadata": {},
   "source": [
    "#### Run: Option 2 - sending and simulating on Lomonosov-2\n",
    "Note: Usually it is easier just to run all the cells for local simulations below and wait some time, than to send to supercomputer since it requires manual work and monitoring. But examples of doing it on supercomputer are provided for this step for reference. The same can be applied to all further step if needed - just copy the code.\n",
    "The code here is commented out (cell type set to RAW content), so that this notebook could be run entirely as a single piece of code locally."
   ]
  },
  {
   "cell_type": "code",
   "execution_count": 9,
   "metadata": {},
   "outputs": [],
   "source": [
    "deffnm='2_equil'"
   ]
  },
  {
   "cell_type": "raw",
   "metadata": {},
   "source": [
    "!cp Run_scripts/lomo2_run.sh GMX_run_prep/\n",
    "!cp Run_scripts/lomo2_run_cont.sh GMX_run_prep/\n",
    "!ssh $ssh_host \"mkdir -p ~/_scratch/$folder\"\n",
    "!scp GMX_run_prep/$deffnm\\.tpr $ssh_host:~/_scratch/$folder/GMX_run_prep/\n",
    "!scp GMX_run_prep/lomo2* $ssh_host:~/_scratch/$folder/GMX_run_prep/"
   ]
  },
  {
   "cell_type": "raw",
   "metadata": {},
   "source": [
    "%%bash -s  $ssh_host $folder $deffnm  --out out\n",
    "ssh $1 \"module load slurm gromacs/2018-gcc; cd ~/_scratch/$2/GMX_run_prep; sbatch -p test -t 00:15:00 -N 1 -J $2 lomo2_run.sh $3\""
   ]
  },
  {
   "cell_type": "raw",
   "metadata": {},
   "source": [
    "#get job id\n",
    "job_idm=re.findall(r'\\d+', out)[0]\n",
    "print(job_idm)"
   ]
  },
  {
   "cell_type": "raw",
   "metadata": {},
   "source": [
    "%%bash -s $ssh_host   --err err\n",
    "# check job status\n",
    "ssh $1 \"module load slurm gromacs/2018-gcc; squeue -u \\$USER \" || echo \"No job in queue\""
   ]
  },
  {
   "cell_type": "raw",
   "metadata": {},
   "source": [
    "#job_idm=926148\n",
    "!ssh $ssh_host \"tail -n 25 ~/_scratch/$folder/GMX_run_prep/egmx.$job_idm\""
   ]
  },
  {
   "cell_type": "raw",
   "metadata": {},
   "source": [
    "!ssh $ssh_host \"tail -n 25 ~/_scratch/$folder/GMX_run_prep/$deffnm\\.log\""
   ]
  },
  {
   "cell_type": "raw",
   "metadata": {},
   "source": [
    "!ssh $ssh_host \"rm -f ~/_scratch/$folder/GMX_run_prep/\\#*; \"\n",
    "!scp $ssh_host:~/_scratch/$folder/GMX_run_prep/* GMX_run_prep/ ;"
   ]
  },
  {
   "cell_type": "markdown",
   "metadata": {},
   "source": [
    "#### Analyze what we get"
   ]
  },
  {
   "cell_type": "raw",
   "metadata": {},
   "source": [
    "view_nucl('GMX_system_prep/init_solv_ions.pdb','GMX_run_prep/%s.trr'%deffnm)"
   ]
  },
  {
   "cell_type": "markdown",
   "metadata": {},
   "source": [
    "### 3_Equilibration 200 ps with postional restraints of 50 kJ/mol/A2"
   ]
  },
  {
   "cell_type": "code",
   "execution_count": 7,
   "metadata": {},
   "outputs": [
    {
     "name": "stdout",
     "output_type": "stream",
     "text": [
      "processing topology...\n",
      "turning all bonds into constraints...\n",
      "turning all bonds into constraints...\n",
      "turning all bonds into constraints...\n",
      "turning all bonds into constraints...\n",
      "turning all bonds into constraints...\n",
      "turning all bonds into constraints...\n",
      "turning all bonds into constraints...\n",
      "turning all bonds into constraints...\n",
      "turning all bonds into constraints...\n",
      "turning all bonds into constraints...\n",
      "turning all bonds into constraints...\n",
      "turning all bonds into constraints...\n",
      "turning all bonds into constraints...\n",
      "Determining Verlet buffer for a tolerance of 0.005 kJ/mol/ps at 298 K\n",
      "Calculated rlist for 1x1 atom pair-list as 1.080 nm, buffer size 0.030 nm\n",
      "Set rlist, assuming 4x4 atom pair-list, to 1.050 nm, buffer size 0.000 nm\n",
      "Note that mdrun will redetermine rlist based on the actual pair-list setup\n",
      "Calculating fourier grid dimensions for X Y Z\n",
      "Using a fourier grid of 224x224x224, spacing 0.119 0.119 0.119\n",
      "This run will generate roughly 184 Mb of data\n"
     ]
    },
    {
     "name": "stderr",
     "output_type": "stream",
     "text": [
      "(Un)Loading module for modern CPU\n",
      "                      :-) GROMACS - gmx grompp, 2020.1 (-:\n",
      "\n",
      "                            GROMACS is written by:\n",
      "     Emile Apol      Rossen Apostolov      Paul Bauer     Herman J.C. Berendsen\n",
      "    Par Bjelkmar      Christian Blau   Viacheslav Bolnykh     Kevin Boyd    \n",
      " Aldert van Buuren   Rudi van Drunen     Anton Feenstra       Alan Gray     \n",
      "  Gerrit Groenhof     Anca Hamuraru    Vincent Hindriksen  M. Eric Irrgang  \n",
      "  Aleksei Iupinov   Christoph Junghans     Joe Jordan     Dimitrios Karkoulis\n",
      "    Peter Kasson        Jiri Kraus      Carsten Kutzner      Per Larsson    \n",
      "  Justin A. Lemkul    Viveca Lindahl    Magnus Lundborg     Erik Marklund   \n",
      "    Pascal Merz     Pieter Meulenhoff    Teemu Murtola       Szilard Pall   \n",
      "    Sander Pronk      Roland Schulz      Michael Shirts    Alexey Shvetsov  \n",
      "   Alfons Sijbers     Peter Tieleman      Jon Vincent      Teemu Virolainen \n",
      " Christian Wennberg    Maarten Wolf      Artem Zhmurov   \n",
      "                           and the project leaders:\n",
      "        Mark Abraham, Berk Hess, Erik Lindahl, and David van der Spoel\n",
      "\n",
      "Copyright (c) 1991-2000, University of Groningen, The Netherlands.\n",
      "Copyright (c) 2001-2019, The GROMACS development team at\n",
      "Uppsala University, Stockholm University and\n",
      "the Royal Institute of Technology, Sweden.\n",
      "check out http://www.gromacs.org for more information.\n",
      "\n",
      "GROMACS is free software; you can redistribute it and/or modify it\n",
      "under the terms of the GNU Lesser General Public License\n",
      "as published by the Free Software Foundation; either version 2.1\n",
      "of the License, or (at your option) any later version.\n",
      "\n",
      "GROMACS:      gmx grompp, version 2020.1\n",
      "Executable:   /opt/gromacs/2020.1_nompi/bin/gmx\n",
      "Data prefix:  /opt/gromacs/2020.1_nompi\n",
      "Working dir:  /home/_shared/_projects/gmx_template_for_nmr\n",
      "Command line:\n",
      "  gmx grompp -maxwarn 1 -f MDProtocols/3_equil.mdp -c GMX_run/2_equil.gro -p GMX_system/topol.top -o GMX_run/3_equil.tpr -v -r GMX_system/init_solv_ions.pdb -n GMX_system/index.ndx -po GMX_run/mdout_3_equil.mdp\n",
      "\n",
      "Ignoring obsolete mdp entry 'ns-type'\n",
      "checking input for internal consistency...\n",
      "\n",
      "NOTE 1 [file MDProtocols/3_equil.mdp]:\n",
      "  You have set rlist larger than the interaction cut-off, but you also have\n",
      "  verlet-buffer-tolerance > 0. Will set rlist using verlet-buffer-tolerance.\n",
      "\n",
      "\n",
      "WARNING 1 [file MDProtocols/3_equil.mdp]:\n",
      "  You are generating velocities so I am assuming you are equilibrating a\n",
      "  system. You are using Parrinello-Rahman pressure coupling, but this can\n",
      "  be unstable for equilibration. If your system crashes, try equilibrating\n",
      "  first with Berendsen pressure coupling. If you are not equilibrating the\n",
      "  system, you can probably ignore this warning.\n",
      "\n",
      "Setting the LD random seed to -932210294\n",
      "Generated 4345 of the 4371 non-bonded parameter combinations\n",
      "Generating 1-4 interactions: fudge = 0.5\n",
      "Generated 4371 of the 4371 1-4 parameter combinations\n",
      "Excluding 3 bonded neighbours molecule type 'Protein_chain_A'\n",
      "Excluding 3 bonded neighbours molecule type 'Protein_chain_B'\n",
      "Excluding 3 bonded neighbours molecule type 'Protein_chain_C'\n",
      "Excluding 3 bonded neighbours molecule type 'Protein_chain_D'\n",
      "Excluding 3 bonded neighbours molecule type 'Protein_chain_E'\n",
      "Excluding 3 bonded neighbours molecule type 'Protein_chain_F'\n",
      "Excluding 3 bonded neighbours molecule type 'Protein_chain_G'\n",
      "Excluding 3 bonded neighbours molecule type 'Protein_chain_H'\n",
      "Excluding 3 bonded neighbours molecule type 'DNA_chain_I'\n",
      "Excluding 3 bonded neighbours molecule type 'DNA_chain_J'\n",
      "Excluding 2 bonded neighbours molecule type 'SOL'\n",
      "Excluding 1 bonded neighbours molecule type 'NA'\n",
      "Excluding 1 bonded neighbours molecule type 'CL'\n",
      "\n",
      "NOTE 2 [file unknown]:\n",
      "  You are using constraints on all bonds, whereas the forcefield has been\n",
      "  parametrized only with constraints involving hydrogen atoms. We suggest\n",
      "  using constraints = h-bonds instead, this will also improve performance.\n",
      "\n",
      "processing coordinates...\n",
      "double-checking input for internal consistency...\n",
      "Setting gen_seed to -1258451610\n",
      "Velocities were taken from a Maxwell distribution at 298 K\n",
      "\n",
      "NOTE 3 [file unknown]:\n",
      "  You are combining position restraints with Parrinello-Rahman pressure\n",
      "  coupling, which can lead to instabilities. If you really want to combine\n",
      "  position restraints with pressure coupling, we suggest to use Berendsen\n",
      "  pressure coupling instead.\n",
      "\n",
      "Reading position restraint coords from GMX_system/init_solv_ions.pdb\n",
      "renumbering atomtypes...\n",
      "converting bonded parameters...\n",
      "initialising group options...\n",
      "processing index file...\n",
      "Making dummy/rest group for Acceleration containing 1038142 elements\n",
      "Making dummy/rest group for Freeze containing 1038142 elements\n",
      "Making dummy/rest group for Energy Mon. containing 1038142 elements\n",
      "Number of degrees of freedom in T-Coupling group System is 2077438.00\n",
      "Making dummy/rest group for User1 containing 1038142 elements\n",
      "Making dummy/rest group for User2 containing 1038142 elements\n",
      "Making dummy/rest group for Compressed X containing 1038142 elements\n",
      "Making dummy/rest group for Or. Res. Fit containing 1038142 elements\n",
      "Making dummy/rest group for QMMM containing 1038142 elements\n",
      "T-Coupling       has 1 element(s): System\n",
      "Energy Mon.      has 1 element(s): rest\n",
      "Acceleration     has 1 element(s): rest\n",
      "Freeze           has 1 element(s): rest\n",
      "User1            has 1 element(s): rest\n",
      "User2            has 1 element(s): rest\n",
      "VCM              has 1 element(s): System\n",
      "Compressed X     has 1 element(s): rest\n",
      "Or. Res. Fit     has 1 element(s): rest\n",
      "QMMM             has 1 element(s): rest\n",
      "\n",
      "NOTE 4 [file MDProtocols/3_equil.mdp]:\n",
      "  Removing center of mass motion in the presence of position restraints\n",
      "  might cause artifacts. When you are using position restraints to\n",
      "  equilibrate a macro-molecule, the artifacts are usually negligible.\n",
      "\n",
      "Estimate for the relative computational load of the PME mesh part: 0.36\n",
      "writing run input file...\n",
      "\n",
      "There were 4 notes\n",
      "\n",
      "There was 1 warning\n",
      "\n",
      "GROMACS reminds you: \"He's using code that only you and I know\" (Kate Bush)\n",
      "\n"
     ]
    }
   ],
   "source": [
    "%%bash -s \"$set_gmx_cmd\"\n",
    "$1\n",
    "#--out out --err err\n",
    "gmx grompp -maxwarn 1 -f MDProtocols/3_equil.mdp -c GMX_run_prep/2_equil.gro -p GMX_system_prep/topol.top \\\n",
    "-o GMX_run_prep/3_equil.tpr -v  -r GMX_system_prep/init_solv_ions.pdb -n GMX_system_prep/index.ndx -po GMX_run_prep/mdout_3_equil.mdp\n"
   ]
  },
  {
   "cell_type": "markdown",
   "metadata": {},
   "source": [
    "#### Run: Option 1 - locally"
   ]
  },
  {
   "cell_type": "code",
   "execution_count": 8,
   "metadata": {
    "scrolled": true
   },
   "outputs": [
    {
     "name": "stderr",
     "output_type": "stream",
     "text": [
      "(Un)Loading module for modern CPU\n",
      "                      :-) GROMACS - gmx mdrun, 2020.1 (-:\n",
      "\n",
      "                            GROMACS is written by:\n",
      "     Emile Apol      Rossen Apostolov      Paul Bauer     Herman J.C. Berendsen\n",
      "    Par Bjelkmar      Christian Blau   Viacheslav Bolnykh     Kevin Boyd    \n",
      " Aldert van Buuren   Rudi van Drunen     Anton Feenstra       Alan Gray     \n",
      "  Gerrit Groenhof     Anca Hamuraru    Vincent Hindriksen  M. Eric Irrgang  \n",
      "  Aleksei Iupinov   Christoph Junghans     Joe Jordan     Dimitrios Karkoulis\n",
      "    Peter Kasson        Jiri Kraus      Carsten Kutzner      Per Larsson    \n",
      "  Justin A. Lemkul    Viveca Lindahl    Magnus Lundborg     Erik Marklund   \n",
      "    Pascal Merz     Pieter Meulenhoff    Teemu Murtola       Szilard Pall   \n",
      "    Sander Pronk      Roland Schulz      Michael Shirts    Alexey Shvetsov  \n",
      "   Alfons Sijbers     Peter Tieleman      Jon Vincent      Teemu Virolainen \n",
      " Christian Wennberg    Maarten Wolf      Artem Zhmurov   \n",
      "                           and the project leaders:\n",
      "        Mark Abraham, Berk Hess, Erik Lindahl, and David van der Spoel\n",
      "\n",
      "Copyright (c) 1991-2000, University of Groningen, The Netherlands.\n",
      "Copyright (c) 2001-2019, The GROMACS development team at\n",
      "Uppsala University, Stockholm University and\n",
      "the Royal Institute of Technology, Sweden.\n",
      "check out http://www.gromacs.org for more information.\n",
      "\n",
      "GROMACS is free software; you can redistribute it and/or modify it\n",
      "under the terms of the GNU Lesser General Public License\n",
      "as published by the Free Software Foundation; either version 2.1\n",
      "of the License, or (at your option) any later version.\n",
      "\n",
      "GROMACS:      gmx mdrun, version 2020.1\n",
      "Executable:   /opt/gromacs/2020.1_nompi/bin/gmx\n",
      "Data prefix:  /opt/gromacs/2020.1_nompi\n",
      "Working dir:  /home/_shared/_projects/gmx_template_for_nmr/GMX_run\n",
      "Command line:\n",
      "  gmx mdrun -npme 0 -nb gpu -pme gpu -pmefft gpu -notunepme -ntomp 20 -deffnm 3_equil\n",
      "\n",
      "Reading file 3_equil.tpr, VERSION 2020.1 (single precision)\n",
      "Changing nstlist from 10 to 100, rlist from 1.05 to 1.184\n",
      "\n",
      "1 GPU selected for this run.\n",
      "Mapping of GPU IDs to the 2 GPU tasks in the 1 rank on this node:\n",
      "  PP:0,PME:0\n",
      "PP tasks will do (non-perturbed) short-ranged interactions on the GPU\n",
      "PP task will update and constrain coordinates on the CPUPME tasks will do all aspects on the GPU\n",
      "Using 1 MPI thread\n",
      "\n",
      "Non-default thread affinity set, disabling internal thread affinity\n",
      "\n",
      "Using 20 OpenMP threads \n",
      "\n",
      "starting mdrun 'Protein in water'\n",
      "100000 steps,    200.0 ps.\n",
      "\n",
      "Writing final coordinates.\n",
      "\n",
      "               Core t (s)   Wall t (s)        (%)\n",
      "       Time:    44760.709     2238.045     2000.0\n",
      "                         37:18\n",
      "                 (ns/day)    (hour/ns)\n",
      "Performance:        7.721        3.108\n",
      "\n",
      "GROMACS reminds you: \"It'll Cure Your Asthma Too !\" (F. Zappa)\n",
      "\n"
     ]
    }
   ],
   "source": [
    "%%bash -s \"$set_gmx_cmd\" \"$gmx_eq_cmd\"\n",
    "$1\n",
    "cd GMX_run_prep\n",
    "$2 -deffnm 3_equil # if you want to run locally"
   ]
  },
  {
   "cell_type": "markdown",
   "metadata": {},
   "source": [
    "#### Run: Option 2 - sending and simulating on Lomonosov-2"
   ]
  },
  {
   "cell_type": "code",
   "execution_count": 9,
   "metadata": {},
   "outputs": [],
   "source": [
    "deffnm='3_equil'"
   ]
  },
  {
   "cell_type": "raw",
   "metadata": {},
   "source": [
    "JUST COPY CODE FROM PREVIOUS STEPS IF YOU ARE SIMULATING ON LOMONOSOV"
   ]
  },
  {
   "cell_type": "markdown",
   "metadata": {},
   "source": [
    "### 4_Equilibration 200 ps with postional restraints of 5 kJ/mol/A2"
   ]
  },
  {
   "cell_type": "code",
   "execution_count": 10,
   "metadata": {},
   "outputs": [
    {
     "name": "stdout",
     "output_type": "stream",
     "text": [
      "processing topology...\n",
      "turning all bonds into constraints...\n",
      "turning all bonds into constraints...\n",
      "turning all bonds into constraints...\n",
      "turning all bonds into constraints...\n",
      "turning all bonds into constraints...\n",
      "turning all bonds into constraints...\n",
      "turning all bonds into constraints...\n",
      "turning all bonds into constraints...\n",
      "turning all bonds into constraints...\n",
      "turning all bonds into constraints...\n",
      "turning all bonds into constraints...\n",
      "turning all bonds into constraints...\n",
      "turning all bonds into constraints...\n",
      "Determining Verlet buffer for a tolerance of 0.005 kJ/mol/ps at 298 K\n",
      "Calculated rlist for 1x1 atom pair-list as 1.085 nm, buffer size 0.035 nm\n",
      "Set rlist, assuming 4x4 atom pair-list, to 1.050 nm, buffer size 0.000 nm\n",
      "Note that mdrun will redetermine rlist based on the actual pair-list setup\n",
      "Calculating fourier grid dimensions for X Y Z\n",
      "Using a fourier grid of 200x200x200, spacing 0.120 0.120 0.120\n",
      "This run will generate roughly 184 Mb of data\n"
     ]
    },
    {
     "name": "stderr",
     "output_type": "stream",
     "text": [
      "(Un)Loading module for modern CPU\n",
      "                      :-) GROMACS - gmx grompp, 2020.1 (-:\n",
      "\n",
      "                            GROMACS is written by:\n",
      "     Emile Apol      Rossen Apostolov      Paul Bauer     Herman J.C. Berendsen\n",
      "    Par Bjelkmar      Christian Blau   Viacheslav Bolnykh     Kevin Boyd    \n",
      " Aldert van Buuren   Rudi van Drunen     Anton Feenstra       Alan Gray     \n",
      "  Gerrit Groenhof     Anca Hamuraru    Vincent Hindriksen  M. Eric Irrgang  \n",
      "  Aleksei Iupinov   Christoph Junghans     Joe Jordan     Dimitrios Karkoulis\n",
      "    Peter Kasson        Jiri Kraus      Carsten Kutzner      Per Larsson    \n",
      "  Justin A. Lemkul    Viveca Lindahl    Magnus Lundborg     Erik Marklund   \n",
      "    Pascal Merz     Pieter Meulenhoff    Teemu Murtola       Szilard Pall   \n",
      "    Sander Pronk      Roland Schulz      Michael Shirts    Alexey Shvetsov  \n",
      "   Alfons Sijbers     Peter Tieleman      Jon Vincent      Teemu Virolainen \n",
      " Christian Wennberg    Maarten Wolf      Artem Zhmurov   \n",
      "                           and the project leaders:\n",
      "        Mark Abraham, Berk Hess, Erik Lindahl, and David van der Spoel\n",
      "\n",
      "Copyright (c) 1991-2000, University of Groningen, The Netherlands.\n",
      "Copyright (c) 2001-2019, The GROMACS development team at\n",
      "Uppsala University, Stockholm University and\n",
      "the Royal Institute of Technology, Sweden.\n",
      "check out http://www.gromacs.org for more information.\n",
      "\n",
      "GROMACS is free software; you can redistribute it and/or modify it\n",
      "under the terms of the GNU Lesser General Public License\n",
      "as published by the Free Software Foundation; either version 2.1\n",
      "of the License, or (at your option) any later version.\n",
      "\n",
      "GROMACS:      gmx grompp, version 2020.1\n",
      "Executable:   /opt/gromacs/2020.1_nompi/bin/gmx\n",
      "Data prefix:  /opt/gromacs/2020.1_nompi\n",
      "Working dir:  /home/_shared/_projects/gmx_template_for_nmr\n",
      "Command line:\n",
      "  gmx grompp -maxwarn 1 -f MDProtocols/4_equil.mdp -c GMX_run/3_equil.gro -p GMX_system/topol.top -o GMX_run/4_equil.tpr -v -r GMX_system/init_solv_ions.pdb -n GMX_system/index.ndx -po GMX_run/mdout_4_equil.mdp\n",
      "\n",
      "Ignoring obsolete mdp entry 'ns-type'\n",
      "checking input for internal consistency...\n",
      "\n",
      "NOTE 1 [file MDProtocols/4_equil.mdp]:\n",
      "  You have set rlist larger than the interaction cut-off, but you also have\n",
      "  verlet-buffer-tolerance > 0. Will set rlist using verlet-buffer-tolerance.\n",
      "\n",
      "\n",
      "WARNING 1 [file MDProtocols/4_equil.mdp]:\n",
      "  You are generating velocities so I am assuming you are equilibrating a\n",
      "  system. You are using Parrinello-Rahman pressure coupling, but this can\n",
      "  be unstable for equilibration. If your system crashes, try equilibrating\n",
      "  first with Berendsen pressure coupling. If you are not equilibrating the\n",
      "  system, you can probably ignore this warning.\n",
      "\n",
      "Setting the LD random seed to -13359658\n",
      "Generated 4345 of the 4371 non-bonded parameter combinations\n",
      "Generating 1-4 interactions: fudge = 0.5\n",
      "Generated 4371 of the 4371 1-4 parameter combinations\n",
      "Excluding 3 bonded neighbours molecule type 'Protein_chain_A'\n",
      "Excluding 3 bonded neighbours molecule type 'Protein_chain_B'\n",
      "Excluding 3 bonded neighbours molecule type 'Protein_chain_C'\n",
      "Excluding 3 bonded neighbours molecule type 'Protein_chain_D'\n",
      "Excluding 3 bonded neighbours molecule type 'Protein_chain_E'\n",
      "Excluding 3 bonded neighbours molecule type 'Protein_chain_F'\n",
      "Excluding 3 bonded neighbours molecule type 'Protein_chain_G'\n",
      "Excluding 3 bonded neighbours molecule type 'Protein_chain_H'\n",
      "Excluding 3 bonded neighbours molecule type 'DNA_chain_I'\n",
      "Excluding 3 bonded neighbours molecule type 'DNA_chain_J'\n",
      "Excluding 2 bonded neighbours molecule type 'SOL'\n",
      "Excluding 1 bonded neighbours molecule type 'NA'\n",
      "Excluding 1 bonded neighbours molecule type 'CL'\n",
      "\n",
      "NOTE 2 [file unknown]:\n",
      "  You are using constraints on all bonds, whereas the forcefield has been\n",
      "  parametrized only with constraints involving hydrogen atoms. We suggest\n",
      "  using constraints = h-bonds instead, this will also improve performance.\n",
      "\n",
      "processing coordinates...\n",
      "double-checking input for internal consistency...\n",
      "Setting gen_seed to 226763790\n",
      "Velocities were taken from a Maxwell distribution at 298 K\n",
      "\n",
      "NOTE 3 [file unknown]:\n",
      "  You are combining position restraints with Parrinello-Rahman pressure\n",
      "  coupling, which can lead to instabilities. If you really want to combine\n",
      "  position restraints with pressure coupling, we suggest to use Berendsen\n",
      "  pressure coupling instead.\n",
      "\n",
      "Reading position restraint coords from GMX_system/init_solv_ions.pdb\n",
      "renumbering atomtypes...\n",
      "converting bonded parameters...\n",
      "initialising group options...\n",
      "processing index file...\n",
      "Making dummy/rest group for Acceleration containing 1038142 elements\n",
      "Making dummy/rest group for Freeze containing 1038142 elements\n",
      "Making dummy/rest group for Energy Mon. containing 1038142 elements\n",
      "Number of degrees of freedom in T-Coupling group System is 2077438.00\n",
      "Making dummy/rest group for User1 containing 1038142 elements\n",
      "Making dummy/rest group for User2 containing 1038142 elements\n",
      "Making dummy/rest group for Compressed X containing 1038142 elements\n",
      "Making dummy/rest group for Or. Res. Fit containing 1038142 elements\n",
      "Making dummy/rest group for QMMM containing 1038142 elements\n",
      "T-Coupling       has 1 element(s): System\n",
      "Energy Mon.      has 1 element(s): rest\n",
      "Acceleration     has 1 element(s): rest\n",
      "Freeze           has 1 element(s): rest\n",
      "User1            has 1 element(s): rest\n",
      "User2            has 1 element(s): rest\n",
      "VCM              has 1 element(s): System\n",
      "Compressed X     has 1 element(s): rest\n",
      "Or. Res. Fit     has 1 element(s): rest\n",
      "QMMM             has 1 element(s): rest\n",
      "\n",
      "NOTE 4 [file MDProtocols/4_equil.mdp]:\n",
      "  Removing center of mass motion in the presence of position restraints\n",
      "  might cause artifacts. When you are using position restraints to\n",
      "  equilibrate a macro-molecule, the artifacts are usually negligible.\n",
      "\n",
      "Estimate for the relative computational load of the PME mesh part: 0.27\n",
      "writing run input file...\n",
      "\n",
      "There were 4 notes\n",
      "\n",
      "There was 1 warning\n",
      "\n",
      "GROMACS reminds you: \"I always seem to get inspiration and renewed vitality by contact with this great novel land of yours which sticks up out of the Atlantic.\" (Winston Churchill)\n",
      "\n"
     ]
    }
   ],
   "source": [
    "%%bash -s \"$set_gmx_cmd\"\n",
    "$1\n",
    "#--out out --err err\n",
    "gmx grompp -maxwarn 1 -f MDProtocols/4_equil.mdp -c GMX_run_prep/3_equil.gro -p GMX_system_prep/topol.top \\\n",
    "-o GMX_run_prep/4_equil.tpr -v  -r GMX_system_prep/init_solv_ions.pdb -n GMX_system_prep/index.ndx -po GMX_run_prep/mdout_4_equil.mdp\n"
   ]
  },
  {
   "cell_type": "markdown",
   "metadata": {},
   "source": [
    "#### Run: Option 1 - locally"
   ]
  },
  {
   "cell_type": "code",
   "execution_count": 11,
   "metadata": {},
   "outputs": [
    {
     "name": "stderr",
     "output_type": "stream",
     "text": [
      "(Un)Loading module for modern CPU\n",
      "                      :-) GROMACS - gmx mdrun, 2020.1 (-:\n",
      "\n",
      "                            GROMACS is written by:\n",
      "     Emile Apol      Rossen Apostolov      Paul Bauer     Herman J.C. Berendsen\n",
      "    Par Bjelkmar      Christian Blau   Viacheslav Bolnykh     Kevin Boyd    \n",
      " Aldert van Buuren   Rudi van Drunen     Anton Feenstra       Alan Gray     \n",
      "  Gerrit Groenhof     Anca Hamuraru    Vincent Hindriksen  M. Eric Irrgang  \n",
      "  Aleksei Iupinov   Christoph Junghans     Joe Jordan     Dimitrios Karkoulis\n",
      "    Peter Kasson        Jiri Kraus      Carsten Kutzner      Per Larsson    \n",
      "  Justin A. Lemkul    Viveca Lindahl    Magnus Lundborg     Erik Marklund   \n",
      "    Pascal Merz     Pieter Meulenhoff    Teemu Murtola       Szilard Pall   \n",
      "    Sander Pronk      Roland Schulz      Michael Shirts    Alexey Shvetsov  \n",
      "   Alfons Sijbers     Peter Tieleman      Jon Vincent      Teemu Virolainen \n",
      " Christian Wennberg    Maarten Wolf      Artem Zhmurov   \n",
      "                           and the project leaders:\n",
      "        Mark Abraham, Berk Hess, Erik Lindahl, and David van der Spoel\n",
      "\n",
      "Copyright (c) 1991-2000, University of Groningen, The Netherlands.\n",
      "Copyright (c) 2001-2019, The GROMACS development team at\n",
      "Uppsala University, Stockholm University and\n",
      "the Royal Institute of Technology, Sweden.\n",
      "check out http://www.gromacs.org for more information.\n",
      "\n",
      "GROMACS is free software; you can redistribute it and/or modify it\n",
      "under the terms of the GNU Lesser General Public License\n",
      "as published by the Free Software Foundation; either version 2.1\n",
      "of the License, or (at your option) any later version.\n",
      "\n",
      "GROMACS:      gmx mdrun, version 2020.1\n",
      "Executable:   /opt/gromacs/2020.1_nompi/bin/gmx\n",
      "Data prefix:  /opt/gromacs/2020.1_nompi\n",
      "Working dir:  /home/_shared/_projects/gmx_template_for_nmr/GMX_run\n",
      "Command line:\n",
      "  gmx mdrun -npme 0 -nb gpu -pme gpu -pmefft gpu -notunepme -ntomp 20 -deffnm 4_equil\n",
      "\n",
      "Reading file 4_equil.tpr, VERSION 2020.1 (single precision)\n",
      "Changing nstlist from 10 to 100, rlist from 1.05 to 1.204\n",
      "\n",
      "1 GPU selected for this run.\n",
      "Mapping of GPU IDs to the 2 GPU tasks in the 1 rank on this node:\n",
      "  PP:0,PME:0\n",
      "PP tasks will do (non-perturbed) short-ranged interactions on the GPU\n",
      "PP task will update and constrain coordinates on the CPUPME tasks will do all aspects on the GPU\n",
      "Using 1 MPI thread\n",
      "\n",
      "Non-default thread affinity set, disabling internal thread affinity\n",
      "\n",
      "Using 20 OpenMP threads \n",
      "\n",
      "starting mdrun 'Protein in water'\n",
      "100000 steps,    200.0 ps.\n",
      "\n",
      "Writing final coordinates.\n",
      "\n",
      "               Core t (s)   Wall t (s)        (%)\n",
      "       Time:    44952.851     2247.651     2000.0\n",
      "                         37:27\n",
      "                 (ns/day)    (hour/ns)\n",
      "Performance:        7.688        3.122\n",
      "\n",
      "GROMACS reminds you: \"Kissing You is Like Kissing Gravel\" (Throwing Muses)\n",
      "\n"
     ]
    }
   ],
   "source": [
    "%%bash -s \"$set_gmx_cmd\" \"$gmx_eq_cmd\"\n",
    "$1\n",
    "cd GMX_run_prep\n",
    "$2 -deffnm 4_equil # if you want to run locally"
   ]
  },
  {
   "cell_type": "markdown",
   "metadata": {},
   "source": [
    "#### Run: Option 2 - sending and simulating on Lomonosov-2"
   ]
  },
  {
   "cell_type": "code",
   "execution_count": 15,
   "metadata": {},
   "outputs": [],
   "source": [
    "deffnm='4_equil'"
   ]
  },
  {
   "cell_type": "markdown",
   "metadata": {},
   "source": [
    "### 5_Equilibration 200 ps with postional restraints of 0.5 kJ/mol/A2"
   ]
  },
  {
   "cell_type": "code",
   "execution_count": 12,
   "metadata": {},
   "outputs": [
    {
     "name": "stdout",
     "output_type": "stream",
     "text": [
      "processing topology...\n",
      "turning all bonds into constraints...\n",
      "turning all bonds into constraints...\n",
      "turning all bonds into constraints...\n",
      "turning all bonds into constraints...\n",
      "turning all bonds into constraints...\n",
      "turning all bonds into constraints...\n",
      "turning all bonds into constraints...\n",
      "turning all bonds into constraints...\n",
      "turning all bonds into constraints...\n",
      "turning all bonds into constraints...\n",
      "turning all bonds into constraints...\n",
      "turning all bonds into constraints...\n",
      "turning all bonds into constraints...\n",
      "Determining Verlet buffer for a tolerance of 0.005 kJ/mol/ps at 298 K\n",
      "Calculated rlist for 1x1 atom pair-list as 1.085 nm, buffer size 0.035 nm\n",
      "Set rlist, assuming 4x4 atom pair-list, to 1.050 nm, buffer size 0.000 nm\n",
      "Note that mdrun will redetermine rlist based on the actual pair-list setup\n",
      "Calculating fourier grid dimensions for X Y Z\n",
      "Using a fourier grid of 200x200x200, spacing 0.119 0.119 0.119\n",
      "This run will generate roughly 184 Mb of data\n"
     ]
    },
    {
     "name": "stderr",
     "output_type": "stream",
     "text": [
      "(Un)Loading module for modern CPU\n",
      "                      :-) GROMACS - gmx grompp, 2020.1 (-:\n",
      "\n",
      "                            GROMACS is written by:\n",
      "     Emile Apol      Rossen Apostolov      Paul Bauer     Herman J.C. Berendsen\n",
      "    Par Bjelkmar      Christian Blau   Viacheslav Bolnykh     Kevin Boyd    \n",
      " Aldert van Buuren   Rudi van Drunen     Anton Feenstra       Alan Gray     \n",
      "  Gerrit Groenhof     Anca Hamuraru    Vincent Hindriksen  M. Eric Irrgang  \n",
      "  Aleksei Iupinov   Christoph Junghans     Joe Jordan     Dimitrios Karkoulis\n",
      "    Peter Kasson        Jiri Kraus      Carsten Kutzner      Per Larsson    \n",
      "  Justin A. Lemkul    Viveca Lindahl    Magnus Lundborg     Erik Marklund   \n",
      "    Pascal Merz     Pieter Meulenhoff    Teemu Murtola       Szilard Pall   \n",
      "    Sander Pronk      Roland Schulz      Michael Shirts    Alexey Shvetsov  \n",
      "   Alfons Sijbers     Peter Tieleman      Jon Vincent      Teemu Virolainen \n",
      " Christian Wennberg    Maarten Wolf      Artem Zhmurov   \n",
      "                           and the project leaders:\n",
      "        Mark Abraham, Berk Hess, Erik Lindahl, and David van der Spoel\n",
      "\n",
      "Copyright (c) 1991-2000, University of Groningen, The Netherlands.\n",
      "Copyright (c) 2001-2019, The GROMACS development team at\n",
      "Uppsala University, Stockholm University and\n",
      "the Royal Institute of Technology, Sweden.\n",
      "check out http://www.gromacs.org for more information.\n",
      "\n",
      "GROMACS is free software; you can redistribute it and/or modify it\n",
      "under the terms of the GNU Lesser General Public License\n",
      "as published by the Free Software Foundation; either version 2.1\n",
      "of the License, or (at your option) any later version.\n",
      "\n",
      "GROMACS:      gmx grompp, version 2020.1\n",
      "Executable:   /opt/gromacs/2020.1_nompi/bin/gmx\n",
      "Data prefix:  /opt/gromacs/2020.1_nompi\n",
      "Working dir:  /home/_shared/_projects/gmx_template_for_nmr\n",
      "Command line:\n",
      "  gmx grompp -maxwarn 1 -f MDProtocols/5_equil.mdp -c GMX_run/4_equil.gro -p GMX_system/topol.top -o GMX_run/5_equil.tpr -v -r GMX_system/init_solv_ions.pdb -n GMX_system/index.ndx -po GMX_run/mdout_5_equil.mdp\n",
      "\n",
      "Ignoring obsolete mdp entry 'ns-type'\n",
      "checking input for internal consistency...\n",
      "\n",
      "NOTE 1 [file MDProtocols/5_equil.mdp]:\n",
      "  You have set rlist larger than the interaction cut-off, but you also have\n",
      "  verlet-buffer-tolerance > 0. Will set rlist using verlet-buffer-tolerance.\n",
      "\n",
      "\n",
      "WARNING 1 [file MDProtocols/5_equil.mdp]:\n",
      "  You are generating velocities so I am assuming you are equilibrating a\n",
      "  system. You are using Parrinello-Rahman pressure coupling, but this can\n",
      "  be unstable for equilibration. If your system crashes, try equilibrating\n",
      "  first with Berendsen pressure coupling. If you are not equilibrating the\n",
      "  system, you can probably ignore this warning.\n",
      "\n",
      "Setting the LD random seed to 263415858\n",
      "Generated 4345 of the 4371 non-bonded parameter combinations\n",
      "Generating 1-4 interactions: fudge = 0.5\n",
      "Generated 4371 of the 4371 1-4 parameter combinations\n",
      "Excluding 3 bonded neighbours molecule type 'Protein_chain_A'\n",
      "Excluding 3 bonded neighbours molecule type 'Protein_chain_B'\n",
      "Excluding 3 bonded neighbours molecule type 'Protein_chain_C'\n",
      "Excluding 3 bonded neighbours molecule type 'Protein_chain_D'\n",
      "Excluding 3 bonded neighbours molecule type 'Protein_chain_E'\n",
      "Excluding 3 bonded neighbours molecule type 'Protein_chain_F'\n",
      "Excluding 3 bonded neighbours molecule type 'Protein_chain_G'\n",
      "Excluding 3 bonded neighbours molecule type 'Protein_chain_H'\n",
      "Excluding 3 bonded neighbours molecule type 'DNA_chain_I'\n",
      "Excluding 3 bonded neighbours molecule type 'DNA_chain_J'\n",
      "Excluding 2 bonded neighbours molecule type 'SOL'\n",
      "Excluding 1 bonded neighbours molecule type 'NA'\n",
      "Excluding 1 bonded neighbours molecule type 'CL'\n",
      "\n",
      "NOTE 2 [file unknown]:\n",
      "  You are using constraints on all bonds, whereas the forcefield has been\n",
      "  parametrized only with constraints involving hydrogen atoms. We suggest\n",
      "  using constraints = h-bonds instead, this will also improve performance.\n",
      "\n",
      "processing coordinates...\n",
      "double-checking input for internal consistency...\n",
      "Setting gen_seed to -288231548\n",
      "Velocities were taken from a Maxwell distribution at 298 K\n",
      "\n",
      "NOTE 3 [file unknown]:\n",
      "  You are combining position restraints with Parrinello-Rahman pressure\n",
      "  coupling, which can lead to instabilities. If you really want to combine\n",
      "  position restraints with pressure coupling, we suggest to use Berendsen\n",
      "  pressure coupling instead.\n",
      "\n",
      "Reading position restraint coords from GMX_system/init_solv_ions.pdb\n",
      "renumbering atomtypes...\n",
      "converting bonded parameters...\n",
      "initialising group options...\n",
      "processing index file...\n",
      "Making dummy/rest group for Acceleration containing 1038142 elements\n",
      "Making dummy/rest group for Freeze containing 1038142 elements\n",
      "Making dummy/rest group for Energy Mon. containing 1038142 elements\n",
      "Number of degrees of freedom in T-Coupling group System is 2077438.00\n",
      "Making dummy/rest group for User1 containing 1038142 elements\n",
      "Making dummy/rest group for User2 containing 1038142 elements\n",
      "Making dummy/rest group for Compressed X containing 1038142 elements\n",
      "Making dummy/rest group for Or. Res. Fit containing 1038142 elements\n",
      "Making dummy/rest group for QMMM containing 1038142 elements\n",
      "T-Coupling       has 1 element(s): System\n",
      "Energy Mon.      has 1 element(s): rest\n",
      "Acceleration     has 1 element(s): rest\n",
      "Freeze           has 1 element(s): rest\n",
      "User1            has 1 element(s): rest\n",
      "User2            has 1 element(s): rest\n",
      "VCM              has 1 element(s): System\n",
      "Compressed X     has 1 element(s): rest\n",
      "Or. Res. Fit     has 1 element(s): rest\n",
      "QMMM             has 1 element(s): rest\n",
      "\n",
      "NOTE 4 [file MDProtocols/5_equil.mdp]:\n",
      "  Removing center of mass motion in the presence of position restraints\n",
      "  might cause artifacts. When you are using position restraints to\n",
      "  equilibrate a macro-molecule, the artifacts are usually negligible.\n",
      "\n",
      "Estimate for the relative computational load of the PME mesh part: 0.27\n",
      "writing run input file...\n",
      "\n",
      "There were 4 notes\n",
      "\n",
      "There was 1 warning\n",
      "\n",
      "GROMACS reminds you: \"Load Up Your Rubber Bullets\" (10 CC)\n",
      "\n"
     ]
    }
   ],
   "source": [
    "%%bash -s \"$set_gmx_cmd\" \n",
    "$1\n",
    "#--out out --err err\n",
    "gmx grompp -maxwarn 1 -f MDProtocols/5_equil.mdp -c GMX_run_prep/4_equil.gro -p GMX_system_prep/topol.top \\\n",
    "-o GMX_run_prep/5_equil.tpr -v  -r GMX_system_prep/init_solv_ions.pdb -n GMX_system_prep/index.ndx -po GMX_run_prep/mdout_5_equil.mdp\n"
   ]
  },
  {
   "cell_type": "markdown",
   "metadata": {},
   "source": [
    "#### Run: Option 1 - locally"
   ]
  },
  {
   "cell_type": "code",
   "execution_count": 13,
   "metadata": {},
   "outputs": [
    {
     "name": "stderr",
     "output_type": "stream",
     "text": [
      "(Un)Loading module for modern CPU\n",
      "                      :-) GROMACS - gmx mdrun, 2020.1 (-:\n",
      "\n",
      "                            GROMACS is written by:\n",
      "     Emile Apol      Rossen Apostolov      Paul Bauer     Herman J.C. Berendsen\n",
      "    Par Bjelkmar      Christian Blau   Viacheslav Bolnykh     Kevin Boyd    \n",
      " Aldert van Buuren   Rudi van Drunen     Anton Feenstra       Alan Gray     \n",
      "  Gerrit Groenhof     Anca Hamuraru    Vincent Hindriksen  M. Eric Irrgang  \n",
      "  Aleksei Iupinov   Christoph Junghans     Joe Jordan     Dimitrios Karkoulis\n",
      "    Peter Kasson        Jiri Kraus      Carsten Kutzner      Per Larsson    \n",
      "  Justin A. Lemkul    Viveca Lindahl    Magnus Lundborg     Erik Marklund   \n",
      "    Pascal Merz     Pieter Meulenhoff    Teemu Murtola       Szilard Pall   \n",
      "    Sander Pronk      Roland Schulz      Michael Shirts    Alexey Shvetsov  \n",
      "   Alfons Sijbers     Peter Tieleman      Jon Vincent      Teemu Virolainen \n",
      " Christian Wennberg    Maarten Wolf      Artem Zhmurov   \n",
      "                           and the project leaders:\n",
      "        Mark Abraham, Berk Hess, Erik Lindahl, and David van der Spoel\n",
      "\n",
      "Copyright (c) 1991-2000, University of Groningen, The Netherlands.\n",
      "Copyright (c) 2001-2019, The GROMACS development team at\n",
      "Uppsala University, Stockholm University and\n",
      "the Royal Institute of Technology, Sweden.\n",
      "check out http://www.gromacs.org for more information.\n",
      "\n",
      "GROMACS is free software; you can redistribute it and/or modify it\n",
      "under the terms of the GNU Lesser General Public License\n",
      "as published by the Free Software Foundation; either version 2.1\n",
      "of the License, or (at your option) any later version.\n",
      "\n",
      "GROMACS:      gmx mdrun, version 2020.1\n",
      "Executable:   /opt/gromacs/2020.1_nompi/bin/gmx\n",
      "Data prefix:  /opt/gromacs/2020.1_nompi\n",
      "Working dir:  /home/_shared/_projects/gmx_template_for_nmr/GMX_run\n",
      "Command line:\n",
      "  gmx mdrun -npme 0 -nb gpu -pme gpu -pmefft gpu -notunepme -ntomp 20 -deffnm 5_equil\n",
      "\n",
      "Reading file 5_equil.tpr, VERSION 2020.1 (single precision)\n",
      "Changing nstlist from 10 to 100, rlist from 1.05 to 1.204\n",
      "\n",
      "1 GPU selected for this run.\n",
      "Mapping of GPU IDs to the 2 GPU tasks in the 1 rank on this node:\n",
      "  PP:0,PME:0\n",
      "PP tasks will do (non-perturbed) short-ranged interactions on the GPU\n",
      "PP task will update and constrain coordinates on the CPUPME tasks will do all aspects on the GPU\n",
      "Using 1 MPI thread\n",
      "\n",
      "Non-default thread affinity set, disabling internal thread affinity\n",
      "\n",
      "Using 20 OpenMP threads \n",
      "\n",
      "starting mdrun 'Protein in water'\n",
      "100000 steps,    200.0 ps.\n",
      "\n",
      "Writing final coordinates.\n",
      "\n",
      "               Core t (s)   Wall t (s)        (%)\n",
      "       Time:    47245.269     2362.273     2000.0\n",
      "                         39:22\n",
      "                 (ns/day)    (hour/ns)\n",
      "Performance:        7.315        3.281\n",
      "\n",
      "GROMACS reminds you: \"For a research worker the unforgotten moments of his life are those rare ones which come after years of plodding work, when the veil over natures secret seems suddenly to lift & when what was dark & chaotic appears in a clear & beautiful light & pattern.\" (Gerty Cori)\n",
      "\n"
     ]
    }
   ],
   "source": [
    "%%bash -s \"$set_gmx_cmd\" \"$gmx_eq_cmd\"\n",
    "$1\n",
    "cd GMX_run_prep\n",
    "$2 -deffnm 5_equil # if you want to run locally"
   ]
  },
  {
   "cell_type": "markdown",
   "metadata": {},
   "source": [
    "#### Run: Option 2 - sending and simulating on Lomonosov-2"
   ]
  },
  {
   "cell_type": "code",
   "execution_count": 18,
   "metadata": {},
   "outputs": [],
   "source": [
    "deffnm='5_equil'"
   ]
  },
  {
   "cell_type": "markdown",
   "metadata": {},
   "source": [
    "### 6_Equilibration 200 ps unrestrained"
   ]
  },
  {
   "cell_type": "code",
   "execution_count": 14,
   "metadata": {},
   "outputs": [
    {
     "name": "stdout",
     "output_type": "stream",
     "text": [
      "processing topology...\n",
      "turning all bonds into constraints...\n",
      "turning all bonds into constraints...\n",
      "turning all bonds into constraints...\n",
      "turning all bonds into constraints...\n",
      "turning all bonds into constraints...\n",
      "turning all bonds into constraints...\n",
      "turning all bonds into constraints...\n",
      "turning all bonds into constraints...\n",
      "turning all bonds into constraints...\n",
      "turning all bonds into constraints...\n",
      "turning all bonds into constraints...\n",
      "turning all bonds into constraints...\n",
      "turning all bonds into constraints...\n",
      "Determining Verlet buffer for a tolerance of 0.005 kJ/mol/ps at 298 K\n",
      "Calculated rlist for 1x1 atom pair-list as 1.085 nm, buffer size 0.035 nm\n",
      "Set rlist, assuming 4x4 atom pair-list, to 1.050 nm, buffer size 0.000 nm\n",
      "Note that mdrun will redetermine rlist based on the actual pair-list setup\n",
      "Calculating fourier grid dimensions for X Y Z\n",
      "Using a fourier grid of 200x200x200, spacing 0.119 0.119 0.119\n",
      "This run will generate roughly 184 Mb of data\n"
     ]
    },
    {
     "name": "stderr",
     "output_type": "stream",
     "text": [
      "(Un)Loading module for modern CPU\n",
      "                      :-) GROMACS - gmx grompp, 2020.1 (-:\n",
      "\n",
      "                            GROMACS is written by:\n",
      "     Emile Apol      Rossen Apostolov      Paul Bauer     Herman J.C. Berendsen\n",
      "    Par Bjelkmar      Christian Blau   Viacheslav Bolnykh     Kevin Boyd    \n",
      " Aldert van Buuren   Rudi van Drunen     Anton Feenstra       Alan Gray     \n",
      "  Gerrit Groenhof     Anca Hamuraru    Vincent Hindriksen  M. Eric Irrgang  \n",
      "  Aleksei Iupinov   Christoph Junghans     Joe Jordan     Dimitrios Karkoulis\n",
      "    Peter Kasson        Jiri Kraus      Carsten Kutzner      Per Larsson    \n",
      "  Justin A. Lemkul    Viveca Lindahl    Magnus Lundborg     Erik Marklund   \n",
      "    Pascal Merz     Pieter Meulenhoff    Teemu Murtola       Szilard Pall   \n",
      "    Sander Pronk      Roland Schulz      Michael Shirts    Alexey Shvetsov  \n",
      "   Alfons Sijbers     Peter Tieleman      Jon Vincent      Teemu Virolainen \n",
      " Christian Wennberg    Maarten Wolf      Artem Zhmurov   \n",
      "                           and the project leaders:\n",
      "        Mark Abraham, Berk Hess, Erik Lindahl, and David van der Spoel\n",
      "\n",
      "Copyright (c) 1991-2000, University of Groningen, The Netherlands.\n",
      "Copyright (c) 2001-2019, The GROMACS development team at\n",
      "Uppsala University, Stockholm University and\n",
      "the Royal Institute of Technology, Sweden.\n",
      "check out http://www.gromacs.org for more information.\n",
      "\n",
      "GROMACS is free software; you can redistribute it and/or modify it\n",
      "under the terms of the GNU Lesser General Public License\n",
      "as published by the Free Software Foundation; either version 2.1\n",
      "of the License, or (at your option) any later version.\n",
      "\n",
      "GROMACS:      gmx grompp, version 2020.1\n",
      "Executable:   /opt/gromacs/2020.1_nompi/bin/gmx\n",
      "Data prefix:  /opt/gromacs/2020.1_nompi\n",
      "Working dir:  /home/_shared/_projects/gmx_template_for_nmr\n",
      "Command line:\n",
      "  gmx grompp -maxwarn 1 -f MDProtocols/6_equil.mdp -c GMX_run/5_equil.gro -p GMX_system/topol.top -o GMX_run/6_equil.tpr -v -r GMX_system/init_solv_ions.pdb -n GMX_system/index.ndx -po GMX_run/mdout_6_equil.mdp\n",
      "\n",
      "Ignoring obsolete mdp entry 'ns-type'\n",
      "checking input for internal consistency...\n",
      "\n",
      "NOTE 1 [file MDProtocols/6_equil.mdp]:\n",
      "  You have set rlist larger than the interaction cut-off, but you also have\n",
      "  verlet-buffer-tolerance > 0. Will set rlist using verlet-buffer-tolerance.\n",
      "\n",
      "\n",
      "WARNING 1 [file MDProtocols/6_equil.mdp]:\n",
      "  You are generating velocities so I am assuming you are equilibrating a\n",
      "  system. You are using Parrinello-Rahman pressure coupling, but this can\n",
      "  be unstable for equilibration. If your system crashes, try equilibrating\n",
      "  first with Berendsen pressure coupling. If you are not equilibrating the\n",
      "  system, you can probably ignore this warning.\n",
      "\n",
      "Setting the LD random seed to -430012622\n",
      "Generated 4345 of the 4371 non-bonded parameter combinations\n",
      "Generating 1-4 interactions: fudge = 0.5\n",
      "Generated 4371 of the 4371 1-4 parameter combinations\n",
      "Excluding 3 bonded neighbours molecule type 'Protein_chain_A'\n",
      "Excluding 3 bonded neighbours molecule type 'Protein_chain_B'\n",
      "Excluding 3 bonded neighbours molecule type 'Protein_chain_C'\n",
      "Excluding 3 bonded neighbours molecule type 'Protein_chain_D'\n",
      "Excluding 3 bonded neighbours molecule type 'Protein_chain_E'\n",
      "Excluding 3 bonded neighbours molecule type 'Protein_chain_F'\n",
      "Excluding 3 bonded neighbours molecule type 'Protein_chain_G'\n",
      "Excluding 3 bonded neighbours molecule type 'Protein_chain_H'\n",
      "Excluding 3 bonded neighbours molecule type 'DNA_chain_I'\n",
      "Excluding 3 bonded neighbours molecule type 'DNA_chain_J'\n",
      "Excluding 2 bonded neighbours molecule type 'SOL'\n",
      "Excluding 1 bonded neighbours molecule type 'NA'\n",
      "Excluding 1 bonded neighbours molecule type 'CL'\n",
      "\n",
      "NOTE 2 [file unknown]:\n",
      "  You are using constraints on all bonds, whereas the forcefield has been\n",
      "  parametrized only with constraints involving hydrogen atoms. We suggest\n",
      "  using constraints = h-bonds instead, this will also improve performance.\n",
      "\n",
      "processing coordinates...\n",
      "double-checking input for internal consistency...\n",
      "Setting gen_seed to -357317739\n",
      "Velocities were taken from a Maxwell distribution at 298 K\n",
      "renumbering atomtypes...\n",
      "converting bonded parameters...\n",
      "initialising group options...\n",
      "processing index file...\n",
      "Making dummy/rest group for Acceleration containing 1038142 elements\n",
      "Making dummy/rest group for Freeze containing 1038142 elements\n",
      "Making dummy/rest group for Energy Mon. containing 1038142 elements\n",
      "Number of degrees of freedom in T-Coupling group System is 2077438.00\n",
      "Making dummy/rest group for User1 containing 1038142 elements\n",
      "Making dummy/rest group for User2 containing 1038142 elements\n",
      "Making dummy/rest group for Compressed X containing 1038142 elements\n",
      "Making dummy/rest group for Or. Res. Fit containing 1038142 elements\n",
      "Making dummy/rest group for QMMM containing 1038142 elements\n",
      "T-Coupling       has 1 element(s): System\n",
      "Energy Mon.      has 1 element(s): rest\n",
      "Acceleration     has 1 element(s): rest\n",
      "Freeze           has 1 element(s): rest\n",
      "User1            has 1 element(s): rest\n",
      "User2            has 1 element(s): rest\n",
      "VCM              has 1 element(s): System\n",
      "Compressed X     has 1 element(s): rest\n",
      "Or. Res. Fit     has 1 element(s): rest\n",
      "QMMM             has 1 element(s): rest\n",
      "Estimate for the relative computational load of the PME mesh part: 0.27\n",
      "writing run input file...\n",
      "\n",
      "There were 2 notes\n",
      "\n",
      "There was 1 warning\n",
      "\n",
      "GROMACS reminds you: \"Louis Pasteur's theory of germs is ridiculous fiction.\" (Pierre Pachet, Professor of Physiology at Toulouse, 1872)\n",
      "\n"
     ]
    }
   ],
   "source": [
    "%%bash -s \"$set_gmx_cmd\"\n",
    "$1 \n",
    "#--out out --err err\n",
    "gmx grompp -maxwarn 1 -f MDProtocols/6_equil.mdp -c GMX_run_prep/5_equil.gro -p GMX_system_prep/topol.top \\\n",
    "-o GMX_run_prep/6_equil.tpr -v  -r GMX_system_prep/init_solv_ions.pdb -n GMX_system_prep/index.ndx -po GMX_run_prep/mdout_6_equil.mdp\n"
   ]
  },
  {
   "cell_type": "markdown",
   "metadata": {},
   "source": [
    "#### Run: Option 1 - locally"
   ]
  },
  {
   "cell_type": "code",
   "execution_count": 15,
   "metadata": {},
   "outputs": [
    {
     "name": "stderr",
     "output_type": "stream",
     "text": [
      "(Un)Loading module for modern CPU\n",
      "                      :-) GROMACS - gmx mdrun, 2020.1 (-:\n",
      "\n",
      "                            GROMACS is written by:\n",
      "     Emile Apol      Rossen Apostolov      Paul Bauer     Herman J.C. Berendsen\n",
      "    Par Bjelkmar      Christian Blau   Viacheslav Bolnykh     Kevin Boyd    \n",
      " Aldert van Buuren   Rudi van Drunen     Anton Feenstra       Alan Gray     \n",
      "  Gerrit Groenhof     Anca Hamuraru    Vincent Hindriksen  M. Eric Irrgang  \n",
      "  Aleksei Iupinov   Christoph Junghans     Joe Jordan     Dimitrios Karkoulis\n",
      "    Peter Kasson        Jiri Kraus      Carsten Kutzner      Per Larsson    \n",
      "  Justin A. Lemkul    Viveca Lindahl    Magnus Lundborg     Erik Marklund   \n",
      "    Pascal Merz     Pieter Meulenhoff    Teemu Murtola       Szilard Pall   \n",
      "    Sander Pronk      Roland Schulz      Michael Shirts    Alexey Shvetsov  \n",
      "   Alfons Sijbers     Peter Tieleman      Jon Vincent      Teemu Virolainen \n",
      " Christian Wennberg    Maarten Wolf      Artem Zhmurov   \n",
      "                           and the project leaders:\n",
      "        Mark Abraham, Berk Hess, Erik Lindahl, and David van der Spoel\n",
      "\n",
      "Copyright (c) 1991-2000, University of Groningen, The Netherlands.\n",
      "Copyright (c) 2001-2019, The GROMACS development team at\n",
      "Uppsala University, Stockholm University and\n",
      "the Royal Institute of Technology, Sweden.\n",
      "check out http://www.gromacs.org for more information.\n",
      "\n",
      "GROMACS is free software; you can redistribute it and/or modify it\n",
      "under the terms of the GNU Lesser General Public License\n",
      "as published by the Free Software Foundation; either version 2.1\n",
      "of the License, or (at your option) any later version.\n",
      "\n",
      "GROMACS:      gmx mdrun, version 2020.1\n",
      "Executable:   /opt/gromacs/2020.1_nompi/bin/gmx\n",
      "Data prefix:  /opt/gromacs/2020.1_nompi\n",
      "Working dir:  /home/_shared/_projects/gmx_template_for_nmr/GMX_run\n",
      "Command line:\n",
      "  gmx mdrun -npme 0 -nb gpu -pme gpu -pmefft gpu -notunepme -ntomp 20 -deffnm 6_equil\n",
      "\n",
      "Reading file 6_equil.tpr, VERSION 2020.1 (single precision)\n",
      "Changing nstlist from 10 to 100, rlist from 1.05 to 1.204\n",
      "\n",
      "1 GPU selected for this run.\n",
      "Mapping of GPU IDs to the 2 GPU tasks in the 1 rank on this node:\n",
      "  PP:0,PME:0\n",
      "PP tasks will do (non-perturbed) short-ranged interactions on the GPU\n",
      "PP task will update and constrain coordinates on the CPUPME tasks will do all aspects on the GPU\n",
      "Using 1 MPI thread\n",
      "\n",
      "Non-default thread affinity set, disabling internal thread affinity\n",
      "\n",
      "Using 20 OpenMP threads \n",
      "\n",
      "starting mdrun 'Protein in water'\n",
      "100000 steps,    200.0 ps.\n",
      "\n",
      "Writing final coordinates.\n",
      "\n",
      "               Core t (s)   Wall t (s)        (%)\n",
      "       Time:    48976.014     2448.810     2000.0\n",
      "                         40:48\n",
      "                 (ns/day)    (hour/ns)\n",
      "Performance:        7.057        3.401\n",
      "\n",
      "GROMACS reminds you: \"I never thought of stopping, and I just hated sleeping. I can't imagine having a better life.\" (Barbara McClintock)\n",
      "\n"
     ]
    }
   ],
   "source": [
    "%%bash -s \"$set_gmx_cmd\" \"$gmx_eq_cmd\"\n",
    "$1\n",
    "cd GMX_run_prep\n",
    "$2 -deffnm 6_equil # if you want to run locally"
   ]
  },
  {
   "cell_type": "markdown",
   "metadata": {},
   "source": [
    "#### Run: Option 2 - sending and simulating on Lomonosov-2"
   ]
  },
  {
   "cell_type": "code",
   "execution_count": 21,
   "metadata": {},
   "outputs": [],
   "source": [
    "deffnm='6_equil'"
   ]
  },
  {
   "cell_type": "markdown",
   "metadata": {},
   "source": [
    "# Saving final equilibrated results"
   ]
  },
  {
   "cell_type": "markdown",
   "metadata": {},
   "source": [
    "As a result we have equlibrated system ready for production simulations.\n",
    "We copy it to GMX_system_prep."
   ]
  },
  {
   "cell_type": "code",
   "execution_count": 16,
   "metadata": {},
   "outputs": [],
   "source": [
    "%%bash\n",
    "cp GMX_run_prep/6_equil.gro GMX_system_prep/ #coordinates\n",
    "cp GMX_run_prep/6_equil.cpt GMX_system_prep/ #This has also velocities\n",
    "\n",
    "\n",
    "\n"
   ]
  },
  {
   "cell_type": "markdown",
   "metadata": {},
   "source": []
  },
  {
   "cell_type": "markdown",
   "metadata": {},
   "source": [
    "Optionally we can save all equilibrated files, if want to copy them somewhere and user later,\n",
    "here we place into results folder the set of equilibrated files of step 6.\n"
   ]
  },
  {
   "cell_type": "code",
   "execution_count": 17,
   "metadata": {},
   "outputs": [
    {
     "name": "stdout",
     "output_type": "stream",
     "text": [
      "Note that major changes are planned in future for trjconv, to improve usability and utility.\n",
      "Select group for output\n",
      "Selected 0: 'System'\n"
     ]
    },
    {
     "name": "stderr",
     "output_type": "stream",
     "text": [
      "(Un)Loading module for modern CPU\n",
      "                     :-) GROMACS - gmx trjconv, 2020.1 (-:\n",
      "\n",
      "                            GROMACS is written by:\n",
      "     Emile Apol      Rossen Apostolov      Paul Bauer     Herman J.C. Berendsen\n",
      "    Par Bjelkmar      Christian Blau   Viacheslav Bolnykh     Kevin Boyd    \n",
      " Aldert van Buuren   Rudi van Drunen     Anton Feenstra       Alan Gray     \n",
      "  Gerrit Groenhof     Anca Hamuraru    Vincent Hindriksen  M. Eric Irrgang  \n",
      "  Aleksei Iupinov   Christoph Junghans     Joe Jordan     Dimitrios Karkoulis\n",
      "    Peter Kasson        Jiri Kraus      Carsten Kutzner      Per Larsson    \n",
      "  Justin A. Lemkul    Viveca Lindahl    Magnus Lundborg     Erik Marklund   \n",
      "    Pascal Merz     Pieter Meulenhoff    Teemu Murtola       Szilard Pall   \n",
      "    Sander Pronk      Roland Schulz      Michael Shirts    Alexey Shvetsov  \n",
      "   Alfons Sijbers     Peter Tieleman      Jon Vincent      Teemu Virolainen \n",
      " Christian Wennberg    Maarten Wolf      Artem Zhmurov   \n",
      "                           and the project leaders:\n",
      "        Mark Abraham, Berk Hess, Erik Lindahl, and David van der Spoel\n",
      "\n",
      "Copyright (c) 1991-2000, University of Groningen, The Netherlands.\n",
      "Copyright (c) 2001-2019, The GROMACS development team at\n",
      "Uppsala University, Stockholm University and\n",
      "the Royal Institute of Technology, Sweden.\n",
      "check out http://www.gromacs.org for more information.\n",
      "\n",
      "GROMACS is free software; you can redistribute it and/or modify it\n",
      "under the terms of the GNU Lesser General Public License\n",
      "as published by the Free Software Foundation; either version 2.1\n",
      "of the License, or (at your option) any later version.\n",
      "\n",
      "GROMACS:      gmx trjconv, version 2020.1\n",
      "Executable:   /opt/gromacs/2020.1_nompi/bin/gmx\n",
      "Data prefix:  /opt/gromacs/2020.1_nompi\n",
      "Working dir:  /home/_shared/_projects/gmx_template_for_nmr\n",
      "Command line:\n",
      "  gmx trjconv -f GMX_run/6_equil.gro -s GMX_run/6_equil.tpr -o GMX_run/6_equil.pdb\n",
      "\n",
      "Will write pdb: Protein data bank file\n",
      "Reading file GMX_run/6_equil.tpr, VERSION 2020.1 (single precision)\n",
      "Reading file GMX_run/6_equil.tpr, VERSION 2020.1 (single precision)\n",
      "Group     0 (         System) has 1038142 elements\n",
      "Group     1 (        Protein) has 15740 elements\n",
      "Group     2 (      Protein-H) has  7586 elements\n",
      "Group     3 (        C-alpha) has   974 elements\n",
      "Group     4 (       Backbone) has  2922 elements\n",
      "Group     5 (      MainChain) has  3904 elements\n",
      "Group     6 (   MainChain+Cb) has  4794 elements\n",
      "Group     7 (    MainChain+H) has  4862 elements\n",
      "Group     8 (      SideChain) has 10878 elements\n",
      "Group     9 (    SideChain-H) has  3682 elements\n",
      "Group    10 (    Prot-Masses) has 15740 elements\n",
      "Group    11 (    non-Protein) has 1022402 elements\n",
      "Group    12 (            DNA) has  9198 elements\n",
      "Group    13 (             NA) has  1055 elements\n",
      "Group    14 (             CL) has   915 elements\n",
      "Group    15 (          Water) has 1011234 elements\n",
      "Group    16 (            SOL) has 1011234 elements\n",
      "Group    17 (      non-Water) has 26908 elements\n",
      "Group    18 (            Ion) has  1970 elements\n",
      "Group    19 (             NA) has  1055 elements\n",
      "Group    20 (             CL) has   915 elements\n",
      "Group    21 ( Water_and_ions) has 1013204 elements\n",
      "Select a group: Reading frames from gro file 'Protein in water', 1038142 atoms.\n",
      "Reading frame       0 time    0.000   \n",
      "Precision of GMX_run/6_equil.gro is 0.001 (nm)\n",
      "Last frame          0 time    0.000   \n",
      "\n",
      "\n",
      "GROMACS reminds you: \"If You Touch Me, You'll Get Shocked\" (Beastie Boys)\n",
      "\n"
     ]
    }
   ],
   "source": [
    "%%bash -s \"$set_gmx_cmd\"\n",
    "$1\n",
    "gmx trjconv -f GMX_run_prep/6_equil.gro -s GMX_run_prep/6_equil.tpr -o GMX_run_prep/6_equil.pdb << !\n",
    "0\n",
    "!"
   ]
  },
  {
   "cell_type": "code",
   "execution_count": 18,
   "metadata": {},
   "outputs": [],
   "source": [
    "%%bash\n",
    "mkdir -p results\n",
    "cp GMX_run_prep/6_equil* results/\n",
    "cp GMX_system_prep/sys_ref.pdb results/"
   ]
  },
  {
   "cell_type": "markdown",
   "metadata": {},
   "source": [
    "## 7_Production run 100 ns - for tails condencation "
   ]
  },
  {
   "cell_type": "code",
   "execution_count": 19,
   "metadata": {},
   "outputs": [
    {
     "name": "stdout",
     "output_type": "stream",
     "text": [
      "processing topology...\n",
      "turning all bonds into constraints...\n",
      "turning all bonds into constraints...\n",
      "turning all bonds into constraints...\n",
      "turning all bonds into constraints...\n",
      "turning all bonds into constraints...\n",
      "turning all bonds into constraints...\n",
      "turning all bonds into constraints...\n",
      "turning all bonds into constraints...\n",
      "turning all bonds into constraints...\n",
      "turning all bonds into constraints...\n",
      "turning all bonds into constraints...\n",
      "turning all bonds into constraints...\n",
      "turning all bonds into constraints...\n",
      "Determining Verlet buffer for a tolerance of 0.005 kJ/mol/ps at 298 K\n",
      "Calculated rlist for 1x1 atom pair-list as 1.085 nm, buffer size 0.035 nm\n",
      "Set rlist, assuming 4x4 atom pair-list, to 1.050 nm, buffer size 0.000 nm\n",
      "Note that mdrun will redetermine rlist based on the actual pair-list setup\n",
      "Calculating fourier grid dimensions for X Y Z\n",
      "Using a fourier grid of 200x200x200, spacing 0.119 0.119 0.119\n"
     ]
    },
    {
     "name": "stderr",
     "output_type": "stream",
     "text": [
      "(Un)Loading module for modern CPU\n",
      "                      :-) GROMACS - gmx grompp, 2020.1 (-:\n",
      "\n",
      "                            GROMACS is written by:\n",
      "     Emile Apol      Rossen Apostolov      Paul Bauer     Herman J.C. Berendsen\n",
      "    Par Bjelkmar      Christian Blau   Viacheslav Bolnykh     Kevin Boyd    \n",
      " Aldert van Buuren   Rudi van Drunen     Anton Feenstra       Alan Gray     \n",
      "  Gerrit Groenhof     Anca Hamuraru    Vincent Hindriksen  M. Eric Irrgang  \n",
      "  Aleksei Iupinov   Christoph Junghans     Joe Jordan     Dimitrios Karkoulis\n",
      "    Peter Kasson        Jiri Kraus      Carsten Kutzner      Per Larsson    \n",
      "  Justin A. Lemkul    Viveca Lindahl    Magnus Lundborg     Erik Marklund   \n",
      "    Pascal Merz     Pieter Meulenhoff    Teemu Murtola       Szilard Pall   \n",
      "    Sander Pronk      Roland Schulz      Michael Shirts    Alexey Shvetsov  \n",
      "   Alfons Sijbers     Peter Tieleman      Jon Vincent      Teemu Virolainen \n",
      " Christian Wennberg    Maarten Wolf      Artem Zhmurov   \n",
      "                           and the project leaders:\n",
      "        Mark Abraham, Berk Hess, Erik Lindahl, and David van der Spoel\n",
      "\n",
      "Copyright (c) 1991-2000, University of Groningen, The Netherlands.\n",
      "Copyright (c) 2001-2019, The GROMACS development team at\n",
      "Uppsala University, Stockholm University and\n",
      "the Royal Institute of Technology, Sweden.\n",
      "check out http://www.gromacs.org for more information.\n",
      "\n",
      "GROMACS is free software; you can redistribute it and/or modify it\n",
      "under the terms of the GNU Lesser General Public License\n",
      "as published by the Free Software Foundation; either version 2.1\n",
      "of the License, or (at your option) any later version.\n",
      "\n",
      "GROMACS:      gmx grompp, version 2020.1\n",
      "Executable:   /opt/gromacs/2020.1_nompi/bin/gmx\n",
      "Data prefix:  /opt/gromacs/2020.1_nompi\n",
      "Working dir:  /home/_shared/_projects/gmx_template_for_nmr\n",
      "Command line:\n",
      "  gmx grompp -maxwarn 2 -f MDProtocols/7_prod.mdp -c GMX_run_prep/6_equil.gro -p GMX_system_prep/topol.top -o GMX_run_prep/7_prod.tpr -v -r GMX_run_prep/6_equil.gro -n GMX_system_prep/index.ndx -po GMX_run_prep/mdout_7_prod.mdp -t GMX_run_prep/6_equil.cpt\n",
      "\n",
      "Ignoring obsolete mdp entry 'ns-type'\n",
      "checking input for internal consistency...\n",
      "\n",
      "NOTE 1 [file MDProtocols/7_prod.mdp]:\n",
      "  You have set rlist larger than the interaction cut-off, but you also have\n",
      "  verlet-buffer-tolerance > 0. Will set rlist using verlet-buffer-tolerance.\n",
      "\n",
      "\n",
      "WARNING 1 [file MDProtocols/7_prod.mdp]:\n",
      "  You are generating velocities so I am assuming you are equilibrating a\n",
      "  system. You are using Parrinello-Rahman pressure coupling, but this can\n",
      "  be unstable for equilibration. If your system crashes, try equilibrating\n",
      "  first with Berendsen pressure coupling. If you are not equilibrating the\n",
      "  system, you can probably ignore this warning.\n",
      "\n",
      "Setting the LD random seed to -1390565739\n",
      "Generated 4345 of the 4371 non-bonded parameter combinations\n",
      "Generating 1-4 interactions: fudge = 0.5\n",
      "Generated 4371 of the 4371 1-4 parameter combinations\n",
      "Excluding 3 bonded neighbours molecule type 'Protein_chain_A'\n",
      "Excluding 3 bonded neighbours molecule type 'Protein_chain_B'\n",
      "Excluding 3 bonded neighbours molecule type 'Protein_chain_C'\n",
      "Excluding 3 bonded neighbours molecule type 'Protein_chain_D'\n",
      "Excluding 3 bonded neighbours molecule type 'Protein_chain_E'\n",
      "Excluding 3 bonded neighbours molecule type 'Protein_chain_F'\n",
      "Excluding 3 bonded neighbours molecule type 'Protein_chain_G'\n",
      "Excluding 3 bonded neighbours molecule type 'Protein_chain_H'\n",
      "Excluding 3 bonded neighbours molecule type 'DNA_chain_I'\n",
      "Excluding 3 bonded neighbours molecule type 'DNA_chain_J'\n",
      "Excluding 2 bonded neighbours molecule type 'SOL'\n",
      "Excluding 1 bonded neighbours molecule type 'NA'\n",
      "Excluding 1 bonded neighbours molecule type 'CL'\n",
      "\n",
      "NOTE 2 [file unknown]:\n",
      "  You are using constraints on all bonds, whereas the forcefield has been\n",
      "  parametrized only with constraints involving hydrogen atoms. We suggest\n",
      "  using constraints = h-bonds instead, this will also improve performance.\n",
      "\n",
      "processing coordinates...\n",
      "double-checking input for internal consistency...\n",
      "Setting gen_seed to -506583901\n",
      "Velocities were taken from a Maxwell distribution at 298 K\n",
      "renumbering atomtypes...\n",
      "converting bonded parameters...\n",
      "initialising group options...\n",
      "processing index file...\n",
      "Making dummy/rest group for Acceleration containing 1038142 elements\n",
      "Making dummy/rest group for Freeze containing 1038142 elements\n",
      "Making dummy/rest group for Energy Mon. containing 1038142 elements\n",
      "Number of degrees of freedom in T-Coupling group System is 2077438.00\n",
      "Making dummy/rest group for User1 containing 1038142 elements\n",
      "Making dummy/rest group for User2 containing 1038142 elements\n",
      "Making dummy/rest group for Compressed X containing 1038142 elements\n",
      "Making dummy/rest group for Or. Res. Fit containing 1038142 elements\n",
      "Making dummy/rest group for QMMM containing 1038142 elements\n",
      "T-Coupling       has 1 element(s): System\n",
      "Energy Mon.      has 1 element(s): rest\n",
      "Acceleration     has 1 element(s): rest\n",
      "Freeze           has 1 element(s): rest\n",
      "User1            has 1 element(s): rest\n",
      "User2            has 1 element(s): rest\n",
      "VCM              has 1 element(s): System\n",
      "Compressed X     has 1 element(s): rest\n",
      "Or. Res. Fit     has 1 element(s): rest\n",
      "QMMM             has 1 element(s): rest\n",
      "getting data from old trajectory ...\n",
      "Reading Coordinates and Box size from old trajectory\n",
      "Will read whole trajectory\n",
      "Velocities generated: ignoring velocities in input trajectory\n",
      "Last frame         -1 time  200.000   \n",
      "Using frame at t = 200 ps\n",
      "Starting time for run is 0 ps\n",
      "Estimate for the relative computational load of the PME mesh part: 0.27\n",
      "\n",
      "NOTE 3 [file MDProtocols/7_prod.mdp]:\n",
      "  This run will generate roughly 990712 Mb of data\n",
      "\n",
      "writing run input file...\n",
      "\n",
      "There were 3 notes\n",
      "\n",
      "There was 1 warning\n",
      "\n",
      "GROMACS reminds you: \"There's No Room For the Weak\" (Joy Division)\n",
      "\n"
     ]
    }
   ],
   "source": [
    "%%bash -s \"$set_gmx_cmd\" \n",
    "$1\n",
    "#--out out --err err\n",
    "gmx grompp -maxwarn 2 -f MDProtocols/7_prod.mdp -c GMX_run_prep/6_equil.gro -p GMX_system_prep/topol.top \\\n",
    "-o GMX_run_prep/7_prod.tpr -v  -r GMX_run_prep/6_equil.gro -n GMX_system_prep/index.ndx -po GMX_run_prep/mdout_7_prod.mdp -t GMX_run_prep/6_equil.cpt\n"
   ]
  },
  {
   "cell_type": "markdown",
   "metadata": {},
   "source": [
    "### Start production run\n"
   ]
  },
  {
   "cell_type": "markdown",
   "metadata": {},
   "source": [
    "### Transfer files to supercomputer if needed"
   ]
  },
  {
   "cell_type": "code",
   "execution_count": 2,
   "metadata": {},
   "outputs": [],
   "source": [
    "run_profile = 'lomo2_compute_prep.sh'"
   ]
  },
  {
   "cell_type": "code",
   "execution_count": 30,
   "metadata": {},
   "outputs": [
    {
     "name": "stdout",
     "output_type": "stream",
     "text": [
      "Params: lomo2 gmx_template_for_nmr\n"
     ]
    },
    {
     "name": "stderr",
     "output_type": "stream",
     "text": [
      "+-=-=-=-=-=-=-=-=-=-=-=-=-=-=-=-=-=-=-=-=-=-=-+\n",
      "|  Welcome to the Lomonosov-2 supercomputer!  |\n",
      "+-=-=-=-=-=-=-=-=-=-=-=-=-=-=-=-=-=-=-=-=-=-=-+\n",
      "\n"
     ]
    }
   ],
   "source": [
    "%%bash -s \"$run_profile\" \"$ssh_host\" \"$folder\"\n",
    "source Run_profiles/$1\n",
    "create_dir $2 $3"
   ]
  },
  {
   "cell_type": "code",
   "execution_count": 37,
   "metadata": {},
   "outputs": [],
   "source": [
    "!cp Run_scripts/* GMX_run_prep/"
   ]
  },
  {
   "cell_type": "code",
   "execution_count": 38,
   "metadata": {},
   "outputs": [
    {
     "name": "stdout",
     "output_type": "stream",
     "text": [
      "Params: lomo2 gmx_template_for_nmr\n"
     ]
    },
    {
     "name": "stderr",
     "output_type": "stream",
     "text": [
      "+-=-=-=-=-=-=-=-=-=-=-=-=-=-=-=-=-=-=-=-=-=-=-+\n",
      "|  Welcome to the Lomonosov-2 supercomputer!  |\n",
      "+-=-=-=-=-=-=-=-=-=-=-=-=-=-=-=-=-=-=-=-=-=-=-+\n",
      "\n"
     ]
    }
   ],
   "source": [
    "%%bash -s \"$run_profile\" \"$ssh_host\" \"$folder\"\n",
    "source Run_profiles/$1\n",
    "push_data $2 $3"
   ]
  },
  {
   "cell_type": "markdown",
   "metadata": {},
   "source": [
    "### Launch job"
   ]
  },
  {
   "cell_type": "code",
   "execution_count": 33,
   "metadata": {},
   "outputs": [
    {
     "name": "stdout",
     "output_type": "stream",
     "text": [
      "Params: lomo2 gmx_template_for_nmr\n",
      "Submitted batch job 1494246\n"
     ]
    },
    {
     "name": "stderr",
     "output_type": "stream",
     "text": [
      "+-=-=-=-=-=-=-=-=-=-=-=-=-=-=-=-=-=-=-=-=-=-=-+\n",
      "|  Welcome to the Lomonosov-2 supercomputer!  |\n",
      "+-=-=-=-=-=-=-=-=-=-=-=-=-=-=-=-=-=-=-=-=-=-=-+\n",
      "\n"
     ]
    }
   ],
   "source": [
    "%%bash -s \"$run_profile\" \"$ssh_host\" \"$folder\"\n",
    "source Run_profiles/$1\n",
    "launch_initial_job $2 $3"
   ]
  },
  {
   "cell_type": "code",
   "execution_count": 34,
   "metadata": {},
   "outputs": [
    {
     "data": {
      "text/plain": [
       "'lomo2_compute_prep.sh'"
      ]
     },
     "execution_count": 34,
     "metadata": {},
     "output_type": "execute_result"
    }
   ],
   "source": [
    "run_profile"
   ]
  },
  {
   "cell_type": "code",
   "execution_count": 40,
   "metadata": {},
   "outputs": [
    {
     "name": "stdout",
     "output_type": "stream",
     "text": [
      "Params: lomo2 gmx_template_for_nmr\n",
      "Submitted batch job 1500753\n"
     ]
    },
    {
     "name": "stderr",
     "output_type": "stream",
     "text": [
      "+-=-=-=-=-=-=-=-=-=-=-=-=-=-=-=-=-=-=-=-=-=-=-+\n",
      "|  Welcome to the Lomonosov-2 supercomputer!  |\n",
      "+-=-=-=-=-=-=-=-=-=-=-=-=-=-=-=-=-=-=-=-=-=-=-+\n",
      "\n"
     ]
    }
   ],
   "source": [
    "%%bash -s \"$run_profile\" \"$ssh_host\" \"$folder\"\n",
    "source Run_profiles/$1\n",
    "relaunch $2 $3"
   ]
  },
  {
   "cell_type": "code",
   "execution_count": 79,
   "metadata": {},
   "outputs": [
    {
     "name": "stdout",
     "output_type": "stream",
     "text": [
      "Performance:        7.057        3.401\n"
     ]
    }
   ],
   "source": [
    "!cat GMX_run_prep/6_equil.log | grep -i 'Performance:'\n",
    "# (ns/day)    (hour/ns)"
   ]
  },
  {
   "cell_type": "markdown",
   "metadata": {},
   "source": [
    "# Get back data "
   ]
  },
  {
   "cell_type": "code",
   "execution_count": null,
   "metadata": {},
   "outputs": [],
   "source": [
    "%%bash -s \"$run_profile\" \"$ssh_host\" \"$folder\"\n",
    "source Run_profiles/$1\n",
    "pull_data $2 $3"
   ]
  },
  {
   "cell_type": "markdown",
   "metadata": {},
   "source": [
    "# Save last frame "
   ]
  },
  {
   "cell_type": "code",
   "execution_count": 84,
   "metadata": {},
   "outputs": [],
   "source": [
    "u = mda.Universe('GMX_system_prep/sys_ref.pdb','big_data/sys_md_prep.xtc')\n",
    "sel = u.select_atoms('protein or nucleic')\n",
    "sel.write('GMX_system_prep/sys_condensed.pdb',frames=u.trajectory[-1:])"
   ]
  },
  {
   "cell_type": "code",
   "execution_count": 85,
   "metadata": {},
   "outputs": [
    {
     "data": {
      "application/vnd.jupyter.widget-view+json": {
       "model_id": "65165e5d998944a28ffbe3f1f0a20083",
       "version_major": 2,
       "version_minor": 0
      },
      "text/plain": [
       "NGLWidget()"
      ]
     },
     "metadata": {},
     "output_type": "display_data"
    }
   ],
   "source": [
    "view_nucl('GMX_system_prep/sys_condensed.pdb')"
   ]
  },
  {
   "cell_type": "markdown",
   "metadata": {},
   "source": [
    "# Trajectory processing "
   ]
  },
  {
   "cell_type": "code",
   "execution_count": 81,
   "metadata": {},
   "outputs": [],
   "source": [
    "from myimports import *"
   ]
  },
  {
   "cell_type": "code",
   "execution_count": 80,
   "metadata": {},
   "outputs": [],
   "source": [
    "!mkdir -p tmp\n",
    "!mkdir -p big_data"
   ]
  },
  {
   "cell_type": "code",
   "execution_count": 53,
   "metadata": {},
   "outputs": [
    {
     "name": "stdout",
     "output_type": "stream",
     "text": [
      "(Un)Loading module for modern CPU\n",
      "bash: line 3: ./2_trj_preprocessing_prep.sh: Permission denied\n",
      "\n"
     ]
    }
   ],
   "source": [
    "print(err)"
   ]
  },
  {
   "cell_type": "code",
   "execution_count": 55,
   "metadata": {},
   "outputs": [],
   "source": [
    "%%bash  -s \"$set_gmx_cmd\"  --err err --out out\n",
    "$1\n",
    "#The code below was collapsed to one shell file\n",
    "bash ./2_trj_preprocessing_prep.sh 7_prod sys_md_prep "
   ]
  },
  {
   "cell_type": "code",
   "execution_count": 58,
   "metadata": {},
   "outputs": [
    {
     "data": {
      "application/vnd.jupyter.widget-view+json": {
       "model_id": "12c9900cd5ea46eaaea6fb1dca47167e",
       "version_major": 2,
       "version_minor": 0
      },
      "text/plain": [
       "NGLWidget(max_frame=10502)"
      ]
     },
     "metadata": {},
     "output_type": "display_data"
    },
    {
     "data": {
      "application/vnd.jupyter.widget-view+json": {
       "model_id": "20337d4fae624a158836ddc949cb74a3",
       "version_major": 2,
       "version_minor": 0
      },
      "text/plain": [
       "Tab(children=(Box(children=(Box(children=(Box(children=(Label(value='step'), IntSlider(value=1, min=-100)), la…"
      ]
     },
     "metadata": {},
     "output_type": "display_data"
    }
   ],
   "source": [
    "view_nucl('GMX_system_prep/sys_ref.pdb','big_data/sys_md_prep.xtc', gui=True)"
   ]
  },
  {
   "cell_type": "code",
   "execution_count": 59,
   "metadata": {},
   "outputs": [
    {
     "data": {
      "application/vnd.jupyter.widget-view+json": {
       "model_id": "ae64ef20893442c6a17a0860433eae14",
       "version_major": 2,
       "version_minor": 0
      },
      "text/plain": [
       "NGLWidget()"
      ]
     },
     "metadata": {},
     "output_type": "display_data"
    }
   ],
   "source": [
    "view_nucl('GMX_system_prep/sys_ref.pdb')"
   ]
  },
  {
   "cell_type": "code",
   "execution_count": null,
   "metadata": {},
   "outputs": [],
   "source": []
  },
  {
   "cell_type": "code",
   "execution_count": null,
   "metadata": {},
   "outputs": [],
   "source": []
  },
  {
   "cell_type": "code",
   "execution_count": null,
   "metadata": {},
   "outputs": [],
   "source": []
  }
 ],
 "metadata": {
  "kernelspec": {
   "display_name": "Python [conda env:moldyn]",
   "language": "python",
   "name": "conda-env-moldyn-py"
  },
  "language_info": {
   "codemirror_mode": {
    "name": "ipython",
    "version": 3
   },
   "file_extension": ".py",
   "mimetype": "text/x-python",
   "name": "python",
   "nbconvert_exporter": "python",
   "pygments_lexer": "ipython3",
   "version": "3.7.3"
  },
  "widgets": {
   "application/vnd.jupyter.widget-state+json": {
    "state": {
     "162ae70fe3fd4ca2b52201c7192e4c21": {
      "model_module": "nglview-js-widgets",
      "model_module_version": "2.7.1",
      "model_name": "ColormakerRegistryModel",
      "state": {
       "_dom_classes": [],
       "_model_module": "nglview-js-widgets",
       "_model_module_version": "2.7.1",
       "_model_name": "ColormakerRegistryModel",
       "_msg_ar": [],
       "_msg_q": [],
       "_ready": false,
       "_view_count": null,
       "_view_module": "nglview-js-widgets",
       "_view_module_version": "2.7.1",
       "_view_name": "ColormakerRegistryView",
       "layout": "IPY_MODEL_f777acd9a2e9481c996d4b43f10a656f"
      }
     },
     "f777acd9a2e9481c996d4b43f10a656f": {
      "model_module": "@jupyter-widgets/base",
      "model_module_version": "1.2.0",
      "model_name": "LayoutModel",
      "state": {
       "_model_module": "@jupyter-widgets/base",
       "_model_module_version": "1.2.0",
       "_model_name": "LayoutModel",
       "_view_count": null,
       "_view_module": "@jupyter-widgets/base",
       "_view_module_version": "1.2.0",
       "_view_name": "LayoutView",
       "align_content": null,
       "align_items": null,
       "align_self": null,
       "border": null,
       "bottom": null,
       "display": null,
       "flex": null,
       "flex_flow": null,
       "grid_area": null,
       "grid_auto_columns": null,
       "grid_auto_flow": null,
       "grid_auto_rows": null,
       "grid_column": null,
       "grid_gap": null,
       "grid_row": null,
       "grid_template_areas": null,
       "grid_template_columns": null,
       "grid_template_rows": null,
       "height": null,
       "justify_content": null,
       "justify_items": null,
       "left": null,
       "margin": null,
       "max_height": null,
       "max_width": null,
       "min_height": null,
       "min_width": null,
       "object_fit": null,
       "object_position": null,
       "order": null,
       "overflow": null,
       "overflow_x": null,
       "overflow_y": null,
       "padding": null,
       "right": null,
       "top": null,
       "visibility": null,
       "width": null
      }
     }
    },
    "version_major": 2,
    "version_minor": 0
   }
  }
 },
 "nbformat": 4,
 "nbformat_minor": 4
}
