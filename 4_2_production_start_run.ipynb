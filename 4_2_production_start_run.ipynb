{
 "cells": [
  {
   "cell_type": "markdown",
   "metadata": {},
   "source": [
    "## Start production run\n"
   ]
  },
  {
   "cell_type": "code",
   "execution_count": 1,
   "metadata": {},
   "outputs": [],
   "source": [
    "%load_ext autoreload\n",
    "%autoreload 2\n",
    "%matplotlib inline"
   ]
  },
  {
   "cell_type": "code",
   "execution_count": 2,
   "metadata": {},
   "outputs": [
    {
     "data": {
      "application/vnd.jupyter.widget-view+json": {
       "model_id": "19ce4250967343d6ae7ee3d64b5b73b6",
       "version_major": 2,
       "version_minor": 0
      },
      "text/plain": [
       "_ColormakerRegistry()"
      ]
     },
     "metadata": {},
     "output_type": "display_data"
    },
    {
     "name": "stdout",
     "output_type": "stream",
     "text": [
      "Folder set to   :  h2a-h2b_tm_30DNA\n",
      "Project name    :  h2a-h2b_tm_30DNA\n",
      "SSH host set to : lomo2\n",
      "GMX cmd set with: module load gromacs/2020.1_nompi\n",
      "Force field     : amber14sb_parmbsc1_cufix\n",
      "Force field URL : https://api.github.com/repos/intbio/gromacs_ff/contents/amber14sb_parmbsc1_cufix.ff\n",
      "Run profile     : lomo2-gromacs2020.3-mpi-gpu_volta2.sh\n"
     ]
    },
    {
     "data": {
      "text/markdown": [
       "\n",
       "# MD simulations of H2A-H2B with 30 bp of DNA, tails truncated\n",
       "- AMBER14SB force field\n",
       "- 150 mM NaCl\n",
       "- box 2nm\n"
      ],
      "text/plain": [
       "<IPython.core.display.Markdown object>"
      ]
     },
     "metadata": {},
     "output_type": "display_data"
    }
   ],
   "source": [
    "from myimports import *\n",
    "display(Markdown(descr))\n",
    "\n"
   ]
  },
  {
   "cell_type": "markdown",
   "metadata": {},
   "source": [
    "## Transfer files to supercomputer if needed"
   ]
  },
  {
   "cell_type": "code",
   "execution_count": 4,
   "metadata": {},
   "outputs": [
    {
     "name": "stdout",
     "output_type": "stream",
     "text": [
      "Params: lomo2 h2a-h2b_tm_30DNA\n"
     ]
    },
    {
     "name": "stderr",
     "output_type": "stream",
     "text": [
      "   Lomonosov-2 supercomputer welcomes you!\n",
      "\n",
      "\n"
     ]
    }
   ],
   "source": [
    "%%bash -s \"$run_profile\" \"$ssh_host\" \"$folder\"\n",
    "source Run_profiles/$1\n",
    "create_dir $2 $3"
   ]
  },
  {
   "cell_type": "code",
   "execution_count": 8,
   "metadata": {},
   "outputs": [],
   "source": [
    "!cp Run_scripts/* GMX_run/"
   ]
  },
  {
   "cell_type": "code",
   "execution_count": 9,
   "metadata": {},
   "outputs": [
    {
     "name": "stdout",
     "output_type": "stream",
     "text": [
      "Params: lomo2 h2a-h2b_tm_30DNA\n"
     ]
    },
    {
     "name": "stderr",
     "output_type": "stream",
     "text": [
      "   Lomonosov-2 supercomputer welcomes you!\n",
      "\n",
      "\n"
     ]
    }
   ],
   "source": [
    "%%bash -s \"$run_profile\" \"$ssh_host\" \"$folder\"\n",
    "source Run_profiles/$1\n",
    "push_data $2 $3"
   ]
  },
  {
   "cell_type": "raw",
   "metadata": {},
   "source": [
    "%%bash -s \"$folder\" \"$ssh_host\" --err err --out out\n",
    "#Copy to SC\n",
    "\n",
    "cp Run_scripts/* GMX_run/\n",
    "\n",
    "rsync --exclude '*.xtc' --exclude '*.trr' -r GMX_run $2:~/_scratch/$1/;"
   ]
  },
  {
   "cell_type": "markdown",
   "metadata": {},
   "source": [
    "### Launch job"
   ]
  },
  {
   "cell_type": "code",
   "execution_count": 10,
   "metadata": {},
   "outputs": [
    {
     "name": "stdout",
     "output_type": "stream",
     "text": [
      "Params: lomo2 h2a-h2b_tm_30DNA\n",
      "Submitted batch job 1298290\n"
     ]
    },
    {
     "name": "stderr",
     "output_type": "stream",
     "text": [
      "   Lomonosov-2 supercomputer welcomes you!\n",
      "\n",
      "\n"
     ]
    }
   ],
   "source": [
    "%%bash -s \"$run_profile\" \"$ssh_host\" \"$folder\"\n",
    "source Run_profiles/$1\n",
    "launch_initial_job $2 $3"
   ]
  },
  {
   "cell_type": "code",
   "execution_count": null,
   "metadata": {},
   "outputs": [],
   "source": []
  },
  {
   "cell_type": "code",
   "execution_count": null,
   "metadata": {},
   "outputs": [],
   "source": []
  },
  {
   "cell_type": "code",
   "execution_count": null,
   "metadata": {},
   "outputs": [],
   "source": []
  },
  {
   "cell_type": "markdown",
   "metadata": {},
   "source": [
    "## Launch,relaunch make a chain of tasks\n",
    "### NOTE: for relaunch, monitor and data pullback - better to use status.ipynb"
   ]
  },
  {
   "cell_type": "markdown",
   "metadata": {},
   "source": [
    "Lomonosov-2 queues https://users.parallel.ru/wiki/pages/22-config\n",
    "compute partition allows max 7 days!.\n",
    "Then we will resume.\n",
    "https://hpc.nih.gov/docs/job_dependencies.html"
   ]
  },
  {
   "cell_type": "raw",
   "metadata": {},
   "source": [
    "#%%bash -s \"$folder\" --out out --err err\n",
    "#ssh lomo2 \"module load slurm gromacs/2018-gcc; cd ~/_scratch/$1/GMX_run; \\\n",
    "#sbatch -p test -t 00:15:00 -N 2 -J $1 lomo2_run.sh 7_prod\""
   ]
  },
  {
   "cell_type": "raw",
   "metadata": {},
   "source": [
    "%%bash -s \"$folder\" \"$ssh_host\"\n",
    "#--out out --err err\n",
    "ssh $2 \"module load slurm gromacs/2018-gcc; cd ~/_scratch/$1/GMX_run; \\\n",
    "sbatch -p compute -t 7-00:00:00 -N 4 -J $1 lomo2_run.sh 7_prod\""
   ]
  },
  {
   "cell_type": "raw",
   "metadata": {},
   "source": [
    "%%bash -s \"$folder\" \"$ssh_host\"\n",
    "#This is for newton\n",
    "cd GMX_run; sbatch -p gpu -c 20 -J $1 newton_run.sh 7_prod"
   ]
  },
  {
   "cell_type": "raw",
   "metadata": {},
   "source": [
    "#get job id\n",
    "print(out)\n",
    "job_idp=re.findall(r'\\d+', out)[0]\n",
    "print(job_idp)"
   ]
  },
  {
   "cell_type": "raw",
   "metadata": {},
   "source": [
    "job_idp=906295"
   ]
  },
  {
   "cell_type": "code",
   "execution_count": 7,
   "metadata": {},
   "outputs": [],
   "source": [
    "#Relaunch\n",
    "#!ssh $ssh_host \"module load slurm gromacs/2018-gcc; cd ~/_scratch/$folder/GMX_run; sbatch -p compute -t 7-00:00:00 -N 4 -J $folder lomo2_run_cont.sh 7_prod\""
   ]
  },
  {
   "cell_type": "raw",
   "metadata": {},
   "source": [
    "%%bash -s \"$folder\" \"$job_idp\" \"$ssh_host\" --out out --err err \n",
    "#OR Make a relaunch chain\n",
    "\n",
    "#ssh $3 \"module load slurm gromacs/2018-gcc; cd ~/_scratch/$1/GMX_run; \\\n",
    "sbatch -p compute -t 7-00:00:00 -N 4 -J $1 --dependency=afterany:$2 lomo2_run_cont.sh 7_prod\""
   ]
  },
  {
   "cell_type": "raw",
   "metadata": {},
   "source": [
    "print(err)"
   ]
  },
  {
   "cell_type": "raw",
   "metadata": {},
   "source": [
    "!ssh $ssh_host \"module load slurm gromacs/2018-gcc; squeue -u \\`whoami\\`\" || echo \"No job in queue\""
   ]
  },
  {
   "cell_type": "markdown",
   "metadata": {},
   "source": [
    "## Monitor\n",
    "\n",
    "Note: It is suggested that for monitoring and relaunch the user makes use of status.ipynb\n",
    "Parts of conde below are deprecated."
   ]
  },
  {
   "cell_type": "raw",
   "metadata": {},
   "source": [
    "job_idp=906295"
   ]
  },
  {
   "cell_type": "raw",
   "metadata": {},
   "source": [
    "%%bash -s \"$folder\"  \"$job_idp\" \"$ssh_host\"  --err err\n",
    "# check job status\n",
    "ssh $3 \"tail -n 10 ~/_scratch/$1/GMX_run/egmx.$2\""
   ]
  },
  {
   "cell_type": "raw",
   "metadata": {},
   "source": [
    "%%bash -s \"$folder\"  \"$job_idp\"  \"$ssh_host\" --err err\n",
    "# check job status\n",
    "ssh $3 \"tail -n 20 ~/_scratch/$1/GMX_run/7_prod.log\""
   ]
  },
  {
   "cell_type": "markdown",
   "metadata": {},
   "source": [
    "### Pull back data for analysis"
   ]
  },
  {
   "cell_type": "raw",
   "metadata": {},
   "source": [
    "%%bash -s \"$folder\" \"$ssh_host\" --err err \n",
    "#Purge # files\n",
    "\n",
    "ssh $2 \"rm -f ~/_scratch/$1/GMX_run/\\#*; ls ~/_scratch/$1/GMX_run/\""
   ]
  },
  {
   "cell_type": "raw",
   "metadata": {},
   "source": [
    "%%bash -s \"$folder\" \"$ssh_host\" --err err --out out\n",
    "#Get back data\n",
    "\n",
    "rsync --partial $2:~/_scratch/$1/GMX_run/7_prod* GMX_run/ ;\n",
    "rsync --partial $2:~/_scratch/$1/GMX_run/egmx* GMX_run/ ;    \n",
    "rsync --partial $2:~/_scratch/$1/GMX_run/ogmx* GMX_run/ ;        "
   ]
  },
  {
   "cell_type": "markdown",
   "metadata": {},
   "source": [
    "### Quick analysis "
   ]
  },
  {
   "cell_type": "markdown",
   "metadata": {},
   "source": [
    "Quick view"
   ]
  },
  {
   "cell_type": "raw",
   "metadata": {},
   "source": [
    "view_nucl('GMX_system/init_solv_ions.pdb','GMX_run/7_prod.xtc')"
   ]
  },
  {
   "cell_type": "markdown",
   "metadata": {},
   "source": [
    "## QC analysis\n",
    "### Let's look at energy, temperature pressure"
   ]
  },
  {
   "cell_type": "raw",
   "metadata": {},
   "source": [
    "\n",
    "df = panedr.edr_to_df('GMX_run/7_prod.edr', verbose=True)\n",
    "num_of_keys=len(df.keys())\n",
    "grid=[1+num_of_keys//3,3]\n",
    "\n",
    "plt.figure(figsize=(grid[1]*6,grid[0]*3))\n",
    "plt.title('Mod')\n",
    "for i,key in enumerate(df.keys(),1):\n",
    "    ax=plt.subplot(*grid, i)\n",
    "    ax.plot(df[key],label=key)\n",
    "    ax.set_xlabel('Time, ps')\n",
    "    ax.legend()    \n",
    "plt.show()"
   ]
  },
  {
   "cell_type": "code",
   "execution_count": null,
   "metadata": {},
   "outputs": [],
   "source": []
  }
 ],
 "metadata": {
  "kernelspec": {
   "display_name": "Python [conda env:moldyn]",
   "language": "python",
   "name": "conda-env-moldyn-py"
  },
  "language_info": {
   "codemirror_mode": {
    "name": "ipython",
    "version": 3
   },
   "file_extension": ".py",
   "mimetype": "text/x-python",
   "name": "python",
   "nbconvert_exporter": "python",
   "pygments_lexer": "ipython3",
   "version": "3.7.3"
  },
  "widgets": {
   "application/vnd.jupyter.widget-state+json": {
    "state": {
     "76ec64f8f6214dfb974d03dbf85eb90b": {
      "model_module": "nglview-js-widgets",
      "model_module_version": "2.7.1",
      "model_name": "ColormakerRegistryModel",
      "state": {
       "_dom_classes": [],
       "_model_module": "nglview-js-widgets",
       "_model_module_version": "2.7.1",
       "_model_name": "ColormakerRegistryModel",
       "_msg_ar": [],
       "_msg_q": [],
       "_ready": false,
       "_view_count": null,
       "_view_module": "nglview-js-widgets",
       "_view_module_version": "2.7.1",
       "_view_name": "ColormakerRegistryView",
       "layout": "IPY_MODEL_c3d9ba91469c423bac3987a2f29633b4"
      }
     },
     "c3d9ba91469c423bac3987a2f29633b4": {
      "model_module": "@jupyter-widgets/base",
      "model_module_version": "1.2.0",
      "model_name": "LayoutModel",
      "state": {
       "_model_module": "@jupyter-widgets/base",
       "_model_module_version": "1.2.0",
       "_model_name": "LayoutModel",
       "_view_count": null,
       "_view_module": "@jupyter-widgets/base",
       "_view_module_version": "1.2.0",
       "_view_name": "LayoutView",
       "align_content": null,
       "align_items": null,
       "align_self": null,
       "border": null,
       "bottom": null,
       "display": null,
       "flex": null,
       "flex_flow": null,
       "grid_area": null,
       "grid_auto_columns": null,
       "grid_auto_flow": null,
       "grid_auto_rows": null,
       "grid_column": null,
       "grid_gap": null,
       "grid_row": null,
       "grid_template_areas": null,
       "grid_template_columns": null,
       "grid_template_rows": null,
       "height": null,
       "justify_content": null,
       "justify_items": null,
       "left": null,
       "margin": null,
       "max_height": null,
       "max_width": null,
       "min_height": null,
       "min_width": null,
       "object_fit": null,
       "object_position": null,
       "order": null,
       "overflow": null,
       "overflow_x": null,
       "overflow_y": null,
       "padding": null,
       "right": null,
       "top": null,
       "visibility": null,
       "width": null
      }
     }
    },
    "version_major": 2,
    "version_minor": 0
   }
  }
 },
 "nbformat": 4,
 "nbformat_minor": 2
}
