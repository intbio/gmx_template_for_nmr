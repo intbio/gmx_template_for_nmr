{
 "cells": [
  {
   "cell_type": "markdown",
   "metadata": {},
   "source": [
    "# Checking simulation parameters, and the quality of simulation\n",
    "- Energy and pressure plots\n",
    "- Distance between periodic images\n"
   ]
  },
  {
   "cell_type": "code",
   "execution_count": null,
   "metadata": {
    "toc-hr-collapsed": false
   },
   "outputs": [],
   "source": [
    "#Libraries and main variables initialized\n",
    "import MDAnalysis as mda\n",
    "from MDAnalysis.analysis import align\n",
    "from MDAnalysis.analysis.rms import rmsd\n",
    "import numpy as np\n",
    "import urllib.request, json\n",
    "import os\n",
    "import re\n",
    "import nglview as nv\n",
    "from funcs import get_files_from_git\n",
    "from funcs import view_nucl\n",
    "import panedr\n",
    "import matplotlib.pyplot as plt\n",
    "\n",
    "#Reloading funcs if changed\n",
    "from importlib import reload \n",
    "import funcs,config\n",
    "reload(funcs)\n",
    "reload(config)\n",
    "\n",
    "import xvg_plot as xvg\n",
    "import xpm_plot as xpm\n",
    "\n",
    "\n",
    "\n",
    "%matplotlib inline\n",
    "from IPython.display import Markdown, display\n",
    "from config import folder,descr,pname,ssh_host,set_gmx_cmd\n",
    "display(Markdown(descr))\n",
    "print(\"Folder set to: \",folder)\n",
    "print(\"Project name: \",pname)\n",
    "\n"
   ]
  },
  {
   "cell_type": "markdown",
   "metadata": {},
   "source": [
    "Quick view"
   ]
  },
  {
   "cell_type": "code",
   "execution_count": null,
   "metadata": {},
   "outputs": [],
   "source": [
    "view_nucl('GMX_system/init_solv_ions.pdb','GMX_run/7_prod.xtc')"
   ]
  },
  {
   "cell_type": "markdown",
   "metadata": {},
   "source": [
    "# QC analysis\n",
    "## Let's look at energy, temperature pressure"
   ]
  },
  {
   "cell_type": "code",
   "execution_count": null,
   "metadata": {},
   "outputs": [],
   "source": [
    "df = panedr.edr_to_df('GMX_run/7_prod.edr', verbose=True)\n",
    "num_of_keys=len(df.keys())\n",
    "grid=[1+num_of_keys//3,3]\n",
    "\n",
    "plt.figure(figsize=(grid[1]*6,grid[0]*3))\n",
    "plt.title('Mod')\n",
    "for i,key in enumerate(df.keys(),1):\n",
    "    ax=plt.subplot(*grid, i)\n",
    "    ax.plot(df[key][0:1000],label=key)\n",
    "    ax.set_xlabel('Time, ps')\n",
    "    ax.legend()    \n",
    "plt.show()"
   ]
  },
  {
   "cell_type": "markdown",
   "metadata": {},
   "source": [
    "#### All trajectory, every 1000 step"
   ]
  },
  {
   "cell_type": "code",
   "execution_count": null,
   "metadata": {},
   "outputs": [],
   "source": [
    "step=1000 #plot every 1000 records\n",
    "\n",
    "plt.figure(figsize=(grid[1]*6,grid[0]*3))\n",
    "plt.title('Mod')\n",
    "for i,key in enumerate(df.keys(),1):\n",
    "    ax=plt.subplot(*grid, i)\n",
    "    ax.plot(df[key][0::step],label=key)\n",
    "    ax.set_xlabel('Time, ps')\n",
    "    ax.legend()    \n",
    "plt.show()"
   ]
  },
  {
   "cell_type": "markdown",
   "metadata": {},
   "source": [
    "### Checking periodic images\n",
    "- We need to check if there are problems in periodic image interactions\n",
    "- http://manual.gromacs.org/documentation/2018/onlinehelp/gmx-mindist.html"
   ]
  },
  {
   "cell_type": "markdown",
   "metadata": {},
   "source": [
    "Our initial box vectors of a truncated octahedron are\n",
    "gro-file notation\n",
    "10.23860   9.65312   8.36010   0.00000   0.00000   3.41266   0.00000  -3.41266   4.82612\n",
    " ax          by        cz        ay         az         bx       by        cx        cy\n",
    "     a    b   c  \n",
    " x   ax   bx  cx  | d    d/3            -d/3      \n",
    " y   ay   by  cy  | 0    d*2*sqrt(2)/3  d*sqrt(2)/3\n",
    " z   az   bz  cz  | 0    0              d*sqrt(6)/3 "
   ]
  },
  {
   "cell_type": "code",
   "execution_count": null,
   "metadata": {},
   "outputs": [],
   "source": [
    "%%bash  -s \"$set_gmx_cmd\"\n",
    "$1\n",
    "mkdir -p big_data\n",
    "#gmx mindist -n GMX_system/index.ndx -f GMX_run/7_prod.xtc -s GMX_run/7_prod.tpr -od big_data/mindist.xvg -pi -dt 10000 << !\n",
    "#gmx mindist -n GMX_system/index.ndx -f GMX_run/7_prod.xtc -s GMX_run/7_prod.tpr -od big_data/mindist.xvg -pi -dt 10000 << !\n",
    "gmx mindist -n GMX_system/index.ndx -f tmp/7_prod_2.xtc -s GMX_run/7_prod.tpr -od big_data/mindist.xvg -pi -dt 10000 << !\n",
    "!Water_and_ions\n",
    "!"
   ]
  },
  {
   "cell_type": "code",
   "execution_count": null,
   "metadata": {},
   "outputs": [],
   "source": [
    "#With option -pi the minimum distance of a group to its periodic image is plotted. \n",
    "#This is useful for checking if a protein has seen its periodic image during a simulation.\n",
    "#Only one shift in each direction is considered, giving a total of 26 shifts.\n",
    "#It also plots the maximum distance within the group and the lengths of the three box vectors.\n",
    "\n",
    "metadata, data = xvg.parse_xvg('big_data/mindist.xvg', 'all')\n",
    "data=np.array(data)\n",
    "#data=data[:,0:10]\n",
    "xvg.plot_data(data, metadata,figsize=(15,15))"
   ]
  },
  {
   "cell_type": "code",
   "execution_count": null,
   "metadata": {},
   "outputs": [],
   "source": []
  },
  {
   "cell_type": "code",
   "execution_count": null,
   "metadata": {},
   "outputs": [],
   "source": []
  }
 ],
 "metadata": {
  "kernelspec": {
   "display_name": "Python [conda env:moldyn]",
   "language": "python",
   "name": "conda-env-moldyn-py"
  },
  "language_info": {
   "codemirror_mode": {
    "name": "ipython",
    "version": 3
   },
   "file_extension": ".py",
   "mimetype": "text/x-python",
   "name": "python",
   "nbconvert_exporter": "python",
   "pygments_lexer": "ipython3",
   "version": "3.7.3"
  }
 },
 "nbformat": 4,
 "nbformat_minor": 4
}
