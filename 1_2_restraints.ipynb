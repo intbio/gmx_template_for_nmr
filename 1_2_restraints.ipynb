{
 "cells": [
  {
   "cell_type": "markdown",
   "metadata": {},
   "source": [
    "## Optional - make restraints\n",
    "This will make restraints and generate configs for them.\n",
    "Restraints between molecules has to be done using pull code added to MDP file.\n",
    "See here http://www.mdtutorials.com/gmx/umbrella/05_pull.html\n",
    "Index file need to be generated\n",
    "```\n",
    "---Example of pull code below ---\n",
    "; Pull code\n",
    "pull                    = yes\n",
    "pull_ncoords            = 1         ; only one reaction coordinate\n",
    "pull_ngroups            = 2         ; two groups defining one reaction coordinate\n",
    "pull_group1_name        = Chain_A\n",
    "pull_group2_name        = Chain_B\n",
    "pull_coord1_type        = umbrella  ; harmonic potential\n",
    "pull_coord1_geometry    = distance  ; simple distance increase\n",
    "pull_coord1_dim         = N N Y     ; pull along z\n",
    "pull_coord1_groups      = 1 2       ; groups 1 (Chain A) and 2 (Chain B) define the reaction coordinate\n",
    "pull_coord1_start       = yes       ; define initial COM distance > 0\n",
    "pull_coord1_rate        = 0.01      ; 0.01 nm per ps = 10 nm per ns\n",
    "pull_coord1_k           = 1000      ; kJ mol^-1 nm^-2, 4 kT per A which is ok\n",
    "```"
   ]
  },
  {
   "cell_type": "code",
   "execution_count": 1,
   "metadata": {},
   "outputs": [],
   "source": [
    "%load_ext autoreload\n",
    "%autoreload 2\n",
    "%matplotlib inline"
   ]
  },
  {
   "cell_type": "code",
   "execution_count": 2,
   "metadata": {},
   "outputs": [
    {
     "data": {
      "application/vnd.jupyter.widget-view+json": {
       "model_id": "91b8e72bc1414f049be05235bd660812",
       "version_major": 2,
       "version_minor": 0
      },
      "text/plain": [
       "_ColormakerRegistry()"
      ]
     },
     "metadata": {},
     "output_type": "display_data"
    },
    {
     "data": {
      "text/markdown": [
       "\n",
       "# MD simulations of H2A-H2B with 30 bp of DNA, tails truncated\n",
       "- AMBER14SB force field\n",
       "- 150 mM NaCl\n",
       "- box 2nm\n"
      ],
      "text/plain": [
       "<IPython.core.display.Markdown object>"
      ]
     },
     "metadata": {},
     "output_type": "display_data"
    },
    {
     "name": "stdout",
     "output_type": "stream",
     "text": [
      "Folder set to:  h2a-h2b_tm_30DNA\n",
      "Project name:  h2a-h2b_tm_30DNA\n",
      "SSH host set to: newton\n"
     ]
    }
   ],
   "source": [
    "from myimports import *\n",
    "display(Markdown(descr))"
   ]
  },
  {
   "cell_type": "code",
   "execution_count": 3,
   "metadata": {},
   "outputs": [
    {
     "name": "stdout",
     "output_type": "stream",
     "text": [
      "0.8770063210397921\n",
      "0.9302067589010917\n"
     ]
    },
    {
     "data": {
      "application/vnd.jupyter.widget-view+json": {
       "model_id": "83ac5fd6a60c49b7b4ee2325996c28c2",
       "version_major": 2,
       "version_minor": 0
      },
      "text/plain": [
       "NGLWidget()"
      ]
     },
     "metadata": {},
     "output_type": "display_data"
    }
   ],
   "source": [
    "import MDAnalysis.analysis.hbonds\n",
    "import MDAnalysis.analysis.distances\n",
    "\n",
    "\n",
    "nucl=mda.Universe(\"GMX_system/sys_ref.pdb\")\n",
    "\n",
    "\n",
    "sel_end1_1=\"(segid I and resnum -60 and ((resname DC DT and name N1) or (resname DG DA and name N9)))\"\n",
    "sel_end1_2=\"(segid J and resnum 60 and ((resname DC DT and name N1) or (resname DG DA and name N9)))\"\n",
    "\n",
    "sel_end2_1=\"(segid I and resnum -31 and ((resname DC DT and name N1) or (resname DG DA and name N9)))\"\n",
    "sel_end2_2=\"(segid J and resnum 31 and ((resname DC DT and name N1) or (resname DG DA and name N9)))\"\n",
    "\n",
    "N=nucl.select_atoms(\"(segid I and resnum -31) or (segid J and resnum 31)\")\n",
    "\n",
    "\n",
    "E1NI=nucl.select_atoms(sel_end1_1)\n",
    "E1NJ=nucl.select_atoms(sel_end1_2)\n",
    "\n",
    "d1=MDAnalysis.analysis.distances.dist(E1NI,E1NJ)[2][0]/10.\n",
    "print(d1)\n",
    "\n",
    "E2NI=nucl.select_atoms(sel_end2_1)\n",
    "E2NJ=nucl.select_atoms(sel_end2_2)\n",
    "\n",
    "E2NI.atoms\n",
    "d2=MDAnalysis.analysis.distances.dist(E2NI,E2NJ)[2][0]/10.\n",
    "print(d2)\n",
    "\n",
    "w=nv.show_mdanalysis(N,gui=False)\n",
    "#w.add_representation( \"label\", \".N9\", color=\"grey\" )\n",
    "w"
   ]
  },
  {
   "cell_type": "code",
   "execution_count": 4,
   "metadata": {},
   "outputs": [],
   "source": [
    "e1ni=E1NI.atoms[0].id\n",
    "e1nj=E1NJ.atoms[0].id\n",
    "e2ni=E2NI.atoms[0].id\n",
    "e2nj=E2NJ.atoms[0].id\n",
    "\n"
   ]
  },
  {
   "cell_type": "markdown",
   "metadata": {},
   "source": [
    "Let's generate distance restraints\n",
    "http://manual.gromacs.org/current/manual-2018.4.pdf\n"
   ]
  },
  {
   "cell_type": "code",
   "execution_count": 5,
   "metadata": {},
   "outputs": [],
   "source": [
    "%%bash -s \"$d1\" \"$d2\" \"$e1ni\" \"$e1nj\" \"$e2ni\" \"$e2nj\" \n",
    "cat > GMX_system/pull.mdp <<!\n",
    "; Pull code\n",
    "pull                    = yes\n",
    "pull_ncoords            = 2         ; only one reaction coordinate\n",
    "pull_ngroups            = 4         ; two groups defining one reaction coordinate\n",
    "pull_group1_name        = a_$3\n",
    "pull_group2_name        = a_$4\n",
    "pull_group3_name        = a_$5\n",
    "pull_group4_name        = a_$6\n",
    "pull_coord1_type        = umbrella  ; harmonic potential\n",
    "pull_coord1_geometry    = distance  ; simple distance increase\n",
    "pull_coord1_dim         = Y Y Y     ; pull along z\n",
    "pull_coord1_groups      = 1 2       ; groups 1 (Chain A) and 2 (Chain B) define the reaction coordinate\n",
    "pull_coord1_start       = no       ; define initial COM distance > 0\n",
    "pull_coord1_rate        = 0.00      ; 0.01 nm per ps = 10 nm per ns\n",
    "pull_coord1_k           = 1000      ; kJ mol^-1 nm^-2, 4 kT per A which is ok\n",
    "pull-coord1-init        = $1\n",
    "\n",
    "pull_coord2_type        = umbrella  ; harmonic potential\n",
    "pull_coord2_geometry    = distance  ; simple distance increase\n",
    "pull_coord2_dim         = Y Y Y     ; pull along z\n",
    "pull_coord2_groups      = 3 4       ; groups 1 (Chain A) and 2 (Chain B) define the reaction coordinate\n",
    "pull_coord2_start       = no       ; define initial COM distance > 0\n",
    "pull_coord2_rate        = 0.00      ; 0.01 nm per ps = 10 nm per ns\n",
    "pull_coord2_k           = 1000      ; kJ mol^-1 nm^-2, 4 kT per A which is ok\n",
    "pull-coord2-init        = $2\n",
    "!"
   ]
  },
  {
   "cell_type": "code",
   "execution_count": 6,
   "metadata": {},
   "outputs": [
    {
     "name": "stdout",
     "output_type": "stream",
     "text": [
      "; Pull code\r\n",
      "pull                    = yes\r\n",
      "pull_ncoords            = 2         ; only one reaction coordinate\r\n",
      "pull_ngroups            = 4         ; two groups defining one reaction coordinate\r\n",
      "pull_group1_name        = a_11\r\n",
      "pull_group2_name        = a_1888\r\n",
      "pull_group3_name        = a_937\r\n",
      "pull_group4_name        = a_968\r\n",
      "pull_coord1_type        = umbrella  ; harmonic potential\r\n",
      "pull_coord1_geometry    = distance  ; simple distance increase\r\n",
      "pull_coord1_dim         = Y Y Y     ; pull along z\r\n",
      "pull_coord1_groups      = 1 2       ; groups 1 (Chain A) and 2 (Chain B) define the reaction coordinate\r\n",
      "pull_coord1_start       = no       ; define initial COM distance > 0\r\n",
      "pull_coord1_rate        = 0.00      ; 0.01 nm per ps = 10 nm per ns\r\n",
      "pull_coord1_k           = 1000      ; kJ mol^-1 nm^-2, 4 kT per A which is ok\r\n",
      "pull-coord1-init        = 0.8770063210397921\r\n",
      "\r\n",
      "pull_coord2_type        = umbrella  ; harmonic potential\r\n",
      "pull_coord2_geometry    = distance  ; simple distance increase\r\n",
      "pull_coord2_dim         = Y Y Y     ; pull along z\r\n",
      "pull_coord2_groups      = 3 4       ; groups 1 (Chain A) and 2 (Chain B) define the reaction coordinate\r\n",
      "pull_coord2_start       = no       ; define initial COM distance > 0\r\n",
      "pull_coord2_rate        = 0.00      ; 0.01 nm per ps = 10 nm per ns\r\n",
      "pull_coord2_k           = 1000      ; kJ mol^-1 nm^-2, 4 kT per A which is ok\r\n",
      "pull-coord2-init        = 0.9302067589010917\r\n"
     ]
    }
   ],
   "source": [
    "!cat GMX_system/pull.mdp\n"
   ]
  },
  {
   "cell_type": "code",
   "execution_count": 7,
   "metadata": {},
   "outputs": [
    {
     "name": "stdout",
     "output_type": "stream",
     "text": [
      "Going to read 1 old index file(s)\n",
      "\n",
      "  0 System              : 86212 atoms\n",
      "  1 DNA                 :  1908 atoms\n",
      "  2 NA                  :   116 atoms\n",
      "  3 CL                  :    73 atoms\n",
      "  4 Protein             :  2998 atoms\n",
      "  5 Protein-H           :  1463 atoms\n",
      "  6 C-alpha             :   186 atoms\n",
      "  7 Backbone            :   558 atoms\n",
      "  8 MainChain           :   742 atoms\n",
      "  9 MainChain+Cb        :   917 atoms\n",
      " 10 MainChain+H         :   925 atoms\n",
      " 11 SideChain           :  2073 atoms\n",
      " 12 SideChain-H         :   721 atoms\n",
      " 13 Prot-Masses         :  2998 atoms\n",
      " 14 non-Protein         : 83214 atoms\n",
      " 15 Water               : 81117 atoms\n",
      " 16 SOL                 : 81117 atoms\n",
      " 17 non-Water           :  5095 atoms\n",
      " 18 Ion                 :   189 atoms\n",
      " 19 NA                  :   116 atoms\n",
      " 20 CL                  :    73 atoms\n",
      " 21 Water_and_ions      : 81306 atoms\n",
      " 22 !Water_and_ions     :  4906 atoms\n",
      "\n",
      " nr : group      '!': not  'name' nr name   'splitch' nr    Enter: list groups\n",
      " 'a': atom       '&': and  'del' nr         'splitres' nr   'l': list residues\n",
      " 't': atom type  '|': or   'keep' nr        'splitat' nr    'h': help\n",
      " 'r': residue              'res' nr         'chain' char\n",
      " \"name\": group             'case': case sensitive           'q': save and quit\n",
      " 'ri': residue index\n",
      "\n",
      "> \n",
      "\n",
      " 23 a_11                :     1 atoms\n",
      "\n",
      "> \n",
      "\n",
      " 24 a_1888              :     1 atoms\n",
      "\n",
      "> \n",
      "\n",
      " 25 a_937               :     1 atoms\n",
      "\n",
      "> \n",
      "\n",
      " 26 a_968               :     1 atoms\n",
      "\n",
      "> \n"
     ]
    },
    {
     "name": "stderr",
     "output_type": "stream",
     "text": [
      "                     :-) GROMACS - gmx make_ndx, 2020.1 (-:\n",
      "\n",
      "                            GROMACS is written by:\n",
      "     Emile Apol      Rossen Apostolov      Paul Bauer     Herman J.C. Berendsen\n",
      "    Par Bjelkmar      Christian Blau   Viacheslav Bolnykh     Kevin Boyd    \n",
      " Aldert van Buuren   Rudi van Drunen     Anton Feenstra       Alan Gray     \n",
      "  Gerrit Groenhof     Anca Hamuraru    Vincent Hindriksen  M. Eric Irrgang  \n",
      "  Aleksei Iupinov   Christoph Junghans     Joe Jordan     Dimitrios Karkoulis\n",
      "    Peter Kasson        Jiri Kraus      Carsten Kutzner      Per Larsson    \n",
      "  Justin A. Lemkul    Viveca Lindahl    Magnus Lundborg     Erik Marklund   \n",
      "    Pascal Merz     Pieter Meulenhoff    Teemu Murtola       Szilard Pall   \n",
      "    Sander Pronk      Roland Schulz      Michael Shirts    Alexey Shvetsov  \n",
      "   Alfons Sijbers     Peter Tieleman      Jon Vincent      Teemu Virolainen \n",
      " Christian Wennberg    Maarten Wolf      Artem Zhmurov   \n",
      "                           and the project leaders:\n",
      "        Mark Abraham, Berk Hess, Erik Lindahl, and David van der Spoel\n",
      "\n",
      "Copyright (c) 1991-2000, University of Groningen, The Netherlands.\n",
      "Copyright (c) 2001-2019, The GROMACS development team at\n",
      "Uppsala University, Stockholm University and\n",
      "the Royal Institute of Technology, Sweden.\n",
      "check out http://www.gromacs.org for more information.\n",
      "\n",
      "GROMACS is free software; you can redistribute it and/or modify it\n",
      "under the terms of the GNU Lesser General Public License\n",
      "as published by the Free Software Foundation; either version 2.1\n",
      "of the License, or (at your option) any later version.\n",
      "\n",
      "GROMACS:      gmx make_ndx, version 2020.1\n",
      "Executable:   /opt/gromacs/2020.1_nompi/bin/gmx\n",
      "Data prefix:  /opt/gromacs/2020.1_nompi\n",
      "Working dir:  /home/_shared/_projects/gmx_template/GMX_system\n",
      "Command line:\n",
      "  gmx make_ndx -f init_solv_ions.pdb -n index.ndx -o index.ndx\n",
      "\n",
      "\n",
      "Reading structure file\n",
      "\n",
      "Back Off! I just backed up index.ndx to ./#index.ndx.1#\n",
      "\n",
      "GROMACS reminds you: \"Base eight is just like base ten really, if you're missing two fingers.\" (Tom Lehrer)\n",
      "\n"
     ]
    }
   ],
   "source": [
    "%%bash -s \"$d1\" \"$d2\" \"$e1ni\" \"$e1nj\" \"$e2ni\" \"$e2nj\" \"$set_gmx_cmd\"\n",
    "$7\n",
    "cd GMX_system\n",
    "\n",
    "gmx make_ndx -f init_solv_ions.pdb -n index.ndx -o index.ndx <<!\n",
    "a $3\n",
    "a $4\n",
    "a $5\n",
    "a $6\n",
    "q\n",
    "!"
   ]
  },
  {
   "cell_type": "code",
   "execution_count": 8,
   "metadata": {},
   "outputs": [],
   "source": [
    "%%bash\n",
    "##Patch mdp files\n",
    "cp GMX_system/pull.mdp MDProtocols/\n",
    "cat MDProtocols/pull.mdp >> MDProtocols/1_minim.mdp\n",
    "cat MDProtocols/pull.mdp >> MDProtocols/2_equil.mdp\n",
    "cat MDProtocols/pull.mdp >> MDProtocols/3_equil.mdp\n",
    "cat MDProtocols/pull.mdp >> MDProtocols/4_equil.mdp\n",
    "cat MDProtocols/pull.mdp >> MDProtocols/5_equil.mdp\n",
    "cat MDProtocols/pull.mdp >> MDProtocols/6_equil.mdp\n",
    "cat MDProtocols/pull.mdp >> MDProtocols/7_prod.mdp\n",
    "cat MDProtocols/pull.mdp >> MDProtocols/bench.mdp"
   ]
  },
  {
   "cell_type": "code",
   "execution_count": 9,
   "metadata": {},
   "outputs": [],
   "source": [
    "!cat MDProtocols/pull.mdp >> MDProtocols/7_prod_10ps_out.mdp\n",
    "\n"
   ]
  },
  {
   "cell_type": "code",
   "execution_count": null,
   "metadata": {},
   "outputs": [],
   "source": []
  },
  {
   "cell_type": "code",
   "execution_count": null,
   "metadata": {},
   "outputs": [],
   "source": []
  },
  {
   "cell_type": "code",
   "execution_count": null,
   "metadata": {},
   "outputs": [],
   "source": []
  }
 ],
 "metadata": {
  "kernelspec": {
   "display_name": "Python [conda env:moldyn]",
   "language": "python",
   "name": "conda-env-moldyn-py"
  },
  "language_info": {
   "codemirror_mode": {
    "name": "ipython",
    "version": 3
   },
   "file_extension": ".py",
   "mimetype": "text/x-python",
   "name": "python",
   "nbconvert_exporter": "python",
   "pygments_lexer": "ipython3",
   "version": "3.7.3"
  },
  "widgets": {
   "application/vnd.jupyter.widget-state+json": {
    "state": {
     "1e37613b9089424aad2a90056e7a76cf": {
      "model_module": "@jupyter-widgets/controls",
      "model_module_version": "1.5.0",
      "model_name": "LinkModel",
      "state": {
       "_model_module": "@jupyter-widgets/controls",
       "_model_module_version": "1.5.0",
       "_model_name": "LinkModel",
       "_view_count": null,
       "_view_module": "@jupyter-widgets/controls",
       "_view_module_version": "1.5.0",
       "_view_name": null,
       "source": [
        "IPY_MODEL_5f5028869d1142abb236bc0a97dd69ab",
        "value"
       ],
       "target": [
        "IPY_MODEL_83ac5fd6a60c49b7b4ee2325996c28c2",
        "frame"
       ]
      }
     },
     "30ba3f190ac642048dfd5fced6aa9e8b": {
      "model_module": "@jupyter-widgets/controls",
      "model_module_version": "1.5.0",
      "model_name": "DescriptionStyleModel",
      "state": {
       "_model_module": "@jupyter-widgets/controls",
       "_model_module_version": "1.5.0",
       "_model_name": "DescriptionStyleModel",
       "_view_count": null,
       "_view_module": "@jupyter-widgets/base",
       "_view_module_version": "1.2.0",
       "_view_name": "StyleView",
       "description_width": ""
      }
     },
     "32ce114167ad430a92b7cbb4bd1dd8e0": {
      "model_module": "@jupyter-widgets/controls",
      "model_module_version": "1.5.0",
      "model_name": "LinkModel",
      "state": {
       "_model_module": "@jupyter-widgets/controls",
       "_model_module_version": "1.5.0",
       "_model_name": "LinkModel",
       "_view_count": null,
       "_view_module": "@jupyter-widgets/controls",
       "_view_module_version": "1.5.0",
       "_view_name": null,
       "source": [
        "IPY_MODEL_410f1bd4250c4e3d8b0342710c6a0bf8",
        "max"
       ],
       "target": [
        "IPY_MODEL_83ac5fd6a60c49b7b4ee2325996c28c2",
        "max_frame"
       ]
      }
     },
     "4108fb4332f14d1d892aa0102ba87b15": {
      "model_module": "@jupyter-widgets/base",
      "model_module_version": "1.2.0",
      "model_name": "LayoutModel",
      "state": {
       "_model_module": "@jupyter-widgets/base",
       "_model_module_version": "1.2.0",
       "_model_name": "LayoutModel",
       "_view_count": null,
       "_view_module": "@jupyter-widgets/base",
       "_view_module_version": "1.2.0",
       "_view_name": "LayoutView",
       "align_content": null,
       "align_items": null,
       "align_self": null,
       "border": null,
       "bottom": null,
       "display": null,
       "flex": null,
       "flex_flow": null,
       "grid_area": null,
       "grid_auto_columns": null,
       "grid_auto_flow": null,
       "grid_auto_rows": null,
       "grid_column": null,
       "grid_gap": null,
       "grid_row": null,
       "grid_template_areas": null,
       "grid_template_columns": null,
       "grid_template_rows": null,
       "height": null,
       "justify_content": null,
       "justify_items": null,
       "left": null,
       "margin": null,
       "max_height": null,
       "max_width": null,
       "min_height": null,
       "min_width": null,
       "object_fit": null,
       "object_position": null,
       "order": null,
       "overflow": null,
       "overflow_x": null,
       "overflow_y": null,
       "padding": null,
       "right": null,
       "top": null,
       "visibility": null,
       "width": null
      }
     },
     "410f1bd4250c4e3d8b0342710c6a0bf8": {
      "model_module": "@jupyter-widgets/controls",
      "model_module_version": "1.5.0",
      "model_name": "IntSliderModel",
      "state": {
       "_dom_classes": [],
       "_model_module": "@jupyter-widgets/controls",
       "_model_module_version": "1.5.0",
       "_model_name": "IntSliderModel",
       "_view_count": null,
       "_view_module": "@jupyter-widgets/controls",
       "_view_module_version": "1.5.0",
       "_view_name": "IntSliderView",
       "continuous_update": true,
       "description": "",
       "description_tooltip": null,
       "disabled": false,
       "layout": "IPY_MODEL_c369770df7eb469da8f8d91ae76fcb91",
       "max": 0,
       "min": 0,
       "orientation": "horizontal",
       "readout": true,
       "readout_format": "d",
       "step": 1,
       "style": "IPY_MODEL_e09ac75444674c81bd3d3abce1dd0442",
       "value": 0
      }
     },
     "46ab24c7c3ce4e0c9177d839513cfebb": {
      "buffers": [
       {
        "data": "",
        "encoding": "base64",
        "path": [
         "value"
        ]
       }
      ],
      "model_module": "@jupyter-widgets/controls",
      "model_module_version": "1.5.0",
      "model_name": "ImageModel",
      "state": {
       "_dom_classes": [],
       "_model_module": "@jupyter-widgets/controls",
       "_model_module_version": "1.5.0",
       "_model_name": "ImageModel",
       "_view_count": null,
       "_view_module": "@jupyter-widgets/controls",
       "_view_module_version": "1.5.0",
       "_view_name": "ImageView",
       "format": "png",
       "height": "",
       "layout": "IPY_MODEL_56a32eaa2fc342c48ec870b1f610517d",
       "value": {},
       "width": "900.0"
      }
     },
     "56a32eaa2fc342c48ec870b1f610517d": {
      "model_module": "@jupyter-widgets/base",
      "model_module_version": "1.2.0",
      "model_name": "LayoutModel",
      "state": {
       "_model_module": "@jupyter-widgets/base",
       "_model_module_version": "1.2.0",
       "_model_name": "LayoutModel",
       "_view_count": null,
       "_view_module": "@jupyter-widgets/base",
       "_view_module_version": "1.2.0",
       "_view_name": "LayoutView",
       "align_content": null,
       "align_items": null,
       "align_self": null,
       "border": null,
       "bottom": null,
       "display": null,
       "flex": null,
       "flex_flow": null,
       "grid_area": null,
       "grid_auto_columns": null,
       "grid_auto_flow": null,
       "grid_auto_rows": null,
       "grid_column": null,
       "grid_gap": null,
       "grid_row": null,
       "grid_template_areas": null,
       "grid_template_columns": null,
       "grid_template_rows": null,
       "height": null,
       "justify_content": null,
       "justify_items": null,
       "left": null,
       "margin": null,
       "max_height": null,
       "max_width": null,
       "min_height": null,
       "min_width": null,
       "object_fit": null,
       "object_position": null,
       "order": null,
       "overflow": null,
       "overflow_x": null,
       "overflow_y": null,
       "padding": null,
       "right": null,
       "top": null,
       "visibility": null,
       "width": null
      }
     },
     "5e3456599d2142e896b6ee550934d1cf": {
      "model_module": "@jupyter-widgets/controls",
      "model_module_version": "1.5.0",
      "model_name": "ButtonStyleModel",
      "state": {
       "_model_module": "@jupyter-widgets/controls",
       "_model_module_version": "1.5.0",
       "_model_name": "ButtonStyleModel",
       "_view_count": null,
       "_view_module": "@jupyter-widgets/base",
       "_view_module_version": "1.2.0",
       "_view_name": "StyleView",
       "button_color": null,
       "font_weight": ""
      }
     },
     "5f5028869d1142abb236bc0a97dd69ab": {
      "model_module": "@jupyter-widgets/controls",
      "model_module_version": "1.5.0",
      "model_name": "PlayModel",
      "state": {
       "_dom_classes": [],
       "_model_module": "@jupyter-widgets/controls",
       "_model_module_version": "1.5.0",
       "_model_name": "PlayModel",
       "_playing": false,
       "_repeat": false,
       "_view_count": null,
       "_view_module": "@jupyter-widgets/controls",
       "_view_module_version": "1.5.0",
       "_view_name": "PlayView",
       "description": "",
       "description_tooltip": null,
       "disabled": false,
       "interval": 100,
       "layout": "IPY_MODEL_c5c2f3156d2146ce8a6fbff49d188e6b",
       "max": 0,
       "min": 0,
       "show_repeat": true,
       "step": 1,
       "style": "IPY_MODEL_30ba3f190ac642048dfd5fced6aa9e8b",
       "value": 0
      }
     },
     "64452abe6a6347e789d05a46aa6feb6d": {
      "model_module": "@jupyter-widgets/base",
      "model_module_version": "1.2.0",
      "model_name": "LayoutModel",
      "state": {
       "_model_module": "@jupyter-widgets/base",
       "_model_module_version": "1.2.0",
       "_model_name": "LayoutModel",
       "_view_count": null,
       "_view_module": "@jupyter-widgets/base",
       "_view_module_version": "1.2.0",
       "_view_name": "LayoutView",
       "align_content": null,
       "align_items": null,
       "align_self": null,
       "border": null,
       "bottom": null,
       "display": null,
       "flex": null,
       "flex_flow": null,
       "grid_area": null,
       "grid_auto_columns": null,
       "grid_auto_flow": null,
       "grid_auto_rows": null,
       "grid_column": null,
       "grid_gap": null,
       "grid_row": null,
       "grid_template_areas": null,
       "grid_template_columns": null,
       "grid_template_rows": null,
       "height": null,
       "justify_content": null,
       "justify_items": null,
       "left": null,
       "margin": null,
       "max_height": null,
       "max_width": null,
       "min_height": null,
       "min_width": null,
       "object_fit": null,
       "object_position": null,
       "order": null,
       "overflow": null,
       "overflow_x": null,
       "overflow_y": null,
       "padding": null,
       "right": null,
       "top": null,
       "visibility": null,
       "width": null
      }
     },
     "676667318b154aa5ad99f6e694e4c236": {
      "model_module": "@jupyter-widgets/base",
      "model_module_version": "1.2.0",
      "model_name": "LayoutModel",
      "state": {
       "_model_module": "@jupyter-widgets/base",
       "_model_module_version": "1.2.0",
       "_model_name": "LayoutModel",
       "_view_count": null,
       "_view_module": "@jupyter-widgets/base",
       "_view_module_version": "1.2.0",
       "_view_name": "LayoutView",
       "align_content": null,
       "align_items": null,
       "align_self": null,
       "border": null,
       "bottom": null,
       "display": null,
       "flex": null,
       "flex_flow": null,
       "grid_area": null,
       "grid_auto_columns": null,
       "grid_auto_flow": null,
       "grid_auto_rows": null,
       "grid_column": null,
       "grid_gap": null,
       "grid_row": null,
       "grid_template_areas": null,
       "grid_template_columns": null,
       "grid_template_rows": null,
       "height": null,
       "justify_content": null,
       "justify_items": null,
       "left": null,
       "margin": null,
       "max_height": null,
       "max_width": null,
       "min_height": null,
       "min_width": null,
       "object_fit": null,
       "object_position": null,
       "order": null,
       "overflow": null,
       "overflow_x": null,
       "overflow_y": null,
       "padding": null,
       "right": null,
       "top": null,
       "visibility": null,
       "width": null
      }
     },
     "83ac5fd6a60c49b7b4ee2325996c28c2": {
      "model_module": "nglview-js-widgets",
      "model_module_version": "2.7.1",
      "model_name": "NGLModel",
      "state": {
       "_camera_orientation": [],
       "_camera_str": "orthographic",
       "_dom_classes": [],
       "_gui_theme": null,
       "_ibtn_fullscreen": "IPY_MODEL_9e69aca6bb5c4efabcc33774a8054778",
       "_igui": null,
       "_iplayer": "IPY_MODEL_e65bc972ecb64341810ce7a89934d952",
       "_model_module": "nglview-js-widgets",
       "_model_module_version": "2.7.1",
       "_model_name": "NGLModel",
       "_ngl_color_dict": {},
       "_ngl_coordinate_resource": {},
       "_ngl_full_stage_parameters": {},
       "_ngl_msg_archive": [
        {
         "args": [
          {
           "binary": false,
           "data": "HEADER    \nTITLE     MDANALYSIS FRAME 0: Created by PDBWriter\nREMARK     THIS IS A SIMULATION BOX\nCRYST1  131.678  131.678  131.678  60.00  60.00  90.00 P 1           1\nATOM      1  P   DA  I -31     131.193  85.441  58.944  1.00  0.00      I    P\nATOM      2  O1P DA  I -31     130.965  84.951  60.329  1.00  0.00      I    O\nATOM      3  O2P DA  I -31     131.262  86.902  58.684  1.00  0.00      I    O\nATOM      4  O5' DA  I -31     132.541  84.800  58.396  1.00  0.00      I    O\nATOM      5  C5' DA  I -31     132.658  83.395  58.247  1.00  0.00      I    C\nATOM      6  H5' DA  I -31     131.831  83.062  57.795  1.00  0.00      I    H\nATOM      7 H5'' DA  I -31     132.725  82.991  59.159  1.00  0.00      I    H\nATOM      8  C4' DA  I -31     133.881  83.062  57.428  1.00  0.00      I    C\nATOM      9  H4' DA  I -31     134.040  82.088  57.588  1.00  0.00      I    H\nATOM     10  O4' DA  I -31     133.633  83.299  56.019  1.00  0.00      I    O\nATOM     11  C1' DA  I -31     134.735  83.996  55.469  1.00  0.00      I    C\nATOM     12  H1' DA  I -31     135.431  83.381  55.098  1.00  0.00      I    H\nATOM     13  N9  DA  I -31     134.260  84.768  54.319  1.00  0.00      I    N\nATOM     14  C5  DA  I -31     133.747  85.394  52.272  1.00  0.00      I    C\nATOM     15  N7  DA  I -31     133.414  86.458  53.098  1.00  0.00      I    N\nATOM     16  C8  DA  I -31     133.733  86.037  54.298  1.00  0.00      I    C\nATOM     17  H8  DA  I -31     133.605  86.589  55.122  1.00  0.00      I    H\nATOM     18  N1  DA  I -31     134.085  84.034  50.374  1.00  0.00      I    N\nATOM     19  C2  DA  I -31     134.559  83.108  51.217  1.00  0.00      I    C\nATOM     20  H2  DA  I -31     134.857  82.254  50.791  1.00  0.00      I    H\nATOM     21  N3  DA  I -31     134.690  83.161  52.540  1.00  0.00      I    N\nATOM     22  C4  DA  I -31     134.266  84.346  53.011  1.00  0.00      I    C\nATOM     23  C6  DA  I -31     133.659  85.211  50.880  1.00  0.00      I    C\nATOM     24  N6  DA  I -31     133.179  86.130  50.038  1.00  0.00      I    N\nATOM     25  H61 DA  I -31     132.856  87.009  50.389  1.00  0.00      I    H\nATOM     26  H62 DA  I -31     133.143  85.939  49.057  1.00  0.00      I    H\nATOM     27  C2' DA  I -31     135.295  84.819  56.611  1.00  0.00      I    C\nATOM     28  H2' DA  I -31     134.773  85.662  56.741  1.00  0.00      I    H\nATOM     29 H2'' DA  I -31     136.258  85.043  56.459  1.00  0.00      I    H\nATOM     30  C3' DA  I -31     135.126  83.877  57.790  1.00  0.00      I    C\nATOM     31  H3' DA  I -31     135.093  84.332  58.680  1.00  0.00      I    H\nATOM     32  O3' DA  I -31     136.256  83.014  57.892  1.00  0.00      I    O\nATOM     33  H3T DA  I -31     137.066  83.551  58.128  1.00  0.00      I    H\nATOM     34  O5' DT  J  31     137.384  81.703  41.460  1.00  0.00      J    O\nATOM     35  H5T DT  J  31     137.685  82.278  40.699  1.00  0.00      J    H\nATOM     36  C5' DT  J  31     138.444  81.567  42.401  1.00  0.00      J    C\nATOM     37  H5' DT  J  31     138.692  82.482  42.720  1.00  0.00      J    H\nATOM     38 H5'' DT  J  31     139.224  81.156  41.929  1.00  0.00      J    H\nATOM     39  C4' DT  J  31     138.019  80.703  43.564  1.00  0.00      J    C\nATOM     40  H4' DT  J  31     138.872  80.290  43.884  1.00  0.00      J    H\nATOM     41  O4' DT  J  31     137.433  81.499  44.623  1.00  0.00      J    O\nATOM     42  C1' DT  J  31     136.220  80.906  45.055  1.00  0.00      J    C\nATOM     43  H1' DT  J  31     136.347  80.309  45.847  1.00  0.00      J    H\nATOM     44  N1  DT  J  31     135.320  81.993  45.504  1.00  0.00      J    N\nATOM     45  C6  DT  J  31     134.669  82.780  44.576  1.00  0.00      J    C\nATOM     46  H6  DT  J  31     134.815  82.583  43.606  1.00  0.00      J    H\nATOM     47  C2  DT  J  31     135.151  82.203  46.862  1.00  0.00      J    C\nATOM     48  O2  DT  J  31     135.683  81.521  47.724  1.00  0.00      J    O\nATOM     49  N3  DT  J  31     134.319  83.251  47.177  1.00  0.00      J    N\nATOM     50  H3  DT  J  31     134.183  83.433  48.151  1.00  0.00      J    H\nATOM     51  C4  DT  J  31     133.649  84.081  46.298  1.00  0.00      J    C\nATOM     52  O4  DT  J  31     132.946  84.982  46.733  1.00  0.00      J    O\nATOM     53  C5  DT  J  31     133.854  83.792  44.898  1.00  0.00      J    C\nATOM     54  C5M DT  J  31     133.155  84.627  43.873  1.00  0.00      J    C\nATOM     55  H51 DT  J  31     132.600  85.322  44.331  1.00  0.00      J    H\nATOM     56  H52 DT  J  31     133.832  85.073  43.288  1.00  0.00      J    H\nATOM     57  H53 DT  J  31     132.565  84.044  43.314  1.00  0.00      J    H\nATOM     58  C2' DT  J  31     135.718  80.115  43.858  1.00  0.00      J    C\nATOM     59  H2' DT  J  31     135.212  80.701  43.225  1.00  0.00      J    H\nATOM     60 H2'' DT  J  31     135.136  79.355  44.146  1.00  0.00      J    H\nATOM     61  C3' DT  J  31     137.007  79.611  43.228  1.00  0.00      J    C\nATOM     62  H3' DT  J  31     136.933  79.387  42.256  1.00  0.00      J    H\nATOM     63  O3' DT  J  31     137.404  78.376  43.828  1.00  0.00      J    O\nEND\n",
           "type": "blob"
          }
         ],
         "kwargs": {
          "defaultRepresentation": true,
          "ext": "pdb"
         },
         "methodName": "loadFile",
         "reconstruc_color_scheme": false,
         "target": "Stage",
         "type": "call_method"
        }
       ],
       "_ngl_original_stage_parameters": {},
       "_ngl_repr_dict": {},
       "_ngl_serialize": false,
       "_ngl_version": "",
       "_ngl_view_id": [],
       "_player_dict": {},
       "_scene_position": {},
       "_scene_rotation": {},
       "_synced_model_ids": [],
       "_synced_repr_model_ids": [],
       "_view_count": null,
       "_view_height": "",
       "_view_module": "nglview-js-widgets",
       "_view_module_version": "2.7.1",
       "_view_name": "NGLView",
       "_view_width": "",
       "background": "white",
       "frame": 0,
       "gui_style": null,
       "layout": "IPY_MODEL_676667318b154aa5ad99f6e694e4c236",
       "max_frame": 0,
       "n_components": 0,
       "picked": {}
      }
     },
     "91b8e72bc1414f049be05235bd660812": {
      "model_module": "nglview-js-widgets",
      "model_module_version": "2.7.1",
      "model_name": "ColormakerRegistryModel",
      "state": {
       "_dom_classes": [],
       "_model_module": "nglview-js-widgets",
       "_model_module_version": "2.7.1",
       "_model_name": "ColormakerRegistryModel",
       "_msg_ar": [],
       "_msg_q": [],
       "_ready": false,
       "_view_count": null,
       "_view_module": "nglview-js-widgets",
       "_view_module_version": "2.7.1",
       "_view_name": "ColormakerRegistryView",
       "layout": "IPY_MODEL_64452abe6a6347e789d05a46aa6feb6d"
      }
     },
     "97dc8571c076431b84ff4cd74a29a103": {
      "model_module": "@jupyter-widgets/controls",
      "model_module_version": "1.5.0",
      "model_name": "LinkModel",
      "state": {
       "_model_module": "@jupyter-widgets/controls",
       "_model_module_version": "1.5.0",
       "_model_name": "LinkModel",
       "_view_count": null,
       "_view_module": "@jupyter-widgets/controls",
       "_view_module_version": "1.5.0",
       "_view_name": null,
       "source": [
        "IPY_MODEL_5f5028869d1142abb236bc0a97dd69ab",
        "max"
       ],
       "target": [
        "IPY_MODEL_83ac5fd6a60c49b7b4ee2325996c28c2",
        "max_frame"
       ]
      }
     },
     "9e69aca6bb5c4efabcc33774a8054778": {
      "model_module": "@jupyter-widgets/controls",
      "model_module_version": "1.5.0",
      "model_name": "ButtonModel",
      "state": {
       "_dom_classes": [],
       "_model_module": "@jupyter-widgets/controls",
       "_model_module_version": "1.5.0",
       "_model_name": "ButtonModel",
       "_view_count": null,
       "_view_module": "@jupyter-widgets/controls",
       "_view_module_version": "1.5.0",
       "_view_name": "ButtonView",
       "button_style": "",
       "description": "",
       "disabled": false,
       "icon": "compress",
       "layout": "IPY_MODEL_d68dd3ef6cde418f8d69710bf3807f8f",
       "style": "IPY_MODEL_5e3456599d2142e896b6ee550934d1cf",
       "tooltip": ""
      }
     },
     "c369770df7eb469da8f8d91ae76fcb91": {
      "model_module": "@jupyter-widgets/base",
      "model_module_version": "1.2.0",
      "model_name": "LayoutModel",
      "state": {
       "_model_module": "@jupyter-widgets/base",
       "_model_module_version": "1.2.0",
       "_model_name": "LayoutModel",
       "_view_count": null,
       "_view_module": "@jupyter-widgets/base",
       "_view_module_version": "1.2.0",
       "_view_name": "LayoutView",
       "align_content": null,
       "align_items": null,
       "align_self": null,
       "border": null,
       "bottom": null,
       "display": null,
       "flex": null,
       "flex_flow": null,
       "grid_area": null,
       "grid_auto_columns": null,
       "grid_auto_flow": null,
       "grid_auto_rows": null,
       "grid_column": null,
       "grid_gap": null,
       "grid_row": null,
       "grid_template_areas": null,
       "grid_template_columns": null,
       "grid_template_rows": null,
       "height": null,
       "justify_content": null,
       "justify_items": null,
       "left": null,
       "margin": null,
       "max_height": null,
       "max_width": null,
       "min_height": null,
       "min_width": null,
       "object_fit": null,
       "object_position": null,
       "order": null,
       "overflow": null,
       "overflow_x": null,
       "overflow_y": null,
       "padding": null,
       "right": null,
       "top": null,
       "visibility": null,
       "width": null
      }
     },
     "c5c2f3156d2146ce8a6fbff49d188e6b": {
      "model_module": "@jupyter-widgets/base",
      "model_module_version": "1.2.0",
      "model_name": "LayoutModel",
      "state": {
       "_model_module": "@jupyter-widgets/base",
       "_model_module_version": "1.2.0",
       "_model_name": "LayoutModel",
       "_view_count": null,
       "_view_module": "@jupyter-widgets/base",
       "_view_module_version": "1.2.0",
       "_view_name": "LayoutView",
       "align_content": null,
       "align_items": null,
       "align_self": null,
       "border": null,
       "bottom": null,
       "display": null,
       "flex": null,
       "flex_flow": null,
       "grid_area": null,
       "grid_auto_columns": null,
       "grid_auto_flow": null,
       "grid_auto_rows": null,
       "grid_column": null,
       "grid_gap": null,
       "grid_row": null,
       "grid_template_areas": null,
       "grid_template_columns": null,
       "grid_template_rows": null,
       "height": null,
       "justify_content": null,
       "justify_items": null,
       "left": null,
       "margin": null,
       "max_height": null,
       "max_width": null,
       "min_height": null,
       "min_width": null,
       "object_fit": null,
       "object_position": null,
       "order": null,
       "overflow": null,
       "overflow_x": null,
       "overflow_y": null,
       "padding": null,
       "right": null,
       "top": null,
       "visibility": null,
       "width": null
      }
     },
     "d68dd3ef6cde418f8d69710bf3807f8f": {
      "model_module": "@jupyter-widgets/base",
      "model_module_version": "1.2.0",
      "model_name": "LayoutModel",
      "state": {
       "_model_module": "@jupyter-widgets/base",
       "_model_module_version": "1.2.0",
       "_model_name": "LayoutModel",
       "_view_count": null,
       "_view_module": "@jupyter-widgets/base",
       "_view_module_version": "1.2.0",
       "_view_name": "LayoutView",
       "align_content": null,
       "align_items": null,
       "align_self": null,
       "border": null,
       "bottom": null,
       "display": null,
       "flex": null,
       "flex_flow": null,
       "grid_area": null,
       "grid_auto_columns": null,
       "grid_auto_flow": null,
       "grid_auto_rows": null,
       "grid_column": null,
       "grid_gap": null,
       "grid_row": null,
       "grid_template_areas": null,
       "grid_template_columns": null,
       "grid_template_rows": null,
       "height": null,
       "justify_content": null,
       "justify_items": null,
       "left": null,
       "margin": null,
       "max_height": null,
       "max_width": null,
       "min_height": null,
       "min_width": null,
       "object_fit": null,
       "object_position": null,
       "order": null,
       "overflow": null,
       "overflow_x": null,
       "overflow_y": null,
       "padding": null,
       "right": null,
       "top": null,
       "visibility": null,
       "width": "34px"
      }
     },
     "e09ac75444674c81bd3d3abce1dd0442": {
      "model_module": "@jupyter-widgets/controls",
      "model_module_version": "1.5.0",
      "model_name": "SliderStyleModel",
      "state": {
       "_model_module": "@jupyter-widgets/controls",
       "_model_module_version": "1.5.0",
       "_model_name": "SliderStyleModel",
       "_view_count": null,
       "_view_module": "@jupyter-widgets/base",
       "_view_module_version": "1.2.0",
       "_view_name": "StyleView",
       "description_width": "",
       "handle_color": null
      }
     },
     "e65bc972ecb64341810ce7a89934d952": {
      "model_module": "@jupyter-widgets/controls",
      "model_module_version": "1.5.0",
      "model_name": "HBoxModel",
      "state": {
       "_dom_classes": [],
       "_model_module": "@jupyter-widgets/controls",
       "_model_module_version": "1.5.0",
       "_model_name": "HBoxModel",
       "_view_count": null,
       "_view_module": "@jupyter-widgets/controls",
       "_view_module_version": "1.5.0",
       "_view_name": "HBoxView",
       "box_style": "",
       "children": [
        "IPY_MODEL_5f5028869d1142abb236bc0a97dd69ab",
        "IPY_MODEL_410f1bd4250c4e3d8b0342710c6a0bf8"
       ],
       "layout": "IPY_MODEL_4108fb4332f14d1d892aa0102ba87b15"
      }
     },
     "f9c50730aaf247febae283fe23af2191": {
      "model_module": "@jupyter-widgets/controls",
      "model_module_version": "1.5.0",
      "model_name": "LinkModel",
      "state": {
       "_model_module": "@jupyter-widgets/controls",
       "_model_module_version": "1.5.0",
       "_model_name": "LinkModel",
       "_view_count": null,
       "_view_module": "@jupyter-widgets/controls",
       "_view_module_version": "1.5.0",
       "_view_name": null,
       "source": [
        "IPY_MODEL_5f5028869d1142abb236bc0a97dd69ab",
        "value"
       ],
       "target": [
        "IPY_MODEL_410f1bd4250c4e3d8b0342710c6a0bf8",
        "value"
       ]
      }
     }
    },
    "version_major": 2,
    "version_minor": 0
   }
  }
 },
 "nbformat": 4,
 "nbformat_minor": 2
}
