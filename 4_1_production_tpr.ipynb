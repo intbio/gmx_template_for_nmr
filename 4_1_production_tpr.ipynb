{
 "cells": [
  {
   "cell_type": "markdown",
   "metadata": {},
   "source": [
    "## Production tpr files generate\n",
    "- some benchmarking needed first\n",
    " \n",
    " Protocol files are copied from https://github.com/intbio/gmx_protocols/tree/master/amber into\n",
    "Protocols folder.\n",
    "If others are needed modify then in the folder."
   ]
  },
  {
   "cell_type": "code",
   "execution_count": null,
   "metadata": {},
   "outputs": [],
   "source": [
    "%load_ext autoreload\n",
    "%autoreload 2\n",
    "%matplotlib inline"
   ]
  },
  {
   "cell_type": "code",
   "execution_count": null,
   "metadata": {},
   "outputs": [],
   "source": [
    "from myimports import *\n",
    "display(Markdown(descr))\n",
    "\n"
   ]
  },
  {
   "cell_type": "code",
   "execution_count": null,
   "metadata": {},
   "outputs": [],
   "source": [
    "# %%bash\n",
    "#rm -rf MDProtocols"
   ]
  },
  {
   "cell_type": "code",
   "execution_count": null,
   "metadata": {},
   "outputs": [],
   "source": [
    "#Set protocols URL\n",
    "# prot_url=\"https://api.github.com/repos/intbio/gmx_protocols/contents/amber_gmx2020\""
   ]
  },
  {
   "cell_type": "code",
   "execution_count": null,
   "metadata": {},
   "outputs": [],
   "source": [
    "# get_files_from_git(prot_url,'MDProtocols/')"
   ]
  },
  {
   "cell_type": "markdown",
   "metadata": {},
   "source": [
    "## 7_Production run 10 000 ns - prepare files"
   ]
  },
  {
   "cell_type": "code",
   "execution_count": null,
   "metadata": {},
   "outputs": [],
   "source": [
    "%%bash -s \"$set_gmx_cmd\" \"$gen_parallel_tpr\"\n",
    "$1\n",
    "#--out out --err err\n",
    "mkdir -p GMX_run\n",
    "gmx grompp -maxwarn 2 -f MDProtocols/7_prod.mdp -c GMX_run/6_equil.gro -p GMX_system/topol.top \\\n",
    "-o GMX_run/7_prod.tpr -v  -r GMX_run/6_equil.gro -n GMX_system/index.ndx -po GMX_run/mdout_7_prod.mdp -t GMX_run/6_equil.cpt\n",
    "\n",
    "#It is useful to generate some files with different velocities for parallel runs\n",
    "if [ \"$2\" = True ]\n",
    "then\n",
    "for i in `seq 0 15`; do\n",
    "gmx grompp -maxwarn 2 -f MDProtocols/7_prod.mdp -c GMX_run/6_equil.gro -p GMX_system/topol.top \\\n",
    "-o GMX_run/7_prod_$i.tpr -v  -r GMX_run/6_equil.gro -n GMX_system/index.ndx -po GMX_run/mdout_7_prod.mdp -t GMX_run/6_equil.cpt\n",
    "done\n",
    "for i in `seq 0 15`; do\n",
    "mkdir -p GMX_run/$i\n",
    "cp GMX_run/7_prod_$i.tpr GMX_run/$i/7_prod.tpr\n",
    "done\n",
    "fi"
   ]
  },
  {
   "cell_type": "raw",
   "metadata": {},
   "source": [
    "%%bash -s \"$set_gmx_cmd\" \n",
    "#Enble this section if you want small diagnostic run files generated\n",
    "$1\n",
    "#For smaller diagnostic runs we also prepare file that will output trj every 10ps\n",
    "gmx grompp -f MDProtocols/7_prod_10ps_out.mdp -c GMX_run/6_equil.gro -p GMX_system/topol.top \\\n",
    "-o GMX_run/7_prod_10ps_out.tpr -v  -r GMX_run/6_equil.gro -n GMX_system/index.ndx -po GMX_run/mdout_7_prod_10ps_out.mdp -t GMX_run/6_equil.cpt\n",
    "\n",
    "\n",
    "#It is useful to generate some files with different velovities for parallel runs\n",
    "for i in `seq 0 15`; do\n",
    "gmx grompp -f MDProtocols/7_prod_10ps_out.mdp -c GMX_run/6_equil.gro -p GMX_system/topol.top \\\n",
    "-o GMX_run/7_prod_10ps_out_$i.tpr -v  -r GMX_run/6_equil.gro -n GMX_system/index.ndx -po GMX_run/mdout_7_prod_10ps_out.mdp -t GMX_run/6_equil.cpt\n",
    "\n",
    "done"
   ]
  },
  {
   "cell_type": "markdown",
   "metadata": {},
   "source": [
    "## Transfer files to supercomputer"
   ]
  },
  {
   "cell_type": "raw",
   "metadata": {},
   "source": [
    "!cp Run_scripts/* GMX_run/"
   ]
  },
  {
   "cell_type": "raw",
   "metadata": {},
   "source": [
    "!ssh $ssh_host \"mkdir -p ~/_scratch/$folder\""
   ]
  },
  {
   "cell_type": "raw",
   "metadata": {},
   "source": [
    "%%bash -s \"$folder\" \"$ssh_host\" --err err --out out\n",
    "#Copy to SC\n",
    "\n",
    "cp Run_scripts/* GMX_run/\n",
    "\n",
    "rsync --exclude '*.xtc' --exclude '*.trr' -r GMX_run $2:~/_scratch/$1/;"
   ]
  },
  {
   "cell_type": "markdown",
   "metadata": {},
   "source": [
    "## Launch,relaunch make a chain of tasks\n",
    "### NOTE: for relaunch, monitor and data pullback - better to use status.ipynb"
   ]
  },
  {
   "cell_type": "markdown",
   "metadata": {},
   "source": [
    "Lomonosov-2 queues https://users.parallel.ru/wiki/pages/22-config\n",
    "compute partition allows max 7 days!.\n",
    "Then we will resume.\n",
    "https://hpc.nih.gov/docs/job_dependencies.html"
   ]
  },
  {
   "cell_type": "raw",
   "metadata": {},
   "source": [
    "#%%bash -s \"$folder\" --out out --err err\n",
    "#ssh lomo2 \"module load slurm gromacs/2018-gcc; cd ~/_scratch/$1/GMX_run; \\\n",
    "#sbatch -p test -t 00:15:00 -N 2 -J $1 lomo2_run.sh 7_prod\""
   ]
  },
  {
   "cell_type": "raw",
   "metadata": {},
   "source": [
    "%%bash -s \"$folder\" \"$ssh_host\"\n",
    "#--out out --err err\n",
    "ssh $2 \"module load slurm gromacs/2018-gcc; cd ~/_scratch/$1/GMX_run; \\\n",
    "sbatch -p compute -t 7-00:00:00 -N 4 -J $1 lomo2_run.sh 7_prod\""
   ]
  },
  {
   "cell_type": "raw",
   "metadata": {},
   "source": [
    "%%bash -s \"$folder\" \"$ssh_host\"\n",
    "#This is for newton\n",
    "cd GMX_run; sbatch -p gpu -c 20 -J $1 newton_run.sh 7_prod"
   ]
  },
  {
   "cell_type": "raw",
   "metadata": {},
   "source": [
    "#get job id\n",
    "print(out)\n",
    "job_idp=re.findall(r'\\d+', out)[0]\n",
    "print(job_idp)"
   ]
  },
  {
   "cell_type": "raw",
   "metadata": {},
   "source": [
    "job_idp=906295"
   ]
  },
  {
   "cell_type": "code",
   "execution_count": null,
   "metadata": {},
   "outputs": [],
   "source": [
    "#Relaunch\n",
    "#!ssh $ssh_host \"module load slurm gromacs/2018-gcc; cd ~/_scratch/$folder/GMX_run; sbatch -p compute -t 7-00:00:00 -N 4 -J $folder lomo2_run_cont.sh 7_prod\""
   ]
  },
  {
   "cell_type": "raw",
   "metadata": {},
   "source": [
    "%%bash -s \"$folder\" \"$job_idp\" \"$ssh_host\" --out out --err err \n",
    "#OR Make a relaunch chain\n",
    "\n",
    "#ssh $3 \"module load slurm gromacs/2018-gcc; cd ~/_scratch/$1/GMX_run; \\\n",
    "sbatch -p compute -t 7-00:00:00 -N 4 -J $1 --dependency=afterany:$2 lomo2_run_cont.sh 7_prod\""
   ]
  },
  {
   "cell_type": "raw",
   "metadata": {},
   "source": [
    "print(err)"
   ]
  },
  {
   "cell_type": "raw",
   "metadata": {},
   "source": [
    "!ssh $ssh_host \"module load slurm gromacs/2018-gcc; squeue -u \\`whoami\\`\" || echo \"No job in queue\""
   ]
  },
  {
   "cell_type": "markdown",
   "metadata": {},
   "source": [
    "## Monitor\n",
    "\n",
    "Note: It is suggested that for monitoring and relaunch the user makes use of status.ipynb\n",
    "Parts of conde below are deprecated."
   ]
  },
  {
   "cell_type": "raw",
   "metadata": {},
   "source": [
    "job_idp=906295"
   ]
  },
  {
   "cell_type": "raw",
   "metadata": {},
   "source": [
    "%%bash -s \"$folder\"  \"$job_idp\" \"$ssh_host\"  --err err\n",
    "# check job status\n",
    "ssh $3 \"tail -n 10 ~/_scratch/$1/GMX_run/egmx.$2\""
   ]
  },
  {
   "cell_type": "raw",
   "metadata": {},
   "source": [
    "%%bash -s \"$folder\"  \"$job_idp\"  \"$ssh_host\" --err err\n",
    "# check job status\n",
    "ssh $3 \"tail -n 20 ~/_scratch/$1/GMX_run/7_prod.log\""
   ]
  },
  {
   "cell_type": "markdown",
   "metadata": {},
   "source": [
    "### Pull back data for analysis"
   ]
  },
  {
   "cell_type": "raw",
   "metadata": {},
   "source": [
    "%%bash -s \"$folder\" \"$ssh_host\" --err err \n",
    "#Purge # files\n",
    "\n",
    "ssh $2 \"rm -f ~/_scratch/$1/GMX_run/\\#*; ls ~/_scratch/$1/GMX_run/\""
   ]
  },
  {
   "cell_type": "raw",
   "metadata": {},
   "source": [
    "%%bash -s \"$folder\" \"$ssh_host\" --err err --out out\n",
    "#Get back data\n",
    "\n",
    "rsync --partial $2:~/_scratch/$1/GMX_run/7_prod* GMX_run/ ;\n",
    "rsync --partial $2:~/_scratch/$1/GMX_run/egmx* GMX_run/ ;    \n",
    "rsync --partial $2:~/_scratch/$1/GMX_run/ogmx* GMX_run/ ;        "
   ]
  },
  {
   "cell_type": "markdown",
   "metadata": {},
   "source": [
    "### Quick analysis "
   ]
  },
  {
   "cell_type": "markdown",
   "metadata": {},
   "source": [
    "Quick view"
   ]
  },
  {
   "cell_type": "raw",
   "metadata": {},
   "source": [
    "view_nucl('GMX_system/init_solv_ions.pdb','GMX_run/7_prod.xtc')"
   ]
  },
  {
   "cell_type": "markdown",
   "metadata": {},
   "source": [
    "## QC analysis\n",
    "### Let's look at energy, temperature pressure"
   ]
  },
  {
   "cell_type": "raw",
   "metadata": {},
   "source": [
    "\n",
    "df = panedr.edr_to_df('GMX_run/7_prod.edr', verbose=True)\n",
    "num_of_keys=len(df.keys())\n",
    "grid=[1+num_of_keys//3,3]\n",
    "\n",
    "plt.figure(figsize=(grid[1]*6,grid[0]*3))\n",
    "plt.title('Mod')\n",
    "for i,key in enumerate(df.keys(),1):\n",
    "    ax=plt.subplot(*grid, i)\n",
    "    ax.plot(df[key],label=key)\n",
    "    ax.set_xlabel('Time, ps')\n",
    "    ax.legend()    \n",
    "plt.show()"
   ]
  },
  {
   "cell_type": "code",
   "execution_count": null,
   "metadata": {},
   "outputs": [],
   "source": []
  }
 ],
 "metadata": {
  "kernelspec": {
   "display_name": "Python [conda env:moldyn]",
   "language": "python",
   "name": "conda-env-moldyn-py"
  },
  "language_info": {
   "codemirror_mode": {
    "name": "ipython",
    "version": 3
   },
   "file_extension": ".py",
   "mimetype": "text/x-python",
   "name": "python",
   "nbconvert_exporter": "python",
   "pygments_lexer": "ipython3",
   "version": "3.7.3"
  },
  "widgets": {
   "application/vnd.jupyter.widget-state+json": {
    "state": {
     "2822b4114ca34a8aab26754e54187752": {
      "model_module": "@jupyter-widgets/base",
      "model_module_version": "1.2.0",
      "model_name": "LayoutModel",
      "state": {
       "_model_module": "@jupyter-widgets/base",
       "_model_module_version": "1.2.0",
       "_model_name": "LayoutModel",
       "_view_count": null,
       "_view_module": "@jupyter-widgets/base",
       "_view_module_version": "1.2.0",
       "_view_name": "LayoutView",
       "align_content": null,
       "align_items": null,
       "align_self": null,
       "border": null,
       "bottom": null,
       "display": null,
       "flex": null,
       "flex_flow": null,
       "grid_area": null,
       "grid_auto_columns": null,
       "grid_auto_flow": null,
       "grid_auto_rows": null,
       "grid_column": null,
       "grid_gap": null,
       "grid_row": null,
       "grid_template_areas": null,
       "grid_template_columns": null,
       "grid_template_rows": null,
       "height": null,
       "justify_content": null,
       "justify_items": null,
       "left": null,
       "margin": null,
       "max_height": null,
       "max_width": null,
       "min_height": null,
       "min_width": null,
       "object_fit": null,
       "object_position": null,
       "order": null,
       "overflow": null,
       "overflow_x": null,
       "overflow_y": null,
       "padding": null,
       "right": null,
       "top": null,
       "visibility": null,
       "width": null
      }
     },
     "76646d17ffca402ca8458ec93ecc412b": {
      "model_module": "nglview-js-widgets",
      "model_module_version": "2.7.1",
      "model_name": "ColormakerRegistryModel",
      "state": {
       "_dom_classes": [],
       "_model_module": "nglview-js-widgets",
       "_model_module_version": "2.7.1",
       "_model_name": "ColormakerRegistryModel",
       "_msg_ar": [],
       "_msg_q": [],
       "_ready": false,
       "_view_count": null,
       "_view_module": "nglview-js-widgets",
       "_view_module_version": "2.7.1",
       "_view_name": "ColormakerRegistryView",
       "layout": "IPY_MODEL_2822b4114ca34a8aab26754e54187752"
      }
     }
    },
    "version_major": 2,
    "version_minor": 0
   }
  }
 },
 "nbformat": 4,
 "nbformat_minor": 4
}
